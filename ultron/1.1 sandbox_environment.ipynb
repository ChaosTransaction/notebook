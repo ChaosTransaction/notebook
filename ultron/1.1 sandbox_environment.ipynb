{
 "cells": [
  {
   "cell_type": "markdown",
   "metadata": {},
   "source": [
    "沙盒环境进行初始化,包括运行用例的基础环境及依赖数据"
   ]
  },
  {
   "cell_type": "code",
   "execution_count": 1,
   "metadata": {},
   "outputs": [
    {
     "name": "stdout",
     "output_type": "stream",
     "text": [
      "/var/log/ultron/2022-09-27.log\n"
     ]
    }
   ],
   "source": [
    "from ultron.env import *"
   ]
  },
  {
   "cell_type": "markdown",
   "metadata": {},
   "source": [
    "#### 沙盒环境初始化"
   ]
  },
  {
   "cell_type": "code",
   "execution_count": 2,
   "metadata": {},
   "outputs": [
    {
     "name": "stderr",
     "output_type": "stream",
     "text": [
      "2022-09-27 18:48:32,566 - [env.py:46] - ultron - INFO - download sandbox data\n",
      "2022-09-27 18:48:40,159 - [env.py:67] - ultron - INFO - enable example env will only read /home/kerry/ultron/rom/sandbox\n"
     ]
    }
   ],
   "source": [
    "enable_example_env()"
   ]
  },
  {
   "cell_type": "code",
   "execution_count": null,
   "metadata": {},
   "outputs": [],
   "source": []
  }
 ],
 "metadata": {
  "kernelspec": {
   "display_name": "Python 3",
   "language": "python",
   "name": "python3"
  },
  "language_info": {
   "codemirror_mode": {
    "name": "ipython",
    "version": 3
   },
   "file_extension": ".py",
   "mimetype": "text/x-python",
   "name": "python",
   "nbconvert_exporter": "python",
   "pygments_lexer": "ipython3",
   "version": "3.6.8"
  },
  "vscode": {
   "interpreter": {
    "hash": "023b686dc82b0e8878d3b622cd28a0c6134a94f8e70a12a4e5cb2fb0d733df74"
   }
  }
 },
 "nbformat": 4,
 "nbformat_minor": 2
}
