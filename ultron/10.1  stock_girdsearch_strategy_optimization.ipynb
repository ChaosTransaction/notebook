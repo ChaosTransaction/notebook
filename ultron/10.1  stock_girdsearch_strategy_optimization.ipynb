{
 "cells": [
  {
   "cell_type": "markdown",
   "metadata": {},
   "source": [
    "在沙盒环境，gridsearch对股票开平策略组合寻优"
   ]
  },
  {
   "cell_type": "code",
   "execution_count": 1,
   "metadata": {},
   "outputs": [],
   "source": [
    "import os, copy, sys, datetime\n",
    "os.environ['ULTRON_DATA'] = 'minden'\n",
    "os.environ['IGNORE_WARNINGS'] = '0'\n",
    "import numpy as np\n",
    "import pandas as pd"
   ]
  },
  {
   "cell_type": "code",
   "execution_count": 2,
   "metadata": {},
   "outputs": [
    {
     "name": "stdout",
     "output_type": "stream",
     "text": [
      "/var/log/ultron/2022-10-10.log\n"
     ]
    }
   ],
   "source": [
    "from ultron.env import *\n",
    "from ultron.ump.indicator.atr import atr14, atr21\n",
    "from ultron.ump.market.symbol_pd import _benchmark\n",
    "from ultron.ump.factor import FactorPreAtrNStop, FactorAtrNStop, FactorCloseAtrNStop, FactorBuyBreak\n",
    "from ultron.ump.metrics import grid_helper as GridHelper\n",
    "from ultron.ump.metrics.grid_search import GridSearch\n",
    "from ultron.ump.metrics.metrics_base import MetricsBase\n",
    "from ultron.ump.metrics.score import WrsmScorer, BaseScorer\n",
    "from ultron.ump.metrics.base import MetricsDemo\n",
    "from matplotlib import pyplot as plt\n",
    "import seaborn as sns"
   ]
  },
  {
   "cell_type": "markdown",
   "metadata": {},
   "source": [
    "####  参数取值范围"
   ]
  },
  {
   "cell_type": "code",
   "execution_count": 3,
   "metadata": {},
   "outputs": [],
   "source": [
    "market_trade_year = 252\n",
    "n_fold = 2"
   ]
  },
  {
   "cell_type": "markdown",
   "metadata": {},
   "source": [
    "###### 平仓组合取值范围"
   ]
  },
  {
   "cell_type": "code",
   "execution_count": 4,
   "metadata": {},
   "outputs": [
    {
     "name": "stdout",
     "output_type": "stream",
     "text": [
      "FactorAtrNStop止盈参数stop_win_n设置范围:[2.]\n",
      "FactorAtrNStop止损参数stop_loss_n设置范围:[0.5]\n"
     ]
    }
   ],
   "source": [
    "stop_win_range = np.arange(2.0, 2.5, 0.5)\n",
    "stop_loss_range = np.arange(0.5, 1., 0.5)\n",
    "\n",
    "sell_atr_nstop_factor_grid = {\n",
    "    'class': [FactorAtrNStop],\n",
    "    'stop_loss_n': stop_loss_range,\n",
    "    'stop_win_n': stop_win_range\n",
    "}\n",
    "\n",
    "print('FactorAtrNStop止盈参数stop_win_n设置范围:{}'.format(stop_win_range))\n",
    "print('FactorAtrNStop止损参数stop_loss_n设置范围:{}'.format(stop_loss_range))"
   ]
  },
  {
   "cell_type": "code",
   "execution_count": 5,
   "metadata": {},
   "outputs": [
    {
     "name": "stdout",
     "output_type": "stream",
     "text": [
      "暴跌保护止损参数pre_atr_n设置范围:[1.]\n",
      "盈利保护止盈参数close_atr_n设置范围:[1.]\n"
     ]
    }
   ],
   "source": [
    "close_atr_range = np.arange(1.0, 1.5, 0.5)\n",
    "pre_atr_range = np.arange(1.0, 1.5, 0.5)\n",
    "\n",
    "sell_atr_pre_factor_grid = {\n",
    "    'class': [FactorPreAtrNStop],\n",
    "    'pre_atr_n': pre_atr_range\n",
    "}\n",
    "\n",
    "sell_atr_close_factor_grid = {\n",
    "    'class': [FactorCloseAtrNStop],\n",
    "    'close_atr_n': close_atr_range\n",
    "}\n",
    "\n",
    "print('暴跌保护止损参数pre_atr_n设置范围:{}'.format(pre_atr_range))\n",
    "print('盈利保护止盈参数close_atr_n设置范围:{}'.format(close_atr_range))"
   ]
  },
  {
   "cell_type": "code",
   "execution_count": 6,
   "metadata": {},
   "outputs": [
    {
     "name": "stdout",
     "output_type": "stream",
     "text": [
      "卖出因子参数共有5种组合方式\n",
      "卖出因子组合0: 形式为[{'class': <class 'ultron.ump.factor.sell.atrn_stop.FactorAtrNStop'>, 'stop_loss_n': 0.5, 'stop_win_n': 2.0}, {'class': <class 'ultron.ump.factor.sell.pre_atrn_stop.FactorPreAtrNStop'>, 'pre_atr_n': 1.0}, {'class': <class 'ultron.ump.factor.sell.close_atrn_stop.FactorCloseAtrNStop'>, 'close_atr_n': 1.0}]\n"
     ]
    }
   ],
   "source": [
    "sell_factors_product = GridHelper.gen_factor_grid(\n",
    "    GridHelper.K_GEN_FACTOR_PARAMS_SELL, [\n",
    "        sell_atr_nstop_factor_grid, sell_atr_pre_factor_grid,\n",
    "        sell_atr_close_factor_grid\n",
    "    ],\n",
    "    need_empty_sell=True)\n",
    "\n",
    "print('卖出因子参数共有{}种组合方式'.format(len(sell_factors_product)))\n",
    "print('卖出因子组合0: 形式为{}'.format(sell_factors_product[0]))"
   ]
  },
  {
   "cell_type": "markdown",
   "metadata": {},
   "source": [
    "###### 开仓组合取值范围"
   ]
  },
  {
   "cell_type": "code",
   "execution_count": 7,
   "metadata": {},
   "outputs": [
    {
     "name": "stdout",
     "output_type": "stream",
     "text": [
      "买入因子参数共有3种组合方式\n",
      "买入因子组合形式为[[{'class': <class 'ultron.ump.factor.buy.buy_break.FactorBuyBreak'>, 'xd': 42}, {'class': <class 'ultron.ump.factor.buy.buy_break.FactorBuyBreak'>, 'xd': 60}], [{'class': <class 'ultron.ump.factor.buy.buy_break.FactorBuyBreak'>, 'xd': 42}], [{'class': <class 'ultron.ump.factor.buy.buy_break.FactorBuyBreak'>, 'xd': 60}]]\n"
     ]
    }
   ],
   "source": [
    "buy_bk_factor_grid1 = {'class': [FactorBuyBreak], 'xd': [42]}\n",
    "\n",
    "buy_bk_factor_grid2 = {'class': [FactorBuyBreak], 'xd': [60]}\n",
    "\n",
    "buy_factors_product = GridHelper.gen_factor_grid(\n",
    "    GridHelper.K_GEN_FACTOR_PARAMS_BUY,\n",
    "    [buy_bk_factor_grid1, buy_bk_factor_grid2])\n",
    "\n",
    "print('买入因子参数共有{}种组合方式'.format(len(buy_factors_product)))\n",
    "print('买入因子组合形式为{}'.format(buy_factors_product))"
   ]
  },
  {
   "cell_type": "code",
   "execution_count": 8,
   "metadata": {},
   "outputs": [
    {
     "name": "stdout",
     "output_type": "stream",
     "text": [
      "组合因子参数数量15\n"
     ]
    }
   ],
   "source": [
    "print('组合因子参数数量{}'.format(len(buy_factors_product) * len(sell_factors_product) ))"
   ]
  },
  {
   "cell_type": "markdown",
   "metadata": {},
   "source": [
    "##### ATR 计算"
   ]
  },
  {
   "cell_type": "code",
   "execution_count": 9,
   "metadata": {},
   "outputs": [],
   "source": [
    "def calc_atr(kline_df):\n",
    "    kline_df['atr21'] = 0\n",
    "    if kline_df.shape[0] > 21:\n",
    "        # 大于21d计算atr21\n",
    "        kline_df['atr21'] = atr21(kline_df['high'].values,\n",
    "                                  kline_df['low'].values,\n",
    "                                  kline_df['pre_close'].values)\n",
    "        # 将前面的bfill\n",
    "        kline_df['atr21'].fillna(method='bfill', inplace=True)\n",
    "    kline_df['atr14'] = 0\n",
    "    if kline_df.shape[0] > 14:\n",
    "        # 大于14d计算atr14\n",
    "        kline_df['atr14'] = atr14(kline_df['high'].values,\n",
    "                                  kline_df['low'].values,\n",
    "                                  kline_df['pre_close'].values)\n",
    "        # 将前面的bfill\n",
    "        kline_df['atr14'].fillna(method='bfill', inplace=True)"
   ]
  },
  {
   "cell_type": "markdown",
   "metadata": {},
   "source": [
    "#### Grid Search寻找最优参数"
   ]
  },
  {
   "cell_type": "code",
   "execution_count": 10,
   "metadata": {},
   "outputs": [],
   "source": [
    "read_cash = 1000000"
   ]
  },
  {
   "cell_type": "markdown",
   "metadata": {},
   "source": [
    "##### 加载行情"
   ]
  },
  {
   "cell_type": "code",
   "execution_count": 11,
   "metadata": {},
   "outputs": [],
   "source": [
    "pick_kl_pd_dict = {}"
   ]
  },
  {
   "cell_type": "code",
   "execution_count": 12,
   "metadata": {},
   "outputs": [],
   "source": [
    "indicator_data = pd.read_csv(os.path.join(g_project_data, 'indicator.csv'),\n",
    "                             index_col=0)\n",
    "indicator_data['date'] = pd.to_datetime(\n",
    "    indicator_data['trade_date']).dt.strftime('%Y%m%d').astype(int)\n",
    "indicator_data['date_week'] = indicator_data['date'].apply(\n",
    "    lambda x: datetime.datetime.strptime(str(x), '%Y%m%d').weekday())\n",
    "indicator_data['trade_date'] = pd.to_datetime(indicator_data['trade_date'])\n",
    "indicator_data = indicator_data.rename(\n",
    "    columns={\n",
    "        'preClosePrice': 'pre_close',\n",
    "        'openPrice': 'open',\n",
    "        'closePrice': 'close',\n",
    "        'highestPrice': 'high',\n",
    "        'lowestPrice': 'low',\n",
    "        'turnoverVol': 'volume'\n",
    "    }).drop(['turnoverValue'], axis=1).set_index(['trade_date'])\n",
    "indicator_data['p_change'] = indicator_data['p_change'] * 100\n",
    "\n",
    "\n",
    "code = 300002\n",
    "benchmark_kl_pd = indicator_data.reset_index().set_index(\n",
    "    'code').loc[code].reset_index().set_index('trade_date')\n",
    "benchmark_kl_pd['key'] = list(range(0, len(benchmark_kl_pd)))\n",
    "benchmark_kl_pd.index = pd.to_datetime(benchmark_kl_pd.index)\n",
    "calc_atr(benchmark_kl_pd)\n",
    "ind = benchmark_kl_pd.key.values[-1] - market_trade_year * n_fold + 1\n",
    "start_date = benchmark_kl_pd.index[ind]\n",
    "benchmark_kl_pd = benchmark_kl_pd.loc[start_date:]\n",
    "benchmark_kl_pd.name = 'sz' + str(code)\n",
    "\n",
    "\n",
    "\n",
    "\n",
    "pick_kl_pd_dict = {}\n",
    "choice_symbols = [code for code in indicator_data.code.unique().tolist()[0:8] if str(code) != '300002']\n",
    "for code in choice_symbols:\n",
    "    kl_pd = indicator_data.reset_index().set_index(\n",
    "        'code').loc[code].reset_index().set_index('trade_date')\n",
    "    kl_pd.index = pd.to_datetime(kl_pd.index)\n",
    "    kl_pd.name = 'sz' + str(code)\n",
    "    kl_pd = _benchmark(kl_pd, benchmark_kl_pd)\n",
    "    calc_atr(kl_pd)\n",
    "    kl_pd['key'] = list(range(0, len(kl_pd)))\n",
    "    pick_kl_pd_dict['sz' + str(code)] = kl_pd\n",
    "\n",
    "choice_symbols = ['sz' + str(code) for code in choice_symbols]"
   ]
  },
  {
   "cell_type": "code",
   "execution_count": 13,
   "metadata": {},
   "outputs": [],
   "source": [
    "grid_search = GridSearch(read_cash,\n",
    "                         choice_symbols,\n",
    "                         benchmark_kl_pd=benchmark_kl_pd,\n",
    "                         buy_factors_product=buy_factors_product,\n",
    "                         sell_factors_product=sell_factors_product)"
   ]
  },
  {
   "cell_type": "code",
   "execution_count": 14,
   "metadata": {},
   "outputs": [],
   "source": [
    "#### 外部设置K线\n",
    "grid_search.kl_pd_manager.set_pick_time(pick_kl_pd_dict)"
   ]
  },
  {
   "cell_type": "code",
   "execution_count": 15,
   "metadata": {
    "scrolled": true
   },
   "outputs": [
    {
     "data": {
      "application/vnd.jupyter.widget-view+json": {
       "model_id": "",
       "version_major": 2,
       "version_minor": 0
      },
      "text/plain": [
       "Box(children=(Text(value='pid=9826 begin work'), FloatProgress(value=0.0)))"
      ]
     },
     "metadata": {},
     "output_type": "display_data"
    },
    {
     "name": "stdout",
     "output_type": "stream",
     "text": [
      "\r"
     ]
    }
   ],
   "source": [
    "scores, score_tuple_array  = grid_search.fit(n_jobs=1)"
   ]
  },
  {
   "cell_type": "code",
   "execution_count": 16,
   "metadata": {},
   "outputs": [
    {
     "data": {
      "text/plain": [
       "(list, ultron.ump.metrics.score.ScoreTuple)"
      ]
     },
     "execution_count": 16,
     "metadata": {},
     "output_type": "execute_result"
    }
   ],
   "source": [
    "type(score_tuple_array), type(score_tuple_array[0])"
   ]
  },
  {
   "cell_type": "code",
   "execution_count": 17,
   "metadata": {},
   "outputs": [
    {
     "name": "stdout",
     "output_type": "stream",
     "text": [
      "最终评分结果数量15\n"
     ]
    }
   ],
   "source": [
    "print('最终评分结果数量{}'.format(len(scores)))"
   ]
  },
  {
   "cell_type": "markdown",
   "metadata": {},
   "source": [
    "grid_search中保存了得到分数最高的对象best_score_tuple_grid，如图："
   ]
  },
  {
   "cell_type": "code",
   "execution_count": 18,
   "metadata": {},
   "outputs": [],
   "source": [
    "best_score_tuple_grid = grid_search.best_score_tuple_grid"
   ]
  },
  {
   "cell_type": "code",
   "execution_count": 19,
   "metadata": {},
   "outputs": [],
   "source": [
    "metrics = MetricsBase.show_general(best_score_tuple_grid.orders_pd, best_score_tuple_grid.action_pd,\n",
    "                                        best_score_tuple_grid.capital, best_score_tuple_grid.benchmark)"
   ]
  },
  {
   "cell_type": "code",
   "execution_count": 20,
   "metadata": {},
   "outputs": [
    {
     "name": "stdout",
     "output_type": "stream",
     "text": [
      "买入后卖出的交易数量:31\n",
      "买入后尚未卖出的交易数量:10\n",
      "胜率:54.8387%\n",
      "平均获利期望:18.4467%\n",
      "平均亏损期望:-5.6186%\n",
      "盈亏比:4.7920\n",
      "所有交易收益比例和:2.3493 \n",
      "所有交易总盈亏和:360026.8500 \n"
     ]
    }
   ],
   "source": [
    "## 非真实成交的度量，认为资金无限，无资金管理的情况下总体情况\n",
    "print('买入后卖出的交易数量:{}'.format(metrics.order_has_ret.shape[0]))\n",
    "print('买入后尚未卖出的交易数量:{}'.format(metrics.order_keep.shape[0]))\n",
    "print('胜率:{:.4f}%'.format(metrics.win_rate * 100))\n",
    "print('平均获利期望:{:.4f}%'.format(metrics.gains_mean * 100))\n",
    "print('平均亏损期望:{:.4f}%'.format(metrics.losses_mean * 100))\n",
    "print('盈亏比:{:.4f}'.format(metrics.win_loss_profit_rate))\n",
    "print('所有交易收益比例和:{:.4f} '.format(metrics.order_has_ret.profit_cg.sum()))\n",
    "print('所有交易总盈亏和:{:.4f} '.format(metrics.all_profit))"
   ]
  },
  {
   "cell_type": "code",
   "execution_count": 21,
   "metadata": {},
   "outputs": [
    {
     "data": {
      "text/plain": [
       "<AxesSubplot:title={'center':'profit_cg cumsum'}>"
      ]
     },
     "execution_count": 21,
     "metadata": {},
     "output_type": "execute_result"
    },
    {
     "data": {
      "image/png": "[encoded data removed]",
      "text/plain": [
       "<Figure size 1008x504 with 1 Axes>"
      ]
     },
     "metadata": {
      "needs_background": "light"
     },
     "output_type": "display_data"
    }
   ],
   "source": [
    "plt.figure(figsize=(14, 7))\n",
    "metrics.order_has_ret.sort_values('buy_date')['profit_cg'].cumsum().plot(\n",
    "            grid=True, title='profit_cg cumsum')"
   ]
  },
  {
   "cell_type": "code",
   "execution_count": 22,
   "metadata": {},
   "outputs": [
    {
     "name": "stdout",
     "output_type": "stream",
     "text": [
      "买入后卖出的交易数量:31\n",
      "买入后尚未卖出的交易数量:10\n",
      "胜率:54.8387%\n",
      "平均获利期望:18.4467%\n",
      "平均亏损期望:-5.6186%\n",
      "盈亏比:4.7920\n",
      "策略收益: 30.1201%\n",
      "基准收益: -35.9288%\n",
      "策略年化收益: 14.9405%\n",
      "基准年化收益: -17.8218%\n",
      "策略买入成交比例:97.5610%\n",
      "策略资金利用率比例:31.5827%\n",
      "策略共执行504个交易日\n"
     ]
    }
   ],
   "source": [
    "## 考虑资金情况下的度量，进行与benchmark的收益度量对比\n",
    "print('买入后卖出的交易数量:{}'.format(metrics.order_has_ret.shape[0]))\n",
    "print('买入后尚未卖出的交易数量:{}'.format(metrics.order_keep.shape[0]))\n",
    "\n",
    "print('胜率:{:.4f}%'.format(metrics.win_rate * 100))\n",
    "\n",
    "print('平均获利期望:{:.4f}%'.format(metrics.gains_mean * 100))\n",
    "print('平均亏损期望:{:.4f}%'.format(metrics.losses_mean * 100))\n",
    "\n",
    "print('盈亏比:{:.4f}'.format(metrics.win_loss_profit_rate))\n",
    "\n",
    "print('策略收益: {:.4f}%'.format(metrics.algorithm_period_returns *\n",
    "                                             100))\n",
    "print('基准收益: {:.4f}%'.format(metrics.benchmark_period_returns *\n",
    "                                             100))\n",
    "print('策略年化收益: {:.4f}%'.format(\n",
    "            metrics.algorithm_annualized_returns * 100))\n",
    "print('基准年化收益: {:.4f}%'.format(\n",
    "            metrics.benchmark_annualized_returns * 100))\n",
    "\n",
    "print('策略买入成交比例:{:.4f}%'.format(metrics.buy_deal_rate * 100))\n",
    "print('策略资金利用率比例:{:.4f}%'.format(metrics.cash_utilization * 100))\n",
    "print('策略共执行{}个交易日'.format(metrics.num_trading_days))"
   ]
  },
  {
   "cell_type": "code",
   "execution_count": 23,
   "metadata": {},
   "outputs": [
    {
     "data": {
      "image/png": "[encoded data removed]",
      "text/plain": [
       "<Figure size 1008x504 with 1 Axes>"
      ]
     },
     "metadata": {
      "needs_background": "light"
     },
     "output_type": "display_data"
    }
   ],
   "source": [
    "plt.figure(figsize=(14, 7))\n",
    "metrics.benchmark_cum_returns.plot()\n",
    "metrics.algorithm_cum_returns.plot()\n",
    "plt.legend(['benchmark returns', 'algorithm returns'], loc='best')\n",
    "plt.show()"
   ]
  },
  {
   "cell_type": "code",
   "execution_count": 24,
   "metadata": {},
   "outputs": [
    {
     "data": {
      "image/png": "[encoded data removed]",
      "text/plain": [
       "<Figure size 1008x504 with 1 Axes>"
      ]
     },
     "metadata": {
      "needs_background": "light"
     },
     "output_type": "display_data"
    }
   ],
   "source": [
    "plt.figure(figsize=(14, 7))\n",
    "sns.regplot(x=np.arange(0, len(metrics.algorithm_cum_returns)),y=metrics.algorithm_cum_returns.values)\n",
    "plt.show()"
   ]
  },
  {
   "cell_type": "code",
   "execution_count": 25,
   "metadata": {},
   "outputs": [
    {
     "data": {
      "image/png": "[encoded data removed]",
      "text/plain": [
       "<Figure size 1008x504 with 1 Axes>"
      ]
     },
     "metadata": {
      "needs_background": "light"
     },
     "output_type": "display_data"
    }
   ],
   "source": [
    "plt.figure(figsize=(14, 7))\n",
    "sns.distplot(metrics.capital.capital_pd['capital_blance'],\n",
    "                     kde_kws={\n",
    "                         \"lw\": 3,\n",
    "                         \"label\": \"capital blance kde\"\n",
    "                     })\n",
    "plt.show()"
   ]
  },
  {
   "cell_type": "markdown",
   "metadata": {},
   "source": [
    "##### sharp，volatility的策略与基准对比"
   ]
  },
  {
   "cell_type": "code",
   "execution_count": 26,
   "metadata": {},
   "outputs": [
    {
     "name": "stdout",
     "output_type": "stream",
     "text": [
      "alpha阿尔法:0.1537\n",
      "beta贝塔:0.0686\n",
      "Information信息比率:0.0315\n",
      "策略Sharpe夏普比率: 0.8458\n",
      "基准Sharpe夏普比率: -0.2013\n",
      "策略波动率Volatility: 0.1736\n",
      "基准波动率Volatility: 0.4978\n"
     ]
    }
   ],
   "source": [
    "print('alpha阿尔法:{:.4f}'.format(metrics.alpha))\n",
    "print('beta贝塔:{:.4f}'.format(metrics.beta))\n",
    "print('Information信息比率:{:.4f}'.format(metrics.information))\n",
    "\n",
    "print('策略Sharpe夏普比率: {:.4f}'.format(metrics.algorithm_sharpe))\n",
    "print('基准Sharpe夏普比率: {:.4f}'.format(metrics.benchmark_sharpe))\n",
    "\n",
    "print('策略波动率Volatility: {:.4f}'.format(\n",
    "metrics.algorithm_volatility))\n",
    "print('基准波动率Volatility: {:.4f}'.format(\n",
    "            metrics.benchmark_volatility))"
   ]
  },
  {
   "cell_type": "code",
   "execution_count": 27,
   "metadata": {},
   "outputs": [
    {
     "data": {
      "text/plain": [
       "<Figure size 1008x504 with 0 Axes>"
      ]
     },
     "metadata": {},
     "output_type": "display_data"
    },
    {
     "data": {
      "image/png": "[encoded data removed]",
      "text/plain": [
       "<Figure size 432x288 with 1 Axes>"
      ]
     },
     "metadata": {
      "needs_background": "light"
     },
     "output_type": "display_data"
    }
   ],
   "source": [
    "plt.figure(figsize=(14, 7))\n",
    "sharp_volatility = pd.DataFrame(\n",
    "            [[metrics.algorithm_sharpe, metrics.benchmark_sharpe],\n",
    "             [metrics.algorithm_volatility, metrics.benchmark_volatility]])\n",
    "sharp_volatility.columns = ['algorithm', 'benchmark']\n",
    "sharp_volatility.index = ['sharpe', 'volatility']\n",
    "sharp_volatility.plot(kind='bar', alpha=0.5)\n",
    "_ = plt.setp(plt.gca().get_xticklabels(), rotation=30)\n",
    "plt.show()"
   ]
  },
  {
   "cell_type": "markdown",
   "metadata": {},
   "source": [
    "#### 度量结果的评分"
   ]
  },
  {
   "cell_type": "code",
   "execution_count": 28,
   "metadata": {
    "scrolled": true
   },
   "outputs": [],
   "source": [
    "scorer = WrsmScorer(score_tuple_array)"
   ]
  },
  {
   "cell_type": "code",
   "execution_count": 29,
   "metadata": {},
   "outputs": [
    {
     "data": {
      "text/html": [
       "<div>\n",
       "<style scoped>\n",
       "    .dataframe tbody tr th:only-of-type {\n",
       "        vertical-align: middle;\n",
       "    }\n",
       "\n",
       "    .dataframe tbody tr th {\n",
       "        vertical-align: top;\n",
       "    }\n",
       "\n",
       "    .dataframe thead th {\n",
       "        text-align: right;\n",
       "    }\n",
       "</style>\n",
       "<table border=\"1\" class=\"dataframe\">\n",
       "  <thead>\n",
       "    <tr style=\"text-align: right;\">\n",
       "      <th></th>\n",
       "      <th>win_rate</th>\n",
       "      <th>returns</th>\n",
       "      <th>sharpe</th>\n",
       "      <th>max_drawdown</th>\n",
       "      <th>score_win_rate</th>\n",
       "      <th>score_returns</th>\n",
       "      <th>score_sharpe</th>\n",
       "      <th>score_max_drawdown</th>\n",
       "      <th>score</th>\n",
       "    </tr>\n",
       "  </thead>\n",
       "  <tbody>\n",
       "    <tr>\n",
       "      <th>13</th>\n",
       "      <td>0.4545</td>\n",
       "      <td>0.0653</td>\n",
       "      <td>0.3365</td>\n",
       "      <td>-0.1171</td>\n",
       "      <td>0.8571</td>\n",
       "      <td>0.6429</td>\n",
       "      <td>0.6429</td>\n",
       "      <td>0.6429</td>\n",
       "      <td>0.6964</td>\n",
       "    </tr>\n",
       "    <tr>\n",
       "      <th>5</th>\n",
       "      <td>0.2857</td>\n",
       "      <td>0.0512</td>\n",
       "      <td>0.3394</td>\n",
       "      <td>-0.0740</td>\n",
       "      <td>0.7857</td>\n",
       "      <td>0.5714</td>\n",
       "      <td>0.7143</td>\n",
       "      <td>0.8571</td>\n",
       "      <td>0.7321</td>\n",
       "    </tr>\n",
       "    <tr>\n",
       "      <th>6</th>\n",
       "      <td>0.1818</td>\n",
       "      <td>0.1290</td>\n",
       "      <td>0.6152</td>\n",
       "      <td>-0.0635</td>\n",
       "      <td>0.3571</td>\n",
       "      <td>0.7857</td>\n",
       "      <td>0.8571</td>\n",
       "      <td>0.9286</td>\n",
       "      <td>0.7321</td>\n",
       "    </tr>\n",
       "    <tr>\n",
       "      <th>3</th>\n",
       "      <td>0.5094</td>\n",
       "      <td>0.2931</td>\n",
       "      <td>0.6714</td>\n",
       "      <td>-0.2242</td>\n",
       "      <td>0.9286</td>\n",
       "      <td>0.9286</td>\n",
       "      <td>0.9286</td>\n",
       "      <td>0.2143</td>\n",
       "      <td>0.7500</td>\n",
       "    </tr>\n",
       "    <tr>\n",
       "      <th>8</th>\n",
       "      <td>0.5484</td>\n",
       "      <td>0.3012</td>\n",
       "      <td>0.8458</td>\n",
       "      <td>-0.1696</td>\n",
       "      <td>1.0000</td>\n",
       "      <td>1.0000</td>\n",
       "      <td>1.0000</td>\n",
       "      <td>0.3571</td>\n",
       "      <td>0.8393</td>\n",
       "    </tr>\n",
       "  </tbody>\n",
       "</table>\n",
       "</div>"
      ],
      "text/plain": [
       "    win_rate  returns  sharpe  max_drawdown  score_win_rate  score_returns  \\\n",
       "13    0.4545   0.0653  0.3365       -0.1171          0.8571         0.6429   \n",
       "5     0.2857   0.0512  0.3394       -0.0740          0.7857         0.5714   \n",
       "6     0.1818   0.1290  0.6152       -0.0635          0.3571         0.7857   \n",
       "3     0.5094   0.2931  0.6714       -0.2242          0.9286         0.9286   \n",
       "8     0.5484   0.3012  0.8458       -0.1696          1.0000         1.0000   \n",
       "\n",
       "    score_sharpe  score_max_drawdown   score  \n",
       "13        0.6429              0.6429  0.6964  \n",
       "5         0.7143              0.8571  0.7321  \n",
       "6         0.8571              0.9286  0.7321  \n",
       "3         0.9286              0.2143  0.7500  \n",
       "8         1.0000              0.3571  0.8393  "
      ]
     },
     "execution_count": 29,
     "metadata": {},
     "output_type": "execute_result"
    }
   ],
   "source": [
    "scorer.fit_score()\n",
    "scorer.score_pd.tail()"
   ]
  },
  {
   "cell_type": "markdown",
   "metadata": {},
   "source": [
    "由于fit_score()函数的实现只是对score_pd的'score'项进行排序后返回score，这样最终的结果为分数及对应score_tuple_array的序列号，从上面输出可以看出665为最优参数序号"
   ]
  },
  {
   "cell_type": "markdown",
   "metadata": {},
   "source": [
    "#### 不同权重的评分"
   ]
  },
  {
   "cell_type": "code",
   "execution_count": 30,
   "metadata": {
    "scrolled": true
   },
   "outputs": [],
   "source": [
    "# 实例化WrsmScorer，参数weights，只有第二项为1，其他都是0，\n",
    "# 代表只考虑投资回报来评分\n",
    "scorer = WrsmScorer(score_tuple_array, weights=[0, 1, 0, 0])\n",
    "# 返回排序后的队列\n",
    "scorer_returns_max = scorer.fit_score()\n",
    "# 因为是倒序排序，所以index最后一个为最优参数\n",
    "best_score_tuple_grid = score_tuple_array[scorer_returns_max.index[-1]]"
   ]
  },
  {
   "cell_type": "code",
   "execution_count": 31,
   "metadata": {},
   "outputs": [],
   "source": [
    "metrics = MetricsBase.show_general(best_score_tuple_grid.orders_pd, best_score_tuple_grid.action_pd,\n",
    "                                        best_score_tuple_grid.capital, best_score_tuple_grid.benchmark)"
   ]
  },
  {
   "cell_type": "code",
   "execution_count": 32,
   "metadata": {},
   "outputs": [
    {
     "name": "stdout",
     "output_type": "stream",
     "text": [
      "买入后卖出的交易数量:31\n",
      "买入后尚未卖出的交易数量:10\n",
      "胜率:54.8387%\n",
      "平均获利期望:18.4467%\n",
      "平均亏损期望:-5.6186%\n",
      "盈亏比:4.7920\n",
      "所有交易收益比例和:2.3493 \n",
      "所有交易总盈亏和:360026.8500 \n"
     ]
    }
   ],
   "source": [
    "## 非真实成交的度量，认为资金无限，无资金管理的情况下总体情况\n",
    "print('买入后卖出的交易数量:{}'.format(metrics.order_has_ret.shape[0]))\n",
    "print('买入后尚未卖出的交易数量:{}'.format(metrics.order_keep.shape[0]))\n",
    "print('胜率:{:.4f}%'.format(metrics.win_rate * 100))\n",
    "print('平均获利期望:{:.4f}%'.format(metrics.gains_mean * 100))\n",
    "print('平均亏损期望:{:.4f}%'.format(metrics.losses_mean * 100))\n",
    "print('盈亏比:{:.4f}'.format(metrics.win_loss_profit_rate))\n",
    "print('所有交易收益比例和:{:.4f} '.format(metrics.order_has_ret.profit_cg.sum()))\n",
    "print('所有交易总盈亏和:{:.4f} '.format(metrics.all_profit))"
   ]
  },
  {
   "cell_type": "markdown",
   "metadata": {},
   "source": [
    "### 自定义评分类的实现"
   ]
  },
  {
   "cell_type": "code",
   "execution_count": 33,
   "metadata": {},
   "outputs": [],
   "source": [
    "class DemoScorer(BaseScorer):\n",
    "    def _init_self_begin(self, *arg, **kwargs):\n",
    "        \"\"\"胜率，策略收益，alpha组成select_score_func\"\"\"\n",
    "\n",
    "        self.select_score_func = lambda metrics: [metrics.win_rate, metrics.algorithm_period_returns,\n",
    "                                                  metrics.alpha]\n",
    "        self.columns_name = ['win_rate', 'returns', 'alpha']\n",
    "        self.weights_cnt = len(self.columns_name)\n",
    "\n",
    "    def _init_self_end(self, *arg, **kwargs):\n",
    "        \"\"\"\n",
    "        _init_self_end这里一般的任务是将score_pd中需要反转的反转，默认是数据越大越好，有些是越小越好，\n",
    "        类似make_scorer(xxx, greater_is_better=True)中的参数greater_is_better的作用：\n",
    "\n",
    "                            sign = 1 if greater_is_better else -1\n",
    "        \"\"\"\n",
    "        self.score_pd['alpha'] = -self.score_pd['alpha'] ## 此处为假设条件"
   ]
  },
  {
   "cell_type": "code",
   "execution_count": 34,
   "metadata": {},
   "outputs": [
    {
     "data": {
      "text/html": [
       "<div>\n",
       "<style scoped>\n",
       "    .dataframe tbody tr th:only-of-type {\n",
       "        vertical-align: middle;\n",
       "    }\n",
       "\n",
       "    .dataframe tbody tr th {\n",
       "        vertical-align: top;\n",
       "    }\n",
       "\n",
       "    .dataframe thead th {\n",
       "        text-align: right;\n",
       "    }\n",
       "</style>\n",
       "<table border=\"1\" class=\"dataframe\">\n",
       "  <thead>\n",
       "    <tr style=\"text-align: right;\">\n",
       "      <th></th>\n",
       "      <th>win_rate</th>\n",
       "      <th>returns</th>\n",
       "      <th>alpha</th>\n",
       "      <th>score_win_rate</th>\n",
       "      <th>score_returns</th>\n",
       "      <th>score_alpha</th>\n",
       "      <th>score</th>\n",
       "    </tr>\n",
       "  </thead>\n",
       "  <tbody>\n",
       "    <tr>\n",
       "      <th>2</th>\n",
       "      <td>0.2000</td>\n",
       "      <td>-0.0188</td>\n",
       "      <td>-0.0156</td>\n",
       "      <td>0.5000</td>\n",
       "      <td>0.1429</td>\n",
       "      <td>0.7143</td>\n",
       "      <td>0.4524</td>\n",
       "    </tr>\n",
       "    <tr>\n",
       "      <th>11</th>\n",
       "      <td>0.1364</td>\n",
       "      <td>0.0053</td>\n",
       "      <td>-0.0110</td>\n",
       "      <td>0.2143</td>\n",
       "      <td>0.2857</td>\n",
       "      <td>0.7857</td>\n",
       "      <td>0.4286</td>\n",
       "    </tr>\n",
       "    <tr>\n",
       "      <th>10</th>\n",
       "      <td>0.2174</td>\n",
       "      <td>-0.0038</td>\n",
       "      <td>-0.0018</td>\n",
       "      <td>0.6429</td>\n",
       "      <td>0.2143</td>\n",
       "      <td>0.8571</td>\n",
       "      <td>0.5714</td>\n",
       "    </tr>\n",
       "    <tr>\n",
       "      <th>14</th>\n",
       "      <td>0.0000</td>\n",
       "      <td>-0.0980</td>\n",
       "      <td>-0.0010</td>\n",
       "      <td>0.0714</td>\n",
       "      <td>0.0000</td>\n",
       "      <td>0.9286</td>\n",
       "      <td>0.3333</td>\n",
       "    </tr>\n",
       "    <tr>\n",
       "      <th>12</th>\n",
       "      <td>0.1818</td>\n",
       "      <td>-0.0589</td>\n",
       "      <td>0.0246</td>\n",
       "      <td>0.3571</td>\n",
       "      <td>0.0714</td>\n",
       "      <td>1.0000</td>\n",
       "      <td>0.4762</td>\n",
       "    </tr>\n",
       "  </tbody>\n",
       "</table>\n",
       "</div>"
      ],
      "text/plain": [
       "    win_rate  returns   alpha  score_win_rate  score_returns  score_alpha  \\\n",
       "2     0.2000  -0.0188 -0.0156          0.5000         0.1429       0.7143   \n",
       "11    0.1364   0.0053 -0.0110          0.2143         0.2857       0.7857   \n",
       "10    0.2174  -0.0038 -0.0018          0.6429         0.2143       0.8571   \n",
       "14    0.0000  -0.0980 -0.0010          0.0714         0.0000       0.9286   \n",
       "12    0.1818  -0.0589  0.0246          0.3571         0.0714       1.0000   \n",
       "\n",
       "     score  \n",
       "2   0.4524  \n",
       "11  0.4286  \n",
       "10  0.5714  \n",
       "14  0.3333  \n",
       "12  0.4762  "
      ]
     },
     "execution_count": 34,
     "metadata": {},
     "output_type": "execute_result"
    }
   ],
   "source": [
    "scorer = DemoScorer(score_tuple_array, metrics_class=MetricsDemo)\n",
    "# 返回按照评分排序后的队列\n",
    "scorer_returns_max = scorer.fit_score()\n",
    "scorer.score_pd.sort_values(by='alpha').tail()"
   ]
  },
  {
   "cell_type": "code",
   "execution_count": null,
   "metadata": {},
   "outputs": [],
   "source": []
  }
 ],
 "metadata": {
  "kernelspec": {
   "display_name": "Python 3",
   "language": "python",
   "name": "python3"
  },
  "language_info": {
   "codemirror_mode": {
    "name": "ipython",
    "version": 3
   },
   "file_extension": ".py",
   "mimetype": "text/x-python",
   "name": "python",
   "nbconvert_exporter": "python",
   "pygments_lexer": "ipython3",
   "version": "3.6.8"
  }
 },
 "nbformat": 4,
 "nbformat_minor": 2
}
