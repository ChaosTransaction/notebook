{
 "cells": [
  {
   "cell_type": "markdown",
   "metadata": {},
   "source": [
    "在沙盒环境，股票交易策略及拦截模型择时优化"
   ]
  },
  {
   "cell_type": "code",
   "execution_count": 1,
   "metadata": {},
   "outputs": [],
   "source": [
    "import os, copy, sys, datetime\n",
    "os.environ['ULTRON_DATA'] = 'minden'\n",
    "os.environ['IGNORE_WARNINGS'] = '0'\n",
    "import numpy as np\n",
    "import pandas as pd"
   ]
  },
  {
   "cell_type": "code",
   "execution_count": 2,
   "metadata": {},
   "outputs": [
    {
     "name": "stdout",
     "output_type": "stream",
     "text": [
      "/var/log/ultron/2022-10-10.log\n"
     ]
    }
   ],
   "source": [
    "from ultron.env import *\n",
    "from ultron.ump.core import env\n",
    "from ultron.ump.indicator.atr import atr14, atr21\n",
    "from ultron.ump.market.symbol_pd import _benchmark\n",
    "from ultron.ump.metrics.metrics_base import MetricsBase\n",
    "from ultron.ump.factor import FactorPreAtrNStop, FactorAtrNStop, FactorCloseAtrNStop, FactorBuyBreak\n",
    "from ultron.ump.core.ump import run_loop_back\n",
    "from ultron.kdutils.parallel import delayed, Parallel\n",
    "from ultron.kdutils.progress import MulPidProgress\n",
    "from matplotlib import pyplot as plt\n",
    "import seaborn as sns"
   ]
  },
  {
   "cell_type": "code",
   "execution_count": 3,
   "metadata": {},
   "outputs": [],
   "source": [
    "from ultron.ump.ump.main_deg import MainDeg\n",
    "from ultron.ump.ump.main_price import MainPrice\n",
    "from ultron.ump.ump.main_wave import MainWave\n",
    "from ultron.ump.ump.main_full import MainFull\n",
    "from ultron.ump.ump.main_mul import MainMul"
   ]
  },
  {
   "cell_type": "code",
   "execution_count": 4,
   "metadata": {},
   "outputs": [],
   "source": [
    "from ultron.ump.ump.edge_deg import EdgeDeg\n",
    "from ultron.ump.ump.edeg_price import EdgePrice\n",
    "from ultron.ump.ump.edge_wave import EdgeWave\n",
    "from ultron.ump.ump.edge_full import EdgeFull\n",
    "from ultron.ump.ump.edge_mul import EdgeMul"
   ]
  },
  {
   "cell_type": "code",
   "execution_count": 5,
   "metadata": {},
   "outputs": [],
   "source": [
    "os.environ['UMP_MODEL_PATH'] = g_project_data"
   ]
  },
  {
   "cell_type": "code",
   "execution_count": 6,
   "metadata": {},
   "outputs": [],
   "source": [
    "env.g_market_target = env.EMarketTargetType.E_MARKET_TARGET_CN\n",
    "env.g_enable_ml_feature = True\n",
    "market_trade_year = 252\n",
    "n_fold = 2"
   ]
  },
  {
   "cell_type": "code",
   "execution_count": 7,
   "metadata": {},
   "outputs": [],
   "source": [
    "# 初始化资金500万\n",
    "read_cash = 5000000\n",
    "\n",
    "# 买入因子依然延用向上突破因子\n",
    "buy_factors = [{'xd': 60, 'class': FactorBuyBreak},\n",
    "               {'xd': 42, 'class': FactorBuyBreak}]\n",
    "\n",
    "sell_factors = [\n",
    "    {'stop_loss_n': 1.0, 'stop_win_n': 3.0,\n",
    "     'class': FactorAtrNStop},\n",
    "    {'class': FactorPreAtrNStop, 'pre_atr_n': 1.5},\n",
    "    {'class': FactorCloseAtrNStop, 'close_atr_n': 1.5}\n",
    "]"
   ]
  },
  {
   "cell_type": "code",
   "execution_count": 8,
   "metadata": {},
   "outputs": [],
   "source": [
    "def calc_atr(kline_df):\n",
    "    kline_df['atr21'] = 0\n",
    "    if kline_df.shape[0] > 21:\n",
    "        # 大于21d计算atr21\n",
    "        kline_df['atr21'] = atr21(kline_df['high'].values,\n",
    "                                  kline_df['low'].values,\n",
    "                                  kline_df['pre_close'].values)\n",
    "        # 将前面的bfill\n",
    "        kline_df['atr21'].fillna(method='bfill', inplace=True)\n",
    "    kline_df['atr14'] = 0\n",
    "    if kline_df.shape[0] > 14:\n",
    "        # 大于14d计算atr14\n",
    "        kline_df['atr14'] = atr14(kline_df['high'].values,\n",
    "                                  kline_df['low'].values,\n",
    "                                  kline_df['pre_close'].values)\n",
    "        # 将前面的bfill\n",
    "        kline_df['atr14'].fillna(method='bfill', inplace=True)"
   ]
  },
  {
   "cell_type": "code",
   "execution_count": 9,
   "metadata": {},
   "outputs": [],
   "source": [
    "pick_kl_pd_dict = {}"
   ]
  },
  {
   "cell_type": "markdown",
   "metadata": {},
   "source": [
    "##### 无拦截回测"
   ]
  },
  {
   "cell_type": "code",
   "execution_count": 10,
   "metadata": {},
   "outputs": [],
   "source": [
    "indicator_data = pd.read_csv(os.path.join(g_project_data, 'indicator.csv'),\n",
    "                             index_col=0)\n",
    "indicator_data['date'] = pd.to_datetime(\n",
    "    indicator_data['trade_date']).dt.strftime('%Y%m%d').astype(int)\n",
    "indicator_data['date_week'] = indicator_data['date'].apply(\n",
    "    lambda x: datetime.datetime.strptime(str(x), '%Y%m%d').weekday())\n",
    "indicator_data['trade_date'] = pd.to_datetime(indicator_data['trade_date'])\n",
    "indicator_data = indicator_data.rename(\n",
    "    columns={\n",
    "        'preClosePrice': 'pre_close',\n",
    "        'openPrice': 'open',\n",
    "        'closePrice': 'close',\n",
    "        'highestPrice': 'high',\n",
    "        'lowestPrice': 'low',\n",
    "        'turnoverVol': 'volume'\n",
    "    }).drop(['turnoverValue'], axis=1).set_index(['trade_date'])\n",
    "indicator_data['p_change'] = indicator_data['p_change'] * 100\n",
    "\n",
    "\n",
    "code = 300002\n",
    "benchmark_kl_pd = indicator_data.reset_index().set_index(\n",
    "    'code').loc[code].reset_index().set_index('trade_date')\n",
    "benchmark_kl_pd['key'] = list(range(0, len(benchmark_kl_pd)))\n",
    "benchmark_kl_pd.index = pd.to_datetime(benchmark_kl_pd.index)\n",
    "calc_atr(benchmark_kl_pd)\n",
    "ind = benchmark_kl_pd.key.values[-1] - market_trade_year * n_fold + 1\n",
    "start_date = benchmark_kl_pd.index[ind]\n",
    "benchmark_kl_pd = benchmark_kl_pd.loc[start_date:]\n",
    "benchmark_kl_pd.name = 'sz' + str(code)\n",
    "\n",
    "\n",
    "\n",
    "\n",
    "pick_kl_pd_dict = {}\n",
    "choice_symbols = [code for code in indicator_data.code.unique().tolist()[0:15] if str(code) != '300002']\n",
    "for code in choice_symbols:\n",
    "    kl_pd = indicator_data.reset_index().set_index(\n",
    "        'code').loc[code].reset_index().set_index('trade_date')\n",
    "    kl_pd.index = pd.to_datetime(kl_pd.index)\n",
    "    kl_pd.name = 'sz' + str(code)\n",
    "    kl_pd = _benchmark(kl_pd, benchmark_kl_pd)\n",
    "    calc_atr(kl_pd)\n",
    "    kl_pd['key'] = list(range(0, len(kl_pd)))\n",
    "    pick_kl_pd_dict['sz' + str(code)] = kl_pd\n",
    "\n",
    "choice_symbols = ['sz' + str(code) for code in choice_symbols]"
   ]
  },
  {
   "cell_type": "code",
   "execution_count": 11,
   "metadata": {},
   "outputs": [
    {
     "data": {
      "text/plain": [
       "14"
      ]
     },
     "execution_count": 11,
     "metadata": {},
     "output_type": "execute_result"
    }
   ],
   "source": [
    "len(choice_symbols)"
   ]
  },
  {
   "cell_type": "code",
   "execution_count": 12,
   "metadata": {},
   "outputs": [
    {
     "data": {
      "application/vnd.jupyter.widget-view+json": {
       "model_id": "",
       "version_major": 2,
       "version_minor": 0
      },
      "text/plain": [
       "Box(children=(Text(value='pid=10207 begin work'), FloatProgress(value=0.0)))"
      ]
     },
     "metadata": {},
     "output_type": "display_data"
    },
    {
     "name": "stdout",
     "output_type": "stream",
     "text": [
      "capital.apply_action::100.0%\r"
     ]
    }
   ],
   "source": [
    "result_tuple, kl_pd_manager = run_loop_back(read_cash=read_cash, buy_factors=buy_factors,\n",
    "              sell_factors=sell_factors, \n",
    "              benchmark_kl_pd=benchmark_kl_pd,\n",
    "              pick_kl_pd_dict=pick_kl_pd_dict,\n",
    "              choice_symbols=choice_symbols)"
   ]
  },
  {
   "cell_type": "code",
   "execution_count": 13,
   "metadata": {},
   "outputs": [],
   "source": [
    "metrics = MetricsBase.show_general(result_tuple.orders_pd, result_tuple.action_pd,\n",
    "                                        result_tuple.capital, result_tuple.benchmark)"
   ]
  },
  {
   "cell_type": "code",
   "execution_count": 14,
   "metadata": {},
   "outputs": [
    {
     "name": "stdout",
     "output_type": "stream",
     "text": [
      "买入后卖出的交易数量:111\n",
      "买入后尚未卖出的交易数量:16\n",
      "胜率:28.8288%\n",
      "平均获利期望:15.9409%\n",
      "平均亏损期望:-7.7502%\n",
      "盈亏比:0.9063\n",
      "策略收益: 6.4089%\n",
      "基准收益: -35.9288%\n",
      "策略年化收益: 3.1790%\n",
      "基准年化收益: -17.8218%\n",
      "策略买入成交比例:74.0157%\n",
      "策略资金利用率比例:40.9553%\n",
      "策略共执行504个交易日\n"
     ]
    }
   ],
   "source": [
    "## 考虑资金情况下的度量，进行与benchmark的收益度量对比\n",
    "print('买入后卖出的交易数量:{}'.format(metrics.order_has_ret.shape[0]))\n",
    "print('买入后尚未卖出的交易数量:{}'.format(metrics.order_keep.shape[0]))\n",
    "print('胜率:{:.4f}%'.format(metrics.win_rate * 100))\n",
    "print('平均获利期望:{:.4f}%'.format(metrics.gains_mean * 100))\n",
    "print('平均亏损期望:{:.4f}%'.format(metrics.losses_mean * 100))\n",
    "print('盈亏比:{:.4f}'.format(metrics.win_loss_profit_rate))\n",
    "print('策略收益: {:.4f}%'.format(metrics.algorithm_period_returns *\n",
    "                                             100))\n",
    "print('基准收益: {:.4f}%'.format(metrics.benchmark_period_returns *\n",
    "                                             100))\n",
    "print('策略年化收益: {:.4f}%'.format(\n",
    "            metrics.algorithm_annualized_returns * 100))\n",
    "print('基准年化收益: {:.4f}%'.format(\n",
    "            metrics.benchmark_annualized_returns * 100))\n",
    "print('策略买入成交比例:{:.4f}%'.format(metrics.buy_deal_rate * 100))\n",
    "print('策略资金利用率比例:{:.4f}%'.format(metrics.cash_utilization * 100))\n",
    "print('策略共执行{}个交易日'.format(metrics.num_trading_days))"
   ]
  },
  {
   "cell_type": "code",
   "execution_count": 15,
   "metadata": {},
   "outputs": [
    {
     "data": {
      "image/png": "[encoded data removed]",
      "text/plain": [
       "<Figure size 1008x504 with 1 Axes>"
      ]
     },
     "metadata": {
      "needs_background": "light"
     },
     "output_type": "display_data"
    }
   ],
   "source": [
    "plt.figure(figsize=(14, 7))\n",
    "metrics.benchmark_cum_returns.plot()\n",
    "metrics.algorithm_cum_returns.plot()\n",
    "plt.legend(['benchmark returns', 'algorithm returns'], loc='best')\n",
    "plt.show()"
   ]
  },
  {
   "cell_type": "markdown",
   "metadata": {},
   "source": [
    "### 裁决模型训练"
   ]
  },
  {
   "cell_type": "code",
   "execution_count": 16,
   "metadata": {},
   "outputs": [],
   "source": [
    "ump_deg=None\n",
    "ump_mul=None\n",
    "ump_price=None\n",
    "ump_wave=None"
   ]
  },
  {
   "cell_type": "code",
   "execution_count": 17,
   "metadata": {},
   "outputs": [],
   "source": [
    "orders_pd_train_cn = result_tuple.orders_pd\n",
    "\n",
    "def train_main_ump():\n",
    "    print('UmpMainDeg begin...')\n",
    "    MainDeg.ump_main_clf_dump(orders_pd_train_cn)\n",
    "    print('UmpMainPrice begin...')\n",
    "    MainPrice.ump_main_clf_dump(orders_pd_train_cn)\n",
    "    print('UmpMainMul begin...')\n",
    "    MainMul.ump_main_clf_dump(orders_pd_train_cn)\n",
    "    print('MainWave begin...')\n",
    "    MainWave.ump_main_clf_dump(orders_pd_train_cn)\n",
    "    # 依然使用load_main_ump，避免下面多进程内存拷贝过大\n",
    "    load_main_ump()\n",
    "    \n",
    "def load_main_ump():\n",
    "    global ump_deg, ump_mul, ump_price, ump_wave\n",
    "    ump_deg = MainDeg(predict=True)\n",
    "    ump_mul = MainMul(predict=True)\n",
    "    ump_price = MainPrice(predict=True)\n",
    "    ump_wave = MainWave(predict=True)\n",
    "    print('load main ump complete!')"
   ]
  },
  {
   "cell_type": "code",
   "execution_count": 18,
   "metadata": {},
   "outputs": [
    {
     "name": "stdout",
     "output_type": "stream",
     "text": [
      "UmpMainDeg begin...\n",
      "please wait! dump_pickle....: /home/kerry/ultron/rom/sandbox/minden/ump/ump_main_hs_deg_main\n",
      "UmpMainPrice begin...\n",
      "please wait! dump_pickle....: /home/kerry/ultron/rom/sandbox/minden/ump/ump_main_hs_price_main\n",
      "UmpMainMul begin...\n",
      "please wait! dump_pickle....: /home/kerry/ultron/rom/sandbox/minden/ump/ump_main_hs_mul_main\n",
      "MainWave begin...\n",
      "please wait! dump_pickle....: /home/kerry/ultron/rom/sandbox/minden/ump/ump_main_hs_wave_main\n",
      "load main ump complete!\n",
      "CPU times: user 15min 54s, sys: 21.1 s, total: 16min 15s\n",
      "Wall time: 16min 46s\n"
     ]
    }
   ],
   "source": [
    "%%time\n",
    "train_main_ump()\n",
    "#load_main_ump()"
   ]
  },
  {
   "cell_type": "markdown",
   "metadata": {},
   "source": [
    "### 验证主裁是否称职"
   ]
  },
  {
   "cell_type": "code",
   "execution_count": 19,
   "metadata": {},
   "outputs": [],
   "source": [
    "# 选取有交易结果的数据order_has_result\n",
    "order_has_result = result_tuple.orders_pd[result_tuple.orders_pd.result != 0]"
   ]
  },
  {
   "cell_type": "code",
   "execution_count": 20,
   "metadata": {},
   "outputs": [
    {
     "data": {
      "text/html": [
       "<div>\n",
       "<style scoped>\n",
       "    .dataframe tbody tr th:only-of-type {\n",
       "        vertical-align: middle;\n",
       "    }\n",
       "\n",
       "    .dataframe tbody tr th {\n",
       "        vertical-align: top;\n",
       "    }\n",
       "\n",
       "    .dataframe thead th {\n",
       "        text-align: right;\n",
       "    }\n",
       "</style>\n",
       "<table border=\"1\" class=\"dataframe\">\n",
       "  <thead>\n",
       "    <tr style=\"text-align: right;\">\n",
       "      <th></th>\n",
       "      <th>buy_deg_ang42</th>\n",
       "      <th>buy_deg_ang252</th>\n",
       "      <th>buy_deg_ang60</th>\n",
       "      <th>buy_deg_ang21</th>\n",
       "      <th>buy_price_rank120</th>\n",
       "      <th>buy_price_rank90</th>\n",
       "      <th>buy_price_rank60</th>\n",
       "      <th>buy_price_rank252</th>\n",
       "      <th>buy_wave_score1</th>\n",
       "      <th>buy_wave_score2</th>\n",
       "      <th>buy_wave_score3</th>\n",
       "      <th>buy_jump_down_power</th>\n",
       "      <th>buy_jump_up_power</th>\n",
       "    </tr>\n",
       "  </thead>\n",
       "  <tbody>\n",
       "    <tr>\n",
       "      <th>2020-08-05</th>\n",
       "      <td>8.531</td>\n",
       "      <td>8.531</td>\n",
       "      <td>8.531</td>\n",
       "      <td>0.558</td>\n",
       "      <td>1.000</td>\n",
       "      <td>1.000</td>\n",
       "      <td>1.000</td>\n",
       "      <td>1.000</td>\n",
       "      <td>0.882</td>\n",
       "      <td>0.874</td>\n",
       "      <td>0.868</td>\n",
       "      <td>0.0</td>\n",
       "      <td>0.0</td>\n",
       "    </tr>\n",
       "    <tr>\n",
       "      <th>2020-08-06</th>\n",
       "      <td>17.531</td>\n",
       "      <td>17.701</td>\n",
       "      <td>17.701</td>\n",
       "      <td>2.249</td>\n",
       "      <td>1.000</td>\n",
       "      <td>1.000</td>\n",
       "      <td>1.000</td>\n",
       "      <td>1.000</td>\n",
       "      <td>0.974</td>\n",
       "      <td>1.005</td>\n",
       "      <td>1.014</td>\n",
       "      <td>0.0</td>\n",
       "      <td>0.0</td>\n",
       "    </tr>\n",
       "    <tr>\n",
       "      <th>2020-08-25</th>\n",
       "      <td>4.748</td>\n",
       "      <td>8.642</td>\n",
       "      <td>8.642</td>\n",
       "      <td>3.366</td>\n",
       "      <td>1.000</td>\n",
       "      <td>1.000</td>\n",
       "      <td>1.000</td>\n",
       "      <td>1.000</td>\n",
       "      <td>0.755</td>\n",
       "      <td>0.798</td>\n",
       "      <td>0.810</td>\n",
       "      <td>0.0</td>\n",
       "      <td>0.0</td>\n",
       "    </tr>\n",
       "    <tr>\n",
       "      <th>2020-08-27</th>\n",
       "      <td>-0.208</td>\n",
       "      <td>7.584</td>\n",
       "      <td>7.584</td>\n",
       "      <td>-0.506</td>\n",
       "      <td>1.000</td>\n",
       "      <td>1.000</td>\n",
       "      <td>1.000</td>\n",
       "      <td>1.000</td>\n",
       "      <td>0.333</td>\n",
       "      <td>0.375</td>\n",
       "      <td>0.400</td>\n",
       "      <td>0.0</td>\n",
       "      <td>0.0</td>\n",
       "    </tr>\n",
       "    <tr>\n",
       "      <th>2020-08-28</th>\n",
       "      <td>-0.451</td>\n",
       "      <td>-1.169</td>\n",
       "      <td>-1.169</td>\n",
       "      <td>4.372</td>\n",
       "      <td>0.949</td>\n",
       "      <td>0.949</td>\n",
       "      <td>0.949</td>\n",
       "      <td>0.949</td>\n",
       "      <td>0.103</td>\n",
       "      <td>0.060</td>\n",
       "      <td>0.054</td>\n",
       "      <td>0.0</td>\n",
       "      <td>0.0</td>\n",
       "    </tr>\n",
       "  </tbody>\n",
       "</table>\n",
       "</div>"
      ],
      "text/plain": [
       "            buy_deg_ang42  buy_deg_ang252  buy_deg_ang60  buy_deg_ang21  \\\n",
       "2020-08-05          8.531           8.531          8.531          0.558   \n",
       "2020-08-06         17.531          17.701         17.701          2.249   \n",
       "2020-08-25          4.748           8.642          8.642          3.366   \n",
       "2020-08-27         -0.208           7.584          7.584         -0.506   \n",
       "2020-08-28         -0.451          -1.169         -1.169          4.372   \n",
       "\n",
       "            buy_price_rank120  buy_price_rank90  buy_price_rank60  \\\n",
       "2020-08-05              1.000             1.000             1.000   \n",
       "2020-08-06              1.000             1.000             1.000   \n",
       "2020-08-25              1.000             1.000             1.000   \n",
       "2020-08-27              1.000             1.000             1.000   \n",
       "2020-08-28              0.949             0.949             0.949   \n",
       "\n",
       "            buy_price_rank252  buy_wave_score1  buy_wave_score2  \\\n",
       "2020-08-05              1.000            0.882            0.874   \n",
       "2020-08-06              1.000            0.974            1.005   \n",
       "2020-08-25              1.000            0.755            0.798   \n",
       "2020-08-27              1.000            0.333            0.375   \n",
       "2020-08-28              0.949            0.103            0.060   \n",
       "\n",
       "            buy_wave_score3  buy_jump_down_power  buy_jump_up_power  \n",
       "2020-08-05            0.868                  0.0                0.0  \n",
       "2020-08-06            1.014                  0.0                0.0  \n",
       "2020-08-25            0.810                  0.0                0.0  \n",
       "2020-08-27            0.400                  0.0                0.0  \n",
       "2020-08-28            0.054                  0.0                0.0  "
      ]
     },
     "execution_count": 20,
     "metadata": {},
     "output_type": "execute_result"
    }
   ],
   "source": [
    "order_has_result.filter(regex='^buy(_deg_|_price_|_wave_|_jump)').head()"
   ]
  },
  {
   "cell_type": "markdown",
   "metadata": {},
   "source": [
    "可以通过一个一个迭代交易单，将交易单中的买入时刻特征传递给ump主裁决策器，让每一个主裁来决策是否进行拦截，这样可以统计每一个主裁的拦截成功率，以及整体拦截率等，如下所示："
   ]
  },
  {
   "cell_type": "code",
   "execution_count": 21,
   "metadata": {},
   "outputs": [
    {
     "data": {
      "application/vnd.jupyter.widget-view+json": {
       "model_id": "",
       "version_major": 2,
       "version_minor": 0
      },
      "text/plain": [
       "Box(children=(Text(value='pid=10207 begin work'), FloatProgress(value=0.0)))"
      ]
     },
     "metadata": {},
     "output_type": "display_data"
    },
    {
     "name": "stdout",
     "output_type": "stream",
     "text": [
      "please wait! load_pickle....: /home/kerry/ultron/rom/sandbox/minden/ump/ump_main_hs_deg_main\n"
     ]
    },
    {
     "data": {
      "application/vnd.jupyter.widget-view+json": {
       "model_id": "",
       "version_major": 2,
       "version_minor": 0
      },
      "text/plain": [
       "Box(children=(Text(value='pid=10207 begin work'), FloatProgress(value=0.0)))"
      ]
     },
     "metadata": {},
     "output_type": "display_data"
    },
    {
     "name": "stdout",
     "output_type": "stream",
     "text": [
      "please wait! load_pickle....: /home/kerry/ultron/rom/sandbox/minden/ump/ump_main_hs_mul_main\n"
     ]
    },
    {
     "data": {
      "application/vnd.jupyter.widget-view+json": {
       "model_id": "",
       "version_major": 2,
       "version_minor": 0
      },
      "text/plain": [
       "Box(children=(Text(value='pid=10207 begin work'), FloatProgress(value=0.0)))"
      ]
     },
     "metadata": {},
     "output_type": "display_data"
    },
    {
     "name": "stdout",
     "output_type": "stream",
     "text": [
      "please wait! load_pickle....: /home/kerry/ultron/rom/sandbox/minden/ump/ump_main_hs_price_main\n"
     ]
    },
    {
     "data": {
      "application/vnd.jupyter.widget-view+json": {
       "model_id": "",
       "version_major": 2,
       "version_minor": 0
      },
      "text/plain": [
       "Box(children=(Text(value='pid=10207 begin work'), FloatProgress(value=0.0)))"
      ]
     },
     "metadata": {},
     "output_type": "display_data"
    },
    {
     "name": "stdout",
     "output_type": "stream",
     "text": [
      "please wait! load_pickle....: /home/kerry/ultron/rom/sandbox/minden/ump/ump_main_hs_wave_main\n"
     ]
    }
   ],
   "source": [
    "def apply_ml_features_ump(order, predicter, progress, need_hit_cnt):\n",
    "    if not isinstance(order.ml_features, dict):\n",
    "        import ast\n",
    "        # 低版本pandas dict对象取出来会成为str\n",
    "        ml_features = ast.literal_eval(order.ml_features)\n",
    "    else:\n",
    "        ml_features = order.ml_features\n",
    "    progress.show()\n",
    "    # 将交易单中的买入时刻特征传递给ump主裁决策器，让每一个主裁来决策是否进行拦截\n",
    "    return predicter.predict_kwargs(need_hit_cnt=need_hit_cnt, **ml_features)\n",
    "\n",
    "def pararllel_func(ump_object, ump_name):\n",
    "    with MulPidProgress(len(order_has_result), '{} complete'.format(ump_name)) as progress:\n",
    "        # 启动多进程进度条，对order_has_result进行apply\n",
    "        ump_result = order_has_result.apply(apply_ml_features_ump, axis=1, args=(ump_object, progress, 2,))\n",
    "    return ump_name, ump_result\n",
    "\n",
    "out = []\n",
    "for ump_object, ump_name in zip([ump_deg, ump_mul, ump_price, ump_wave], \n",
    "                                ['ump_deg', 'ump_mul', 'ump_price', 'ump_wave']):\n",
    "    ump_name, ump_result = pararllel_func(ump_object, ump_name)\n",
    "    out.append((ump_name, ump_result))\n",
    "    \n",
    "# 将每一个进程中的裁判的拦截决策进行汇总\n",
    "for sub_out in out:\n",
    "    order_has_result[sub_out[0]] = sub_out[1]"
   ]
  },
  {
   "cell_type": "code",
   "execution_count": 22,
   "metadata": {},
   "outputs": [
    {
     "name": "stdout",
     "output_type": "stream",
     "text": [
      "四个裁判整体拦截正确率79.00%\n"
     ]
    },
    {
     "data": {
      "text/html": [
       "<div>\n",
       "<style scoped>\n",
       "    .dataframe tbody tr th:only-of-type {\n",
       "        vertical-align: middle;\n",
       "    }\n",
       "\n",
       "    .dataframe tbody tr th {\n",
       "        vertical-align: top;\n",
       "    }\n",
       "\n",
       "    .dataframe thead th {\n",
       "        text-align: right;\n",
       "    }\n",
       "</style>\n",
       "<table border=\"1\" class=\"dataframe\">\n",
       "  <thead>\n",
       "    <tr style=\"text-align: right;\">\n",
       "      <th></th>\n",
       "      <th>ump_deg</th>\n",
       "      <th>ump_mul</th>\n",
       "      <th>ump_price</th>\n",
       "      <th>ump_wave</th>\n",
       "      <th>sum_bk</th>\n",
       "      <th>result</th>\n",
       "    </tr>\n",
       "  </thead>\n",
       "  <tbody>\n",
       "    <tr>\n",
       "      <th>2022-02-23</th>\n",
       "      <td>1</td>\n",
       "      <td>1</td>\n",
       "      <td>1</td>\n",
       "      <td>1</td>\n",
       "      <td>4</td>\n",
       "      <td>-1</td>\n",
       "    </tr>\n",
       "    <tr>\n",
       "      <th>2022-03-22</th>\n",
       "      <td>1</td>\n",
       "      <td>1</td>\n",
       "      <td>1</td>\n",
       "      <td>1</td>\n",
       "      <td>4</td>\n",
       "      <td>-1</td>\n",
       "    </tr>\n",
       "    <tr>\n",
       "      <th>2022-04-11</th>\n",
       "      <td>1</td>\n",
       "      <td>0</td>\n",
       "      <td>1</td>\n",
       "      <td>1</td>\n",
       "      <td>3</td>\n",
       "      <td>-1</td>\n",
       "    </tr>\n",
       "    <tr>\n",
       "      <th>2022-04-28</th>\n",
       "      <td>1</td>\n",
       "      <td>1</td>\n",
       "      <td>1</td>\n",
       "      <td>0</td>\n",
       "      <td>3</td>\n",
       "      <td>-1</td>\n",
       "    </tr>\n",
       "    <tr>\n",
       "      <th>2022-06-15</th>\n",
       "      <td>1</td>\n",
       "      <td>1</td>\n",
       "      <td>1</td>\n",
       "      <td>0</td>\n",
       "      <td>3</td>\n",
       "      <td>-1</td>\n",
       "    </tr>\n",
       "  </tbody>\n",
       "</table>\n",
       "</div>"
      ],
      "text/plain": [
       "            ump_deg  ump_mul  ump_price  ump_wave  sum_bk  result\n",
       "2022-02-23        1        1          1         1       4      -1\n",
       "2022-03-22        1        1          1         1       4      -1\n",
       "2022-04-11        1        0          1         1       3      -1\n",
       "2022-04-28        1        1          1         0       3      -1\n",
       "2022-06-15        1        1          1         0       3      -1"
      ]
     },
     "execution_count": 22,
     "metadata": {},
     "output_type": "execute_result"
    }
   ],
   "source": [
    "block_pd = order_has_result.filter(regex='^ump_*')\n",
    "# 把所有主裁的决策进行相加\n",
    "block_pd['sum_bk'] = block_pd.sum(axis=1)\n",
    "block_pd['result'] = order_has_result['result']\n",
    "# 有投票1的即会进行拦截\n",
    "block_pd = block_pd[block_pd.sum_bk > 0]\n",
    "print('四个裁判整体拦截正确率{:.2f}%'.format(\n",
    "    block_pd[block_pd.result == -1].result.count() / block_pd.result.count() * 100))\n",
    "block_pd.tail()"
   ]
  },
  {
   "cell_type": "markdown",
   "metadata": {},
   "source": [
    "下面统计每一个主裁的拦截正确率："
   ]
  },
  {
   "cell_type": "code",
   "execution_count": 23,
   "metadata": {},
   "outputs": [
    {
     "name": "stdout",
     "output_type": "stream",
     "text": [
      "角度裁判拦截正确率97.47%, 拦截交易数量79\n",
      "波动裁判拦拦截正确率98.48%, 拦截交易数量66\n",
      "单混裁判拦截正确率95.45%, 拦截交易数量66\n",
      "价格裁判拦截正确率81.72%, 拦截交易数量93\n"
     ]
    }
   ],
   "source": [
    "from sklearn import metrics\n",
    "def sub_ump_show(block_name):\n",
    "    sub_block_pd = block_pd[(block_pd[block_name] == 1)]\n",
    "    # 如果失败就正确 －1->1 1->0\n",
    "    sub_block_pd.result = np.where(sub_block_pd.result == -1, 1, 0)\n",
    "    return metrics.accuracy_score(sub_block_pd[block_name], sub_block_pd.result) * 100, sub_block_pd.result.count()\n",
    "\n",
    "print('角度裁判拦截正确率{:.2f}%, 拦截交易数量{}'.format(*sub_ump_show('ump_deg')))\n",
    "print('波动裁判拦拦截正确率{:.2f}%, 拦截交易数量{}'.format(*sub_ump_show('ump_wave')))\n",
    "print('单混裁判拦截正确率{:.2f}%, 拦截交易数量{}'.format(*sub_ump_show('ump_mul')))\n",
    "print('价格裁判拦截正确率{:.2f}%, 拦截交易数量{}'.format(*sub_ump_show('ump_price')))"
   ]
  },
  {
   "cell_type": "markdown",
   "metadata": {},
   "source": [
    "### 验证边裁是否称职"
   ]
  },
  {
   "cell_type": "code",
   "execution_count": 24,
   "metadata": {},
   "outputs": [
    {
     "name": "stdout",
     "output_type": "stream",
     "text": [
      "EdgeDeg begin...\n",
      "please wait! dump_pickle....: /home/kerry/ultron/rom/sandbox/minden/ump/ump_edge_hs_deg_edge\n",
      "EdgePrice begin...\n",
      "please wait! dump_pickle....: /home/kerry/ultron/rom/sandbox/minden/ump/ump_edge_hs_price_edge\n",
      "EdgeMul begin...\n",
      "please wait! dump_pickle....: /home/kerry/ultron/rom/sandbox/minden/ump/ump_edge_hs_mul_edge\n",
      "EdgeWave begin...\n",
      "please wait! dump_pickle....: /home/kerry/ultron/rom/sandbox/minden/ump/ump_edge_hs_wave_edge\n",
      "EdgeFull begin...\n",
      "please wait! dump_pickle....: /home/kerry/ultron/rom/sandbox/minden/ump/ump_edge_hs_full_edge\n",
      "fit edge complete!\n"
     ]
    }
   ],
   "source": [
    "print('EdgeDeg begin...')\n",
    "EdgeDeg.ump_edge_clf_dump(orders_pd_train_cn)\n",
    "edge_deg = EdgeDeg(predict=True)\n",
    "\n",
    "print('EdgePrice begin...')\n",
    "EdgePrice.ump_edge_clf_dump(orders_pd_train_cn)\n",
    "edge_price = EdgePrice(predict=True)\n",
    "\n",
    "print('EdgeMul begin...')\n",
    "EdgeMul.ump_edge_clf_dump(orders_pd_train_cn)\n",
    "edge_mul = EdgeMul(predict=True)\n",
    "\n",
    "print('EdgeWave begin...')\n",
    "EdgeWave.ump_edge_clf_dump(orders_pd_train_cn)\n",
    "edge_wave = EdgeWave(predict=True)\n",
    "\n",
    "print('EdgeFull begin...')\n",
    "EdgeFull.ump_edge_clf_dump(orders_pd_train_cn)\n",
    "edge_full = EdgeFull(predict=True)\n",
    "\n",
    "print('fit edge complete!')"
   ]
  },
  {
   "cell_type": "markdown",
   "metadata": {},
   "source": [
    "### 验证边裁是否称职"
   ]
  },
  {
   "cell_type": "code",
   "execution_count": 25,
   "metadata": {},
   "outputs": [
    {
     "data": {
      "application/vnd.jupyter.widget-view+json": {
       "model_id": "",
       "version_major": 2,
       "version_minor": 0
      },
      "text/plain": [
       "Box(children=(Text(value='pid=10207 begin work'), FloatProgress(value=0.0)))"
      ]
     },
     "metadata": {},
     "output_type": "display_data"
    },
    {
     "name": "stdout",
     "output_type": "stream",
     "text": [
      "please wait! load_pickle....: /home/kerry/ultron/rom/sandbox/minden/ump/ump_edge_hs_deg_edge\n"
     ]
    },
    {
     "data": {
      "application/vnd.jupyter.widget-view+json": {
       "model_id": "",
       "version_major": 2,
       "version_minor": 0
      },
      "text/plain": [
       "Box(children=(Text(value='pid=10207 begin work'), FloatProgress(value=0.0)))"
      ]
     },
     "metadata": {},
     "output_type": "display_data"
    },
    {
     "name": "stdout",
     "output_type": "stream",
     "text": [
      "please wait! load_pickle....: /home/kerry/ultron/rom/sandbox/minden/ump/ump_edge_hs_price_edge\n"
     ]
    },
    {
     "data": {
      "application/vnd.jupyter.widget-view+json": {
       "model_id": "",
       "version_major": 2,
       "version_minor": 0
      },
      "text/plain": [
       "Box(children=(Text(value='pid=10207 begin work'), FloatProgress(value=0.0)))"
      ]
     },
     "metadata": {},
     "output_type": "display_data"
    },
    {
     "name": "stdout",
     "output_type": "stream",
     "text": [
      "please wait! load_pickle....: /home/kerry/ultron/rom/sandbox/minden/ump/ump_edge_hs_mul_edge\n"
     ]
    },
    {
     "data": {
      "application/vnd.jupyter.widget-view+json": {
       "model_id": "",
       "version_major": 2,
       "version_minor": 0
      },
      "text/plain": [
       "Box(children=(Text(value='pid=10207 begin work'), FloatProgress(value=0.0)))"
      ]
     },
     "metadata": {},
     "output_type": "display_data"
    },
    {
     "name": "stdout",
     "output_type": "stream",
     "text": [
      "please wait! load_pickle....: /home/kerry/ultron/rom/sandbox/minden/ump/ump_edge_hs_wave_edge\n"
     ]
    }
   ],
   "source": [
    "def apply_ml_features_edge(order, predicter, progress):\n",
    "    if not isinstance(order.ml_features, dict):\n",
    "        import ast\n",
    "        # 低版本pandas dict对象取出来会成为str\n",
    "        ml_features = ast.literal_eval(order.ml_features)\n",
    "    else:\n",
    "        ml_features = order.ml_features\n",
    "    # 边裁进行裁决\n",
    "    progress.show()\n",
    "    # 将交易单中的买入时刻特征传递给ump边裁决策器，让每一个边裁来决策是否进行拦截\n",
    "    edge = predicter.predict(**ml_features)\n",
    "    return edge.value\n",
    "\n",
    "\n",
    "def edge_pararllel_func(edge, edge_name):\n",
    "    with MulPidProgress(len(order_has_result), '{} complete'.format(edge_name)) as progress:\n",
    "        # # 启动多进程进度条，对order_has_result进行apply\n",
    "        edge_result = order_has_result.apply(apply_ml_features_edge, axis=1, args=(edge, progress,))\n",
    "    return edge_name, edge_result\n",
    "\n",
    "for edge, edge_name in zip([edge_deg, edge_price, edge_mul, edge_wave], \n",
    "                        ['edge_deg', 'edge_price', 'edge_mul', 'edge_wave']):\n",
    "    \n",
    "    edge_name, edge_result = edge_pararllel_func(edge, edge_name)\n",
    "    out.append((edge_name, edge_result))\n",
    "    \n",
    "# 将每一个进程中的裁判的拦截决策进行汇总\n",
    "for sub_out in out:\n",
    "    order_has_result[sub_out[0]] = sub_out[1]"
   ]
  },
  {
   "cell_type": "code",
   "execution_count": 26,
   "metadata": {},
   "outputs": [
    {
     "name": "stdout",
     "output_type": "stream",
     "text": [
      "四个裁判整体拦截正确率90.91%\n",
      "四个边裁拦截交易总数33， 拦截率29.73%\n"
     ]
    },
    {
     "data": {
      "text/html": [
       "<div>\n",
       "<style scoped>\n",
       "    .dataframe tbody tr th:only-of-type {\n",
       "        vertical-align: middle;\n",
       "    }\n",
       "\n",
       "    .dataframe tbody tr th {\n",
       "        vertical-align: top;\n",
       "    }\n",
       "\n",
       "    .dataframe thead th {\n",
       "        text-align: right;\n",
       "    }\n",
       "</style>\n",
       "<table border=\"1\" class=\"dataframe\">\n",
       "  <thead>\n",
       "    <tr style=\"text-align: right;\">\n",
       "      <th></th>\n",
       "      <th>edge_deg</th>\n",
       "      <th>edge_price</th>\n",
       "      <th>edge_mul</th>\n",
       "      <th>edge_wave</th>\n",
       "      <th>edge_block</th>\n",
       "      <th>result</th>\n",
       "    </tr>\n",
       "  </thead>\n",
       "  <tbody>\n",
       "    <tr>\n",
       "      <th>2020-08-28</th>\n",
       "      <td>0</td>\n",
       "      <td>0</td>\n",
       "      <td>0</td>\n",
       "      <td>-1</td>\n",
       "      <td>-1</td>\n",
       "      <td>1</td>\n",
       "    </tr>\n",
       "    <tr>\n",
       "      <th>2020-08-31</th>\n",
       "      <td>0</td>\n",
       "      <td>0</td>\n",
       "      <td>-1</td>\n",
       "      <td>0</td>\n",
       "      <td>-1</td>\n",
       "      <td>-1</td>\n",
       "    </tr>\n",
       "    <tr>\n",
       "      <th>2020-09-03</th>\n",
       "      <td>0</td>\n",
       "      <td>0</td>\n",
       "      <td>0</td>\n",
       "      <td>-1</td>\n",
       "      <td>-1</td>\n",
       "      <td>-1</td>\n",
       "    </tr>\n",
       "    <tr>\n",
       "      <th>2020-11-06</th>\n",
       "      <td>0</td>\n",
       "      <td>0</td>\n",
       "      <td>-1</td>\n",
       "      <td>0</td>\n",
       "      <td>-1</td>\n",
       "      <td>-1</td>\n",
       "    </tr>\n",
       "    <tr>\n",
       "      <th>2021-01-07</th>\n",
       "      <td>0</td>\n",
       "      <td>0</td>\n",
       "      <td>0</td>\n",
       "      <td>-1</td>\n",
       "      <td>-1</td>\n",
       "      <td>-1</td>\n",
       "    </tr>\n",
       "  </tbody>\n",
       "</table>\n",
       "</div>"
      ],
      "text/plain": [
       "            edge_deg  edge_price  edge_mul  edge_wave  edge_block  result\n",
       "2020-08-28         0           0         0         -1          -1       1\n",
       "2020-08-31         0           0        -1          0          -1      -1\n",
       "2020-09-03         0           0         0         -1          -1      -1\n",
       "2020-11-06         0           0        -1          0          -1      -1\n",
       "2021-01-07         0           0         0         -1          -1      -1"
      ]
     },
     "execution_count": 26,
     "metadata": {},
     "output_type": "execute_result"
    }
   ],
   "source": [
    "block_pd = order_has_result.filter(regex='^edge_*')\n",
    "\"\"\"\n",
    "    由于predict返回的结果中1代表win top\n",
    "    但是我们只需要知道loss_top，所以只保留-1, 其他1转换为0。\n",
    "\"\"\"\n",
    "block_pd['edge_block'] = \\\n",
    "    np.where(np.min(block_pd, axis=1) == -1, -1, 0)\n",
    "\n",
    "# 拿出真实的交易结果\n",
    "block_pd['result'] = order_has_result['result']\n",
    "# 拿出-1的结果，即判定loss_top的\n",
    "block_pd = block_pd[block_pd.edge_block == -1]\n",
    "\n",
    "\n",
    "print('四个裁判整体拦截正确率{:.2f}%'.format(block_pd[block_pd.result == -1].result.count() / \n",
    "                                  block_pd.result.count() * 100))\n",
    "\n",
    "print('四个边裁拦截交易总数{}， 拦截率{:.2f}%'.format(\n",
    "    block_pd.shape[0],\n",
    "    block_pd.shape[0] / order_has_result.shape[0] * 100))\n",
    "block_pd.head()"
   ]
  },
  {
   "cell_type": "code",
   "execution_count": 27,
   "metadata": {},
   "outputs": [
    {
     "name": "stdout",
     "output_type": "stream",
     "text": [
      "角度边裁拦截正确率100.00%, 拦截交易数量2\n",
      "单混边裁拦截正确率100.00%, 拦截交易数量7\n",
      "价格边裁拦截正确率100.00%, 拦截交易数量3\n",
      "波动裁拦截正确率88.89%, 拦截交易数量27\n"
     ]
    }
   ],
   "source": [
    "from sklearn import metrics\n",
    "def sub_edge_show(edge_name):\n",
    "    sub_edge_block_pd = order_has_result[(order_has_result[edge_name] == -1)]\n",
    "    return metrics.accuracy_score(sub_edge_block_pd[edge_name], sub_edge_block_pd.result) * 100, sub_edge_block_pd.shape[0]\n",
    "\n",
    "print('角度边裁拦截正确率{0:.2f}%, 拦截交易数量{1:}'.format(*sub_edge_show('edge_deg')))\n",
    "print('单混边裁拦截正确率{0:.2f}%, 拦截交易数量{1:}'.format(*sub_edge_show('edge_mul')))\n",
    "print('价格边裁拦截正确率{0:.2f}%, 拦截交易数量{1:}'.format(*sub_edge_show('edge_price')))\n",
    "print('波动裁拦截正确率{0:.2f}%, 拦截交易数量{1:}'.format(*sub_edge_show('edge_wave')))\n"
   ]
  },
  {
   "cell_type": "code",
   "execution_count": 28,
   "metadata": {},
   "outputs": [],
   "source": [
    "env.g_enable_ump_main_deg_block = True\n",
    "env.g_enable_ump_main_price_block = True\n",
    "env.g_enable_ump_main_wave_block = True\n",
    "env.g_enable_ump_edge_deg_block = True\n",
    "env.g_enable_ump_edge_price_block = True\n",
    "env.g_enable_ump_edge_wave_block = True"
   ]
  },
  {
   "cell_type": "code",
   "execution_count": 29,
   "metadata": {},
   "outputs": [
    {
     "data": {
      "application/vnd.jupyter.widget-view+json": {
       "model_id": "",
       "version_major": 2,
       "version_minor": 0
      },
      "text/plain": [
       "Box(children=(Text(value='pid=10207 begin work'), FloatProgress(value=0.0)))"
      ]
     },
     "metadata": {},
     "output_type": "display_data"
    },
    {
     "name": "stdout",
     "output_type": "stream",
     "text": [
      "capital.apply_action::100.0%\r"
     ]
    }
   ],
   "source": [
    "result_tuple, kl_pd_manager = run_loop_back(read_cash=read_cash, buy_factors=buy_factors,\n",
    "              sell_factors=sell_factors, \n",
    "              benchmark_kl_pd=benchmark_kl_pd,\n",
    "              pick_kl_pd_dict=pick_kl_pd_dict,\n",
    "              choice_symbols=choice_symbols)"
   ]
  },
  {
   "cell_type": "code",
   "execution_count": 30,
   "metadata": {},
   "outputs": [],
   "source": [
    "metrics = MetricsBase.show_general(result_tuple.orders_pd, result_tuple.action_pd,\n",
    "                                        result_tuple.capital, result_tuple.benchmark)"
   ]
  },
  {
   "cell_type": "code",
   "execution_count": 31,
   "metadata": {},
   "outputs": [
    {
     "name": "stdout",
     "output_type": "stream",
     "text": [
      "买入后卖出的交易数量:13\n",
      "买入后尚未卖出的交易数量:0\n",
      "平均获利期望:21.2911%\n",
      "策略收益: 38.9241%\n",
      "基准收益: -35.9288%\n",
      "策略年化收益: 19.3076%\n",
      "基准年化收益: -17.8218%\n",
      "策略买入成交比例:100.0000%\n",
      "策略资金利用率比例:8.5976%\n",
      "策略共执行504个交易日\n"
     ]
    }
   ],
   "source": [
    "## 考虑资金情况下的度量，进行与benchmark的收益度量对比\n",
    "print('买入后卖出的交易数量:{}'.format(metrics.order_has_ret.shape[0]))\n",
    "print('买入后尚未卖出的交易数量:{}'.format(metrics.order_keep.shape[0]))\n",
    "#print('胜率:{:.4f}%'.format(metrics.win_rate * 100))\n",
    "print('平均获利期望:{:.4f}%'.format(metrics.gains_mean * 100))\n",
    "#print('平均亏损期望:{:.4f}%'.format(metrics.losses_mean * 100))\n",
    "#print('盈亏比:{:.4f}'.format(metrics.win_loss_profit_rate))\n",
    "print('策略收益: {:.4f}%'.format(metrics.algorithm_period_returns *\n",
    "                                             100))\n",
    "print('基准收益: {:.4f}%'.format(metrics.benchmark_period_returns *\n",
    "                                             100))\n",
    "print('策略年化收益: {:.4f}%'.format(\n",
    "            metrics.algorithm_annualized_returns * 100))\n",
    "print('基准年化收益: {:.4f}%'.format(\n",
    "            metrics.benchmark_annualized_returns * 100))\n",
    "print('策略买入成交比例:{:.4f}%'.format(metrics.buy_deal_rate * 100))\n",
    "print('策略资金利用率比例:{:.4f}%'.format(metrics.cash_utilization * 100))\n",
    "print('策略共执行{}个交易日'.format(metrics.num_trading_days))"
   ]
  },
  {
   "cell_type": "code",
   "execution_count": 32,
   "metadata": {},
   "outputs": [
    {
     "data": {
      "image/png": "[encoded data removed]",
      "text/plain": [
       "<Figure size 1008x504 with 1 Axes>"
      ]
     },
     "metadata": {
      "needs_background": "light"
     },
     "output_type": "display_data"
    }
   ],
   "source": [
    "plt.figure(figsize=(14, 7))\n",
    "metrics.benchmark_cum_returns.plot()\n",
    "metrics.algorithm_cum_returns.plot()\n",
    "plt.legend(['benchmark returns', 'algorithm returns'], loc='best')\n",
    "plt.show()"
   ]
  },
  {
   "cell_type": "code",
   "execution_count": null,
   "metadata": {},
   "outputs": [],
   "source": []
  },
  {
   "cell_type": "code",
   "execution_count": null,
   "metadata": {},
   "outputs": [],
   "source": []
  }
 ],
 "metadata": {
  "kernelspec": {
   "display_name": "Python 3",
   "language": "python",
   "name": "python3"
  },
  "language_info": {
   "codemirror_mode": {
    "name": "ipython",
    "version": 3
   },
   "file_extension": ".py",
   "mimetype": "text/x-python",
   "name": "python",
   "nbconvert_exporter": "python",
   "pygments_lexer": "ipython3",
   "version": "3.6.8"
  }
 },
 "nbformat": 4,
 "nbformat_minor": 2
}
