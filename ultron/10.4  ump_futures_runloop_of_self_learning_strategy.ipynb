{
 "cells": [
  {
   "cell_type": "markdown",
   "metadata": {},
   "source": [
    "在沙盒环境，期货交易策略及拦截模型择时优化"
   ]
  },
  {
   "cell_type": "code",
   "execution_count": 1,
   "metadata": {},
   "outputs": [],
   "source": [
    "import os, copy, sys, datetime\n",
    "os.environ['ULTRON_DATA'] = 'keim'\n",
    "os.environ['IGNORE_WARNINGS'] = '0'\n",
    "import numpy as np\n",
    "import pandas as pd\n",
    "sys.path.insert(0, os.path.abspath('../'))"
   ]
  },
  {
   "cell_type": "code",
   "execution_count": 2,
   "metadata": {},
   "outputs": [
    {
     "name": "stdout",
     "output_type": "stream",
     "text": [
      "/var/log/ultron/2022-10-10.log\n"
     ]
    }
   ],
   "source": [
    "from ultron.env import *\n",
    "from ultron.ump.core import env\n",
    "from ultron.ump.indicator.atr import atr14, atr21\n",
    "from ultron.ump.market.symbol_pd import _benchmark\n",
    "from ultron.ump.metrics.metrics_base import MetricsBase\n",
    "from ultron.ump.factor import FactorPreAtrNStop, FactorAtrNStop, FactorCloseAtrNStop, \\\n",
    "    FactorBuyBreak, FactorBuyPutBreak\n",
    "from ultron.ump.core.ump import run_loop_back\n",
    "from ultron.kdutils.parallel import delayed, Parallel\n",
    "from ultron.kdutils.progress import MulPidProgress\n",
    "from matplotlib import pyplot as plt\n",
    "import seaborn as sns"
   ]
  },
  {
   "cell_type": "code",
   "execution_count": 3,
   "metadata": {},
   "outputs": [],
   "source": [
    "from ultron.ump.ump.main_deg import MainDeg\n",
    "from ultron.ump.ump.main_price import MainPrice\n",
    "from ultron.ump.ump.main_wave import MainWave\n",
    "from ultron.ump.ump.main_full import MainFull\n",
    "from ultron.ump.ump.main_mul import MainMul"
   ]
  },
  {
   "cell_type": "code",
   "execution_count": 4,
   "metadata": {},
   "outputs": [],
   "source": [
    "from ultron.ump.ump.edge_deg import EdgeDeg\n",
    "from ultron.ump.ump.edeg_price import EdgePrice\n",
    "from ultron.ump.ump.edge_wave import EdgeWave\n",
    "from ultron.ump.ump.edge_full import EdgeFull\n",
    "from ultron.ump.ump.edge_mul import EdgeMul"
   ]
  },
  {
   "cell_type": "code",
   "execution_count": 5,
   "metadata": {},
   "outputs": [],
   "source": [
    "os.environ['UMP_MODEL_PATH'] = g_project_data"
   ]
  },
  {
   "cell_type": "markdown",
   "metadata": {},
   "source": [
    "#### 加载行情数据"
   ]
  },
  {
   "cell_type": "code",
   "execution_count": 6,
   "metadata": {},
   "outputs": [],
   "source": [
    "def prev_returs_impl(price_data, key, name):\n",
    "    price_tb = price_data[key].unstack()\n",
    "    price_tb.fillna(method='pad', inplace=True)\n",
    "    return_tb = np.log(price_tb / price_tb.shift(1))\n",
    "    return_tb = return_tb.replace([np.inf, -np.inf], np.nan)\n",
    "    return_tb = return_tb.stack().reindex(price_data.index)\n",
    "    return_tb.name = name\n",
    "    return return_tb"
   ]
  },
  {
   "cell_type": "code",
   "execution_count": 7,
   "metadata": {},
   "outputs": [],
   "source": [
    "def pre_close_impl(price_data, key, name):\n",
    "    price_tb = price_data[key].unstack()\n",
    "    price_tb.fillna(method='pad', inplace=True)\n",
    "    return_tb = price_tb.shift(-1)\n",
    "    return_tb = return_tb.stack().reindex(price_data.index)\n",
    "    return_tb.name = name\n",
    "    return return_tb"
   ]
  },
  {
   "cell_type": "code",
   "execution_count": 8,
   "metadata": {},
   "outputs": [
    {
     "data": {
      "text/html": [
       "<div>\n",
       "<style scoped>\n",
       "    .dataframe tbody tr th:only-of-type {\n",
       "        vertical-align: middle;\n",
       "    }\n",
       "\n",
       "    .dataframe tbody tr th {\n",
       "        vertical-align: top;\n",
       "    }\n",
       "\n",
       "    .dataframe thead th {\n",
       "        text-align: right;\n",
       "    }\n",
       "</style>\n",
       "<table border=\"1\" class=\"dataframe\">\n",
       "  <thead>\n",
       "    <tr style=\"text-align: right;\">\n",
       "      <th></th>\n",
       "      <th>trade_date</th>\n",
       "      <th>code</th>\n",
       "      <th>openPrice</th>\n",
       "      <th>highestPrice</th>\n",
       "      <th>lowestPrice</th>\n",
       "      <th>closePrice</th>\n",
       "      <th>turnoverVol</th>\n",
       "      <th>pre1_ret</th>\n",
       "      <th>pre_close</th>\n",
       "    </tr>\n",
       "  </thead>\n",
       "  <tbody>\n",
       "    <tr>\n",
       "      <th>37248</th>\n",
       "      <td>2022-06-22</td>\n",
       "      <td>TA</td>\n",
       "      <td>6924.0</td>\n",
       "      <td>6982.0</td>\n",
       "      <td>6746.0</td>\n",
       "      <td>6762.0</td>\n",
       "      <td>1704954</td>\n",
       "      <td>-0.0205</td>\n",
       "      <td>NaN</td>\n",
       "    </tr>\n",
       "    <tr>\n",
       "      <th>37249</th>\n",
       "      <td>2022-06-22</td>\n",
       "      <td>V</td>\n",
       "      <td>7650.0</td>\n",
       "      <td>7707.0</td>\n",
       "      <td>7352.0</td>\n",
       "      <td>7381.0</td>\n",
       "      <td>918970</td>\n",
       "      <td>-0.0358</td>\n",
       "      <td>NaN</td>\n",
       "    </tr>\n",
       "    <tr>\n",
       "      <th>37250</th>\n",
       "      <td>2022-06-22</td>\n",
       "      <td>Y</td>\n",
       "      <td>10836.0</td>\n",
       "      <td>10864.0</td>\n",
       "      <td>10342.0</td>\n",
       "      <td>10372.0</td>\n",
       "      <td>844983</td>\n",
       "      <td>-0.0410</td>\n",
       "      <td>NaN</td>\n",
       "    </tr>\n",
       "    <tr>\n",
       "      <th>37251</th>\n",
       "      <td>2022-06-22</td>\n",
       "      <td>ZC</td>\n",
       "      <td>850.0</td>\n",
       "      <td>889.0</td>\n",
       "      <td>833.4</td>\n",
       "      <td>844.2</td>\n",
       "      <td>70</td>\n",
       "      <td>0.0002</td>\n",
       "      <td>NaN</td>\n",
       "    </tr>\n",
       "    <tr>\n",
       "      <th>37252</th>\n",
       "      <td>2022-06-22</td>\n",
       "      <td>ZN</td>\n",
       "      <td>25570.0</td>\n",
       "      <td>25860.0</td>\n",
       "      <td>25280.0</td>\n",
       "      <td>25295.0</td>\n",
       "      <td>160696</td>\n",
       "      <td>-0.0028</td>\n",
       "      <td>NaN</td>\n",
       "    </tr>\n",
       "  </tbody>\n",
       "</table>\n",
       "</div>"
      ],
      "text/plain": [
       "      trade_date code  openPrice  highestPrice  lowestPrice  closePrice  \\\n",
       "37248 2022-06-22   TA     6924.0        6982.0       6746.0      6762.0   \n",
       "37249 2022-06-22    V     7650.0        7707.0       7352.0      7381.0   \n",
       "37250 2022-06-22    Y    10836.0       10864.0      10342.0     10372.0   \n",
       "37251 2022-06-22   ZC      850.0         889.0        833.4       844.2   \n",
       "37252 2022-06-22   ZN    25570.0       25860.0      25280.0     25295.0   \n",
       "\n",
       "       turnoverVol  pre1_ret  pre_close  \n",
       "37248      1704954   -0.0205        NaN  \n",
       "37249       918970   -0.0358        NaN  \n",
       "37250       844983   -0.0410        NaN  \n",
       "37251           70    0.0002        NaN  \n",
       "37252       160696   -0.0028        NaN  "
      ]
     },
     "execution_count": 8,
     "metadata": {},
     "output_type": "execute_result"
    }
   ],
   "source": [
    "market_data = pd.read_csv(os.path.join(g_project_data, 'market_data.csv'), index_col=0)\n",
    "market_data['trade_date'] = pd.to_datetime(market_data['trade_date'])\n",
    "\n",
    "prev_rets = prev_returs_impl(\n",
    "    market_data.set_index(['trade_date','code']),'closePrice','pre1_ret').reset_index()\n",
    "prev_rets['trade_date'] = pd.to_datetime(prev_rets['trade_date'])\n",
    "\n",
    "\n",
    "pre_close = pre_close_impl(\n",
    "    market_data.set_index(['trade_date','code']),'closePrice','pre_close').reset_index()\n",
    "pre_close['trade_date'] = pd.to_datetime(pre_close['trade_date'])\n",
    "\n",
    "\n",
    "market_data = market_data.merge(prev_rets, on=['trade_date','code']).merge(\n",
    "    pre_close, on=['trade_date','code'])\n",
    "market_data.tail()"
   ]
  },
  {
   "cell_type": "code",
   "execution_count": 9,
   "metadata": {},
   "outputs": [],
   "source": [
    "env.g_market_target = env.EMarketTargetType.E_MARKET_TARGET_FUTURES_CN\n",
    "env.g_enable_ml_feature = True\n",
    "market_trade_year = 252\n",
    "n_fold = 2"
   ]
  },
  {
   "cell_type": "code",
   "execution_count": 10,
   "metadata": {},
   "outputs": [],
   "source": [
    "# 初始化资金500万\n",
    "read_cash = 5000000\n",
    "\n",
    "# 买入因子依然延用向上突破因子\n",
    "buy_factors = [{'xd': 60, 'class': FactorBuyBreak},\n",
    "               {'xd': 42, 'class': FactorBuyBreak},\n",
    "               {'xd': 42, 'class': FactorBuyPutBreak},\n",
    "               {'xd': 60, 'class': FactorBuyPutBreak}]\n",
    "\n",
    "sell_factors = [\n",
    "    {'stop_loss_n': 1.0, 'stop_win_n': 3.0,\n",
    "     'class': FactorAtrNStop},\n",
    "    {'class': FactorPreAtrNStop, 'pre_atr_n': 1.5},\n",
    "    {'class': FactorCloseAtrNStop, 'close_atr_n': 1.5}\n",
    "]"
   ]
  },
  {
   "cell_type": "code",
   "execution_count": 11,
   "metadata": {},
   "outputs": [],
   "source": [
    "def calc_atr(kline_df):\n",
    "    kline_df['atr21'] = 0\n",
    "    if kline_df.shape[0] > 21:\n",
    "        # 大于21d计算atr21\n",
    "        kline_df['atr21'] = atr21(kline_df['high'].values,\n",
    "                                  kline_df['low'].values,\n",
    "                                  kline_df['pre_close'].values)\n",
    "        # 将前面的bfill\n",
    "        kline_df['atr21'].fillna(method='bfill', inplace=True)\n",
    "    kline_df['atr14'] = 0\n",
    "    if kline_df.shape[0] > 14:\n",
    "        # 大于14d计算atr14\n",
    "        kline_df['atr14'] = atr14(kline_df['high'].values,\n",
    "                                  kline_df['low'].values,\n",
    "                                  kline_df['pre_close'].values)\n",
    "        # 将前面的bfill\n",
    "        kline_df['atr14'].fillna(method='bfill', inplace=True)"
   ]
  },
  {
   "cell_type": "code",
   "execution_count": 12,
   "metadata": {},
   "outputs": [],
   "source": [
    "pick_kl_pd_dict = {}"
   ]
  },
  {
   "cell_type": "code",
   "execution_count": 13,
   "metadata": {},
   "outputs": [],
   "source": [
    "market_data['date'] = pd.to_datetime(\n",
    "    market_data['trade_date']).dt.strftime('%Y%m%d').astype(int)\n",
    "market_data['date_week'] = market_data['date'].apply(\n",
    "    lambda x: datetime.datetime.strptime(str(x), '%Y%m%d').weekday())\n",
    "market_data['trade_date'] = pd.to_datetime(market_data['trade_date'])\n",
    "\n",
    "indicator_data = market_data.rename(\n",
    "    columns={\n",
    "        'pre_close': 'pre_close',\n",
    "        'openPrice': 'open',\n",
    "        'closePrice': 'close',\n",
    "        'highestPrice': 'high',\n",
    "        'lowestPrice': 'low',\n",
    "        'turnoverVol': 'volume',\n",
    "        'pre1_ret':'p_change'\n",
    "    }).set_index(['trade_date'])\n",
    "indicator_data['p_change'] = indicator_data['p_change'] * 100\n",
    "\n",
    "code = 'SA'\n",
    "benchmark_kl_pd = indicator_data.reset_index().set_index(\n",
    "    'code').loc[code].reset_index().set_index('trade_date')\n",
    "benchmark_kl_pd['key'] = list(range(0, len(benchmark_kl_pd)))\n",
    "benchmark_kl_pd.index = pd.to_datetime(benchmark_kl_pd.index)\n",
    "calc_atr(benchmark_kl_pd)\n",
    "ind = benchmark_kl_pd.key.values[-1] - market_trade_year * n_fold + 1\n",
    "start_date = benchmark_kl_pd.index[ind]\n",
    "benchmark_kl_pd = benchmark_kl_pd.loc[start_date:]\n",
    "benchmark_kl_pd.name = str(code) + '0'\n",
    "\n",
    "\n",
    "\n",
    "\n",
    "pick_kl_pd_dict = {}\n",
    "#['RB','I','JM','MA','TA']\n",
    "choice_symbols = [code for code in market_data['code'].unique().tolist() if code not in ['SA','LH']][0:10]\n",
    "for code in choice_symbols:\n",
    "    kl_pd = indicator_data.reset_index().set_index(\n",
    "        'code').loc[code].reset_index().set_index('trade_date')\n",
    "    kl_pd.index = pd.to_datetime(kl_pd.index)\n",
    "    kl_pd.name = str(code) + '0'\n",
    "    kl_pd = _benchmark(kl_pd, benchmark_kl_pd)\n",
    "    calc_atr(kl_pd)\n",
    "    kl_pd['key'] = list(range(0, len(kl_pd)))\n",
    "    pick_kl_pd_dict[str(code) + '0'] = kl_pd\n",
    "\n",
    "choice_symbols = [str(code) + '0' for code in choice_symbols]"
   ]
  },
  {
   "cell_type": "code",
   "execution_count": 14,
   "metadata": {},
   "outputs": [
    {
     "data": {
      "text/plain": [
       "10"
      ]
     },
     "execution_count": 14,
     "metadata": {},
     "output_type": "execute_result"
    }
   ],
   "source": [
    "len(choice_symbols)"
   ]
  },
  {
   "cell_type": "code",
   "execution_count": 15,
   "metadata": {},
   "outputs": [
    {
     "data": {
      "application/vnd.jupyter.widget-view+json": {
       "model_id": "",
       "version_major": 2,
       "version_minor": 0
      },
      "text/plain": [
       "Box(children=(Text(value='pid=10245 begin work'), FloatProgress(value=0.0)))"
      ]
     },
     "metadata": {},
     "output_type": "display_data"
    },
    {
     "name": "stdout",
     "output_type": "stream",
     "text": [
      "capital.apply_action::100.0%\r"
     ]
    }
   ],
   "source": [
    "result_tuple, kl_pd_manager = run_loop_back(read_cash=read_cash, buy_factors=buy_factors,\n",
    "              sell_factors=sell_factors, \n",
    "              benchmark_kl_pd=benchmark_kl_pd,\n",
    "              pick_kl_pd_dict=pick_kl_pd_dict,\n",
    "              choice_symbols=choice_symbols)"
   ]
  },
  {
   "cell_type": "code",
   "execution_count": 16,
   "metadata": {},
   "outputs": [],
   "source": [
    "metrics = MetricsBase.show_general(result_tuple.orders_pd, result_tuple.action_pd,\n",
    "                                        result_tuple.capital, result_tuple.benchmark)"
   ]
  },
  {
   "cell_type": "code",
   "execution_count": 17,
   "metadata": {},
   "outputs": [
    {
     "name": "stdout",
     "output_type": "stream",
     "text": [
      "买入后卖出的交易数量:175\n",
      "买入后尚未卖出的交易数量:6\n",
      "平均获利期望:4.3141%\n",
      "策略收益: 10.7490%\n",
      "基准收益: 22.5363%\n",
      "策略年化收益: 5.3318%\n",
      "基准年化收益: 11.1787%\n",
      "策略买入成交比例:71.8232%\n",
      "策略资金利用率比例:53.3941%\n",
      "策略共执行504个交易日\n"
     ]
    }
   ],
   "source": [
    "## 考虑资金情况下的度量，进行与benchmark的收益度量对比\n",
    "print('买入后卖出的交易数量:{}'.format(metrics.order_has_ret.shape[0]))\n",
    "print('买入后尚未卖出的交易数量:{}'.format(metrics.order_keep.shape[0]))\n",
    "#print('胜率:{:.4f}%'.format(metrics.win_rate * 100))\n",
    "print('平均获利期望:{:.4f}%'.format(metrics.gains_mean * 100))\n",
    "#print('平均亏损期望:{:.4f}%'.format(metrics.losses_mean * 100))\n",
    "#print('盈亏比:{:.4f}'.format(metrics.win_loss_profit_rate))\n",
    "print('策略收益: {:.4f}%'.format(metrics.algorithm_period_returns *\n",
    "                                             100))\n",
    "print('基准收益: {:.4f}%'.format(metrics.benchmark_period_returns *\n",
    "                                             100))\n",
    "print('策略年化收益: {:.4f}%'.format(\n",
    "            metrics.algorithm_annualized_returns * 100))\n",
    "print('基准年化收益: {:.4f}%'.format(\n",
    "            metrics.benchmark_annualized_returns * 100))\n",
    "print('策略买入成交比例:{:.4f}%'.format(metrics.buy_deal_rate * 100))\n",
    "print('策略资金利用率比例:{:.4f}%'.format(metrics.cash_utilization * 100))\n",
    "print('策略共执行{}个交易日'.format(metrics.num_trading_days))"
   ]
  },
  {
   "cell_type": "code",
   "execution_count": 18,
   "metadata": {},
   "outputs": [
    {
     "data": {
      "image/png": "[encoded data removed]",
      "text/plain": [
       "<Figure size 1008x504 with 1 Axes>"
      ]
     },
     "metadata": {
      "needs_background": "light"
     },
     "output_type": "display_data"
    }
   ],
   "source": [
    "plt.figure(figsize=(14, 7))\n",
    "metrics.benchmark_cum_returns.plot()\n",
    "metrics.algorithm_cum_returns.plot()\n",
    "plt.legend(['benchmark returns', 'algorithm returns'], loc='best')\n",
    "plt.show()"
   ]
  },
  {
   "cell_type": "markdown",
   "metadata": {},
   "source": [
    "### 裁决模型训练"
   ]
  },
  {
   "cell_type": "code",
   "execution_count": 19,
   "metadata": {},
   "outputs": [],
   "source": [
    "ump_deg=None\n",
    "ump_mul=None\n",
    "ump_price=None\n",
    "ump_wave=None"
   ]
  },
  {
   "cell_type": "code",
   "execution_count": 20,
   "metadata": {},
   "outputs": [],
   "source": [
    "orders_pd_train_cn = result_tuple.orders_pd\n",
    "\n",
    "def train_main_ump():\n",
    "    print('UmpMainDeg begin...')\n",
    "    MainDeg.ump_main_clf_dump(orders_pd_train_cn)\n",
    "    print('UmpMainPrice begin...')\n",
    "    MainPrice.ump_main_clf_dump(orders_pd_train_cn)\n",
    "    print('UmpMainMul begin...')\n",
    "    MainMul.ump_main_clf_dump(orders_pd_train_cn)\n",
    "    print('MainWave begin...')\n",
    "    MainWave.ump_main_clf_dump(orders_pd_train_cn)\n",
    "    # 依然使用load_main_ump，避免下面多进程内存拷贝过大\n",
    "    load_main_ump()\n",
    "    \n",
    "def load_main_ump():\n",
    "    global ump_deg, ump_mul, ump_price, ump_wave\n",
    "    ump_deg = MainDeg(predict=True)\n",
    "    ump_mul = MainMul(predict=True)\n",
    "    ump_price = MainPrice(predict=True)\n",
    "    ump_wave = MainWave(predict=True)\n",
    "    print('load main ump complete!')"
   ]
  },
  {
   "cell_type": "code",
   "execution_count": 21,
   "metadata": {},
   "outputs": [
    {
     "name": "stdout",
     "output_type": "stream",
     "text": [
      "UmpMainDeg begin...\n",
      "please wait! dump_pickle....: /home/kerry/ultron/rom/sandbox/keim/ump/ump_main_futures_cn_deg_main\n",
      "UmpMainPrice begin...\n",
      "please wait! dump_pickle....: /home/kerry/ultron/rom/sandbox/keim/ump/ump_main_futures_cn_price_main\n",
      "UmpMainMul begin...\n",
      "please wait! dump_pickle....: /home/kerry/ultron/rom/sandbox/keim/ump/ump_main_futures_cn_mul_main\n",
      "MainWave begin...\n",
      "please wait! dump_pickle....: /home/kerry/ultron/rom/sandbox/keim/ump/ump_main_futures_cn_wave_main\n",
      "load main ump complete!\n",
      "CPU times: user 14min 5s, sys: 23.7 s, total: 14min 28s\n",
      "Wall time: 14min 48s\n"
     ]
    }
   ],
   "source": [
    "%%time\n",
    "train_main_ump()\n",
    "#load_main_ump()"
   ]
  },
  {
   "cell_type": "markdown",
   "metadata": {},
   "source": [
    "### 验证主裁是否称职"
   ]
  },
  {
   "cell_type": "code",
   "execution_count": 22,
   "metadata": {},
   "outputs": [],
   "source": [
    "# 选取有交易结果的数据order_has_result\n",
    "order_has_result = result_tuple.orders_pd[result_tuple.orders_pd.result != 0]"
   ]
  },
  {
   "cell_type": "code",
   "execution_count": 23,
   "metadata": {},
   "outputs": [
    {
     "data": {
      "text/html": [
       "<div>\n",
       "<style scoped>\n",
       "    .dataframe tbody tr th:only-of-type {\n",
       "        vertical-align: middle;\n",
       "    }\n",
       "\n",
       "    .dataframe tbody tr th {\n",
       "        vertical-align: top;\n",
       "    }\n",
       "\n",
       "    .dataframe thead th {\n",
       "        text-align: right;\n",
       "    }\n",
       "</style>\n",
       "<table border=\"1\" class=\"dataframe\">\n",
       "  <thead>\n",
       "    <tr style=\"text-align: right;\">\n",
       "      <th></th>\n",
       "      <th>buy_deg_ang42</th>\n",
       "      <th>buy_deg_ang252</th>\n",
       "      <th>buy_deg_ang60</th>\n",
       "      <th>buy_deg_ang21</th>\n",
       "      <th>buy_price_rank120</th>\n",
       "      <th>buy_price_rank90</th>\n",
       "      <th>buy_price_rank60</th>\n",
       "      <th>buy_price_rank252</th>\n",
       "      <th>buy_wave_score1</th>\n",
       "      <th>buy_wave_score2</th>\n",
       "      <th>buy_wave_score3</th>\n",
       "      <th>buy_jump_up_power</th>\n",
       "      <th>buy_jump_down_power</th>\n",
       "    </tr>\n",
       "  </thead>\n",
       "  <tbody>\n",
       "    <tr>\n",
       "      <th>2020-07-27</th>\n",
       "      <td>3.568</td>\n",
       "      <td>3.568</td>\n",
       "      <td>3.568</td>\n",
       "      <td>3.539</td>\n",
       "      <td>1.0</td>\n",
       "      <td>1.0</td>\n",
       "      <td>1.0</td>\n",
       "      <td>1.0</td>\n",
       "      <td>1.194</td>\n",
       "      <td>1.144</td>\n",
       "      <td>1.125</td>\n",
       "      <td>0.0</td>\n",
       "      <td>0.000</td>\n",
       "    </tr>\n",
       "    <tr>\n",
       "      <th>2020-07-28</th>\n",
       "      <td>4.222</td>\n",
       "      <td>4.273</td>\n",
       "      <td>4.273</td>\n",
       "      <td>4.670</td>\n",
       "      <td>1.0</td>\n",
       "      <td>1.0</td>\n",
       "      <td>1.0</td>\n",
       "      <td>1.0</td>\n",
       "      <td>1.737</td>\n",
       "      <td>1.653</td>\n",
       "      <td>1.616</td>\n",
       "      <td>0.0</td>\n",
       "      <td>-1.307</td>\n",
       "    </tr>\n",
       "    <tr>\n",
       "      <th>2020-07-31</th>\n",
       "      <td>6.965</td>\n",
       "      <td>7.686</td>\n",
       "      <td>7.686</td>\n",
       "      <td>2.105</td>\n",
       "      <td>1.0</td>\n",
       "      <td>1.0</td>\n",
       "      <td>1.0</td>\n",
       "      <td>1.0</td>\n",
       "      <td>0.975</td>\n",
       "      <td>1.002</td>\n",
       "      <td>1.004</td>\n",
       "      <td>0.0</td>\n",
       "      <td>0.000</td>\n",
       "    </tr>\n",
       "    <tr>\n",
       "      <th>2020-08-03</th>\n",
       "      <td>4.862</td>\n",
       "      <td>5.429</td>\n",
       "      <td>5.429</td>\n",
       "      <td>2.734</td>\n",
       "      <td>1.0</td>\n",
       "      <td>1.0</td>\n",
       "      <td>1.0</td>\n",
       "      <td>1.0</td>\n",
       "      <td>0.322</td>\n",
       "      <td>0.335</td>\n",
       "      <td>0.343</td>\n",
       "      <td>0.0</td>\n",
       "      <td>0.000</td>\n",
       "    </tr>\n",
       "    <tr>\n",
       "      <th>2020-08-03</th>\n",
       "      <td>6.804</td>\n",
       "      <td>7.880</td>\n",
       "      <td>7.880</td>\n",
       "      <td>5.373</td>\n",
       "      <td>1.0</td>\n",
       "      <td>1.0</td>\n",
       "      <td>1.0</td>\n",
       "      <td>1.0</td>\n",
       "      <td>0.267</td>\n",
       "      <td>0.317</td>\n",
       "      <td>0.335</td>\n",
       "      <td>0.0</td>\n",
       "      <td>0.000</td>\n",
       "    </tr>\n",
       "  </tbody>\n",
       "</table>\n",
       "</div>"
      ],
      "text/plain": [
       "            buy_deg_ang42  buy_deg_ang252  buy_deg_ang60  buy_deg_ang21  \\\n",
       "2020-07-27          3.568           3.568          3.568          3.539   \n",
       "2020-07-28          4.222           4.273          4.273          4.670   \n",
       "2020-07-31          6.965           7.686          7.686          2.105   \n",
       "2020-08-03          4.862           5.429          5.429          2.734   \n",
       "2020-08-03          6.804           7.880          7.880          5.373   \n",
       "\n",
       "            buy_price_rank120  buy_price_rank90  buy_price_rank60  \\\n",
       "2020-07-27                1.0               1.0               1.0   \n",
       "2020-07-28                1.0               1.0               1.0   \n",
       "2020-07-31                1.0               1.0               1.0   \n",
       "2020-08-03                1.0               1.0               1.0   \n",
       "2020-08-03                1.0               1.0               1.0   \n",
       "\n",
       "            buy_price_rank252  buy_wave_score1  buy_wave_score2  \\\n",
       "2020-07-27                1.0            1.194            1.144   \n",
       "2020-07-28                1.0            1.737            1.653   \n",
       "2020-07-31                1.0            0.975            1.002   \n",
       "2020-08-03                1.0            0.322            0.335   \n",
       "2020-08-03                1.0            0.267            0.317   \n",
       "\n",
       "            buy_wave_score3  buy_jump_up_power  buy_jump_down_power  \n",
       "2020-07-27            1.125                0.0                0.000  \n",
       "2020-07-28            1.616                0.0               -1.307  \n",
       "2020-07-31            1.004                0.0                0.000  \n",
       "2020-08-03            0.343                0.0                0.000  \n",
       "2020-08-03            0.335                0.0                0.000  "
      ]
     },
     "execution_count": 23,
     "metadata": {},
     "output_type": "execute_result"
    }
   ],
   "source": [
    "order_has_result.filter(regex='^buy(_deg_|_price_|_wave_|_jump)').head()"
   ]
  },
  {
   "cell_type": "markdown",
   "metadata": {},
   "source": [
    "可以通过一个一个迭代交易单，将交易单中的买入时刻特征传递给ump主裁决策器，让每一个主裁来决策是否进行拦截，这样可以统计每一个主裁的拦截成功率，以及整体拦截率等，如下所示："
   ]
  },
  {
   "cell_type": "code",
   "execution_count": 24,
   "metadata": {},
   "outputs": [
    {
     "data": {
      "application/vnd.jupyter.widget-view+json": {
       "model_id": "",
       "version_major": 2,
       "version_minor": 0
      },
      "text/plain": [
       "Box(children=(Text(value='pid=10245 begin work'), FloatProgress(value=0.0)))"
      ]
     },
     "metadata": {},
     "output_type": "display_data"
    },
    {
     "name": "stdout",
     "output_type": "stream",
     "text": [
      "please wait! load_pickle....: /home/kerry/ultron/rom/sandbox/keim/ump/ump_main_futures_cn_deg_main\n"
     ]
    },
    {
     "data": {
      "application/vnd.jupyter.widget-view+json": {
       "model_id": "",
       "version_major": 2,
       "version_minor": 0
      },
      "text/plain": [
       "Box(children=(Text(value='pid=10245 begin work'), FloatProgress(value=0.0)))"
      ]
     },
     "metadata": {},
     "output_type": "display_data"
    },
    {
     "name": "stdout",
     "output_type": "stream",
     "text": [
      "please wait! load_pickle....: /home/kerry/ultron/rom/sandbox/keim/ump/ump_main_futures_cn_mul_main\n"
     ]
    },
    {
     "data": {
      "application/vnd.jupyter.widget-view+json": {
       "model_id": "",
       "version_major": 2,
       "version_minor": 0
      },
      "text/plain": [
       "Box(children=(Text(value='pid=10245 begin work'), FloatProgress(value=0.0)))"
      ]
     },
     "metadata": {},
     "output_type": "display_data"
    },
    {
     "name": "stdout",
     "output_type": "stream",
     "text": [
      "please wait! load_pickle....: /home/kerry/ultron/rom/sandbox/keim/ump/ump_main_futures_cn_price_main\n"
     ]
    },
    {
     "data": {
      "application/vnd.jupyter.widget-view+json": {
       "model_id": "",
       "version_major": 2,
       "version_minor": 0
      },
      "text/plain": [
       "Box(children=(Text(value='pid=10245 begin work'), FloatProgress(value=0.0)))"
      ]
     },
     "metadata": {},
     "output_type": "display_data"
    },
    {
     "name": "stdout",
     "output_type": "stream",
     "text": [
      "please wait! load_pickle....: /home/kerry/ultron/rom/sandbox/keim/ump/ump_main_futures_cn_wave_main\n"
     ]
    }
   ],
   "source": [
    "def apply_ml_features_ump(order, predicter, progress, need_hit_cnt):\n",
    "    if not isinstance(order.ml_features, dict):\n",
    "        import ast\n",
    "        # 低版本pandas dict对象取出来会成为str\n",
    "        ml_features = ast.literal_eval(order.ml_features)\n",
    "    else:\n",
    "        ml_features = order.ml_features\n",
    "    progress.show()\n",
    "    # 将交易单中的买入时刻特征传递给ump主裁决策器，让每一个主裁来决策是否进行拦截\n",
    "    return predicter.predict_kwargs(need_hit_cnt=need_hit_cnt, **ml_features)\n",
    "\n",
    "def pararllel_func(ump_object, ump_name):\n",
    "    with MulPidProgress(len(order_has_result), '{} complete'.format(ump_name)) as progress:\n",
    "        # 启动多进程进度条，对order_has_result进行apply\n",
    "        ump_result = order_has_result.apply(apply_ml_features_ump, axis=1, args=(ump_object, progress, 2,))\n",
    "    return ump_name, ump_result\n",
    "\n",
    "out = []\n",
    "for ump_object, ump_name in zip([ump_deg, ump_mul, ump_price, ump_wave], \n",
    "                                ['ump_deg', 'ump_mul', 'ump_price', 'ump_wave']):\n",
    "    ump_name, ump_result = pararllel_func(ump_object, ump_name)\n",
    "    out.append((ump_name, ump_result))\n",
    "    \n",
    "# 将每一个进程中的裁判的拦截决策进行汇总\n",
    "for sub_out in out:\n",
    "    order_has_result[sub_out[0]] = sub_out[1]"
   ]
  },
  {
   "cell_type": "code",
   "execution_count": 25,
   "metadata": {},
   "outputs": [
    {
     "name": "stdout",
     "output_type": "stream",
     "text": [
      "四个裁判整体拦截正确率80.39%\n"
     ]
    },
    {
     "data": {
      "text/html": [
       "<div>\n",
       "<style scoped>\n",
       "    .dataframe tbody tr th:only-of-type {\n",
       "        vertical-align: middle;\n",
       "    }\n",
       "\n",
       "    .dataframe tbody tr th {\n",
       "        vertical-align: top;\n",
       "    }\n",
       "\n",
       "    .dataframe thead th {\n",
       "        text-align: right;\n",
       "    }\n",
       "</style>\n",
       "<table border=\"1\" class=\"dataframe\">\n",
       "  <thead>\n",
       "    <tr style=\"text-align: right;\">\n",
       "      <th></th>\n",
       "      <th>ump_deg</th>\n",
       "      <th>ump_mul</th>\n",
       "      <th>ump_price</th>\n",
       "      <th>ump_wave</th>\n",
       "      <th>sum_bk</th>\n",
       "      <th>result</th>\n",
       "    </tr>\n",
       "  </thead>\n",
       "  <tbody>\n",
       "    <tr>\n",
       "      <th>2022-05-25</th>\n",
       "      <td>1</td>\n",
       "      <td>0</td>\n",
       "      <td>0</td>\n",
       "      <td>1</td>\n",
       "      <td>2</td>\n",
       "      <td>1</td>\n",
       "    </tr>\n",
       "    <tr>\n",
       "      <th>2022-06-06</th>\n",
       "      <td>1</td>\n",
       "      <td>1</td>\n",
       "      <td>1</td>\n",
       "      <td>1</td>\n",
       "      <td>4</td>\n",
       "      <td>-1</td>\n",
       "    </tr>\n",
       "    <tr>\n",
       "      <th>2022-06-06</th>\n",
       "      <td>1</td>\n",
       "      <td>1</td>\n",
       "      <td>1</td>\n",
       "      <td>1</td>\n",
       "      <td>4</td>\n",
       "      <td>-1</td>\n",
       "    </tr>\n",
       "    <tr>\n",
       "      <th>2022-06-10</th>\n",
       "      <td>1</td>\n",
       "      <td>1</td>\n",
       "      <td>1</td>\n",
       "      <td>1</td>\n",
       "      <td>4</td>\n",
       "      <td>-1</td>\n",
       "    </tr>\n",
       "    <tr>\n",
       "      <th>2022-06-16</th>\n",
       "      <td>0</td>\n",
       "      <td>0</td>\n",
       "      <td>0</td>\n",
       "      <td>1</td>\n",
       "      <td>1</td>\n",
       "      <td>1</td>\n",
       "    </tr>\n",
       "  </tbody>\n",
       "</table>\n",
       "</div>"
      ],
      "text/plain": [
       "            ump_deg  ump_mul  ump_price  ump_wave  sum_bk  result\n",
       "2022-05-25        1        0          0         1       2       1\n",
       "2022-06-06        1        1          1         1       4      -1\n",
       "2022-06-06        1        1          1         1       4      -1\n",
       "2022-06-10        1        1          1         1       4      -1\n",
       "2022-06-16        0        0          0         1       1       1"
      ]
     },
     "execution_count": 25,
     "metadata": {},
     "output_type": "execute_result"
    }
   ],
   "source": [
    "block_pd = order_has_result.filter(regex='^ump_*')\n",
    "# 把所有主裁的决策进行相加\n",
    "block_pd['sum_bk'] = block_pd.sum(axis=1)\n",
    "block_pd['result'] = order_has_result['result']\n",
    "# 有投票1的即会进行拦截\n",
    "block_pd = block_pd[block_pd.sum_bk > 0]\n",
    "print('四个裁判整体拦截正确率{:.2f}%'.format(\n",
    "    block_pd[block_pd.result == -1].result.count() / block_pd.result.count() * 100))\n",
    "block_pd.tail()"
   ]
  },
  {
   "cell_type": "markdown",
   "metadata": {},
   "source": [
    "下面统计每一个主裁的拦截正确率："
   ]
  },
  {
   "cell_type": "code",
   "execution_count": 26,
   "metadata": {},
   "outputs": [
    {
     "name": "stdout",
     "output_type": "stream",
     "text": [
      "角度裁判拦截正确率86.67%, 拦截交易数量75\n",
      "波动裁判拦拦截正确率86.57%, 拦截交易数量67\n",
      "单混裁判拦截正确率91.30%, 拦截交易数量69\n",
      "价格裁判拦截正确率100.00%, 拦截交易数量45\n"
     ]
    }
   ],
   "source": [
    "from sklearn import metrics\n",
    "def sub_ump_show(block_name):\n",
    "    sub_block_pd = block_pd[(block_pd[block_name] == 1)]\n",
    "    # 如果失败就正确 －1->1 1->0\n",
    "    sub_block_pd.result = np.where(sub_block_pd.result == -1, 1, 0)\n",
    "    return metrics.accuracy_score(sub_block_pd[block_name], sub_block_pd.result) * 100, sub_block_pd.result.count()\n",
    "\n",
    "print('角度裁判拦截正确率{:.2f}%, 拦截交易数量{}'.format(*sub_ump_show('ump_deg')))\n",
    "print('波动裁判拦拦截正确率{:.2f}%, 拦截交易数量{}'.format(*sub_ump_show('ump_wave')))\n",
    "print('单混裁判拦截正确率{:.2f}%, 拦截交易数量{}'.format(*sub_ump_show('ump_mul')))\n",
    "print('价格裁判拦截正确率{:.2f}%, 拦截交易数量{}'.format(*sub_ump_show('ump_price')))"
   ]
  },
  {
   "cell_type": "markdown",
   "metadata": {},
   "source": [
    "### 验证边裁是否称职"
   ]
  },
  {
   "cell_type": "code",
   "execution_count": 27,
   "metadata": {},
   "outputs": [
    {
     "name": "stdout",
     "output_type": "stream",
     "text": [
      "EdgeDeg begin...\n",
      "please wait! dump_pickle....: /home/kerry/ultron/rom/sandbox/keim/ump/ump_edge_futures_cn_deg_edge\n",
      "EdgePrice begin...\n",
      "please wait! dump_pickle....: /home/kerry/ultron/rom/sandbox/keim/ump/ump_edge_futures_cn_price_edge\n",
      "EdgeMul begin...\n",
      "please wait! dump_pickle....: /home/kerry/ultron/rom/sandbox/keim/ump/ump_edge_futures_cn_mul_edge\n",
      "EdgeWave begin...\n",
      "please wait! dump_pickle....: /home/kerry/ultron/rom/sandbox/keim/ump/ump_edge_futures_cn_wave_edge\n",
      "EdgeFull begin...\n",
      "please wait! dump_pickle....: /home/kerry/ultron/rom/sandbox/keim/ump/ump_edge_futures_cn_full_edge\n",
      "fit edge complete!\n"
     ]
    }
   ],
   "source": [
    "print('EdgeDeg begin...')\n",
    "EdgeDeg.ump_edge_clf_dump(orders_pd_train_cn)\n",
    "edge_deg = EdgeDeg(predict=True)\n",
    "\n",
    "print('EdgePrice begin...')\n",
    "EdgePrice.ump_edge_clf_dump(orders_pd_train_cn)\n",
    "edge_price = EdgePrice(predict=True)\n",
    "\n",
    "print('EdgeMul begin...')\n",
    "EdgeMul.ump_edge_clf_dump(orders_pd_train_cn)\n",
    "edge_mul = EdgeMul(predict=True)\n",
    "\n",
    "print('EdgeWave begin...')\n",
    "EdgeWave.ump_edge_clf_dump(orders_pd_train_cn)\n",
    "edge_wave = EdgeWave(predict=True)\n",
    "\n",
    "print('EdgeFull begin...')\n",
    "EdgeFull.ump_edge_clf_dump(orders_pd_train_cn)\n",
    "edge_full = EdgeFull(predict=True)\n",
    "\n",
    "print('fit edge complete!')"
   ]
  },
  {
   "cell_type": "markdown",
   "metadata": {},
   "source": [
    "### 验证边裁是否称职"
   ]
  },
  {
   "cell_type": "code",
   "execution_count": 28,
   "metadata": {},
   "outputs": [
    {
     "data": {
      "application/vnd.jupyter.widget-view+json": {
       "model_id": "",
       "version_major": 2,
       "version_minor": 0
      },
      "text/plain": [
       "Box(children=(Text(value='pid=10245 begin work'), FloatProgress(value=0.0)))"
      ]
     },
     "metadata": {},
     "output_type": "display_data"
    },
    {
     "name": "stdout",
     "output_type": "stream",
     "text": [
      "please wait! load_pickle....: /home/kerry/ultron/rom/sandbox/keim/ump/ump_edge_futures_cn_deg_edge\n"
     ]
    },
    {
     "data": {
      "application/vnd.jupyter.widget-view+json": {
       "model_id": "",
       "version_major": 2,
       "version_minor": 0
      },
      "text/plain": [
       "Box(children=(Text(value='pid=10245 begin work'), FloatProgress(value=0.0)))"
      ]
     },
     "metadata": {},
     "output_type": "display_data"
    },
    {
     "name": "stdout",
     "output_type": "stream",
     "text": [
      "please wait! load_pickle....: /home/kerry/ultron/rom/sandbox/keim/ump/ump_edge_futures_cn_price_edge\n"
     ]
    },
    {
     "data": {
      "application/vnd.jupyter.widget-view+json": {
       "model_id": "",
       "version_major": 2,
       "version_minor": 0
      },
      "text/plain": [
       "Box(children=(Text(value='pid=10245 begin work'), FloatProgress(value=0.0)))"
      ]
     },
     "metadata": {},
     "output_type": "display_data"
    },
    {
     "name": "stdout",
     "output_type": "stream",
     "text": [
      "please wait! load_pickle....: /home/kerry/ultron/rom/sandbox/keim/ump/ump_edge_futures_cn_mul_edge\n"
     ]
    },
    {
     "data": {
      "application/vnd.jupyter.widget-view+json": {
       "model_id": "",
       "version_major": 2,
       "version_minor": 0
      },
      "text/plain": [
       "Box(children=(Text(value='pid=10245 begin work'), FloatProgress(value=0.0)))"
      ]
     },
     "metadata": {},
     "output_type": "display_data"
    },
    {
     "name": "stdout",
     "output_type": "stream",
     "text": [
      "please wait! load_pickle....: /home/kerry/ultron/rom/sandbox/keim/ump/ump_edge_futures_cn_wave_edge\n"
     ]
    }
   ],
   "source": [
    "def apply_ml_features_edge(order, predicter, progress):\n",
    "    if not isinstance(order.ml_features, dict):\n",
    "        import ast\n",
    "        # 低版本pandas dict对象取出来会成为str\n",
    "        ml_features = ast.literal_eval(order.ml_features)\n",
    "    else:\n",
    "        ml_features = order.ml_features\n",
    "    # 边裁进行裁决\n",
    "    progress.show()\n",
    "    # 将交易单中的买入时刻特征传递给ump边裁决策器，让每一个边裁来决策是否进行拦截\n",
    "    edge = predicter.predict(**ml_features)\n",
    "    return edge.value\n",
    "\n",
    "\n",
    "def edge_pararllel_func(edge, edge_name):\n",
    "    with MulPidProgress(len(order_has_result), '{} complete'.format(edge_name)) as progress:\n",
    "        # # 启动多进程进度条，对order_has_result进行apply\n",
    "        edge_result = order_has_result.apply(apply_ml_features_edge, axis=1, args=(edge, progress,))\n",
    "    return edge_name, edge_result\n",
    "\n",
    "for edge, edge_name in zip([edge_deg, edge_price, edge_mul, edge_wave], \n",
    "                        ['edge_deg', 'edge_price', 'edge_mul', 'edge_wave']):\n",
    "    \n",
    "    edge_name, edge_result = edge_pararllel_func(edge, edge_name)\n",
    "    out.append((edge_name, edge_result))\n",
    "    \n",
    "# 将每一个进程中的裁判的拦截决策进行汇总\n",
    "for sub_out in out:\n",
    "    order_has_result[sub_out[0]] = sub_out[1]"
   ]
  },
  {
   "cell_type": "code",
   "execution_count": 29,
   "metadata": {},
   "outputs": [
    {
     "name": "stdout",
     "output_type": "stream",
     "text": [
      "四个裁判整体拦截正确率56.96%\n",
      "四个边裁拦截交易总数79， 拦截率45.14%\n"
     ]
    },
    {
     "data": {
      "text/html": [
       "<div>\n",
       "<style scoped>\n",
       "    .dataframe tbody tr th:only-of-type {\n",
       "        vertical-align: middle;\n",
       "    }\n",
       "\n",
       "    .dataframe tbody tr th {\n",
       "        vertical-align: top;\n",
       "    }\n",
       "\n",
       "    .dataframe thead th {\n",
       "        text-align: right;\n",
       "    }\n",
       "</style>\n",
       "<table border=\"1\" class=\"dataframe\">\n",
       "  <thead>\n",
       "    <tr style=\"text-align: right;\">\n",
       "      <th></th>\n",
       "      <th>edge_deg</th>\n",
       "      <th>edge_price</th>\n",
       "      <th>edge_mul</th>\n",
       "      <th>edge_wave</th>\n",
       "      <th>edge_block</th>\n",
       "      <th>result</th>\n",
       "    </tr>\n",
       "  </thead>\n",
       "  <tbody>\n",
       "    <tr>\n",
       "      <th>2020-07-31</th>\n",
       "      <td>-1</td>\n",
       "      <td>1</td>\n",
       "      <td>1</td>\n",
       "      <td>0</td>\n",
       "      <td>-1</td>\n",
       "      <td>-1</td>\n",
       "    </tr>\n",
       "    <tr>\n",
       "      <th>2020-08-20</th>\n",
       "      <td>-1</td>\n",
       "      <td>1</td>\n",
       "      <td>0</td>\n",
       "      <td>0</td>\n",
       "      <td>-1</td>\n",
       "      <td>1</td>\n",
       "    </tr>\n",
       "    <tr>\n",
       "      <th>2020-08-26</th>\n",
       "      <td>-1</td>\n",
       "      <td>1</td>\n",
       "      <td>-1</td>\n",
       "      <td>0</td>\n",
       "      <td>-1</td>\n",
       "      <td>-1</td>\n",
       "    </tr>\n",
       "    <tr>\n",
       "      <th>2020-08-27</th>\n",
       "      <td>-1</td>\n",
       "      <td>1</td>\n",
       "      <td>0</td>\n",
       "      <td>0</td>\n",
       "      <td>-1</td>\n",
       "      <td>-1</td>\n",
       "    </tr>\n",
       "    <tr>\n",
       "      <th>2020-09-01</th>\n",
       "      <td>-1</td>\n",
       "      <td>1</td>\n",
       "      <td>0</td>\n",
       "      <td>0</td>\n",
       "      <td>-1</td>\n",
       "      <td>-1</td>\n",
       "    </tr>\n",
       "  </tbody>\n",
       "</table>\n",
       "</div>"
      ],
      "text/plain": [
       "            edge_deg  edge_price  edge_mul  edge_wave  edge_block  result\n",
       "2020-07-31        -1           1         1          0          -1      -1\n",
       "2020-08-20        -1           1         0          0          -1       1\n",
       "2020-08-26        -1           1        -1          0          -1      -1\n",
       "2020-08-27        -1           1         0          0          -1      -1\n",
       "2020-09-01        -1           1         0          0          -1      -1"
      ]
     },
     "execution_count": 29,
     "metadata": {},
     "output_type": "execute_result"
    }
   ],
   "source": [
    "block_pd = order_has_result.filter(regex='^edge_*')\n",
    "\"\"\"\n",
    "    由于predict返回的结果中1代表win top\n",
    "    但是我们只需要知道loss_top，所以只保留-1, 其他1转换为0。\n",
    "\"\"\"\n",
    "block_pd['edge_block'] = \\\n",
    "    np.where(np.min(block_pd, axis=1) == -1, -1, 0)\n",
    "\n",
    "# 拿出真实的交易结果\n",
    "block_pd['result'] = order_has_result['result']\n",
    "# 拿出-1的结果，即判定loss_top的\n",
    "block_pd = block_pd[block_pd.edge_block == -1]\n",
    "\n",
    "\n",
    "print('四个裁判整体拦截正确率{:.2f}%'.format(block_pd[block_pd.result == -1].result.count() / \n",
    "                                  block_pd.result.count() * 100))\n",
    "\n",
    "print('四个边裁拦截交易总数{}， 拦截率{:.2f}%'.format(\n",
    "    block_pd.shape[0],\n",
    "    block_pd.shape[0] / order_has_result.shape[0] * 100))\n",
    "block_pd.head()"
   ]
  },
  {
   "cell_type": "code",
   "execution_count": 30,
   "metadata": {},
   "outputs": [
    {
     "name": "stdout",
     "output_type": "stream",
     "text": [
      "角度边裁拦截正确率58.97%, 拦截交易数量39\n",
      "单混边裁拦截正确率67.65%, 拦截交易数量34\n",
      "价格边裁拦截正确率68.57%, 拦截交易数量35\n",
      "波动裁拦截正确率50.00%, 拦截交易数量4\n"
     ]
    }
   ],
   "source": [
    "from sklearn import metrics\n",
    "def sub_edge_show(edge_name):\n",
    "    sub_edge_block_pd = order_has_result[(order_has_result[edge_name] == -1)]\n",
    "    return metrics.accuracy_score(\n",
    "        sub_edge_block_pd[edge_name], sub_edge_block_pd.result) * 100, sub_edge_block_pd.shape[0]\n",
    "\n",
    "print('角度边裁拦截正确率{0:.2f}%, 拦截交易数量{1:}'.format(*sub_edge_show('edge_deg')))\n",
    "print('单混边裁拦截正确率{0:.2f}%, 拦截交易数量{1:}'.format(*sub_edge_show('edge_mul')))\n",
    "print('价格边裁拦截正确率{0:.2f}%, 拦截交易数量{1:}'.format(*sub_edge_show('edge_price')))\n",
    "print('波动裁拦截正确率{0:.2f}%, 拦截交易数量{1:}'.format(*sub_edge_show('edge_wave')))\n"
   ]
  },
  {
   "cell_type": "code",
   "execution_count": 31,
   "metadata": {},
   "outputs": [],
   "source": [
    "env.g_enable_ump_main_deg_block = True\n",
    "env.g_enable_ump_main_price_block = True\n",
    "env.g_enable_ump_main_wave_block = True\n",
    "env.g_enable_ump_edge_deg_block = True\n",
    "env.g_enable_ump_edge_price_block = True\n",
    "env.g_enable_ump_edge_wave_block = True"
   ]
  },
  {
   "cell_type": "code",
   "execution_count": null,
   "metadata": {},
   "outputs": [
    {
     "data": {
      "application/vnd.jupyter.widget-view+json": {
       "model_id": "",
       "version_major": 2,
       "version_minor": 0
      },
      "text/plain": [
       "Box(children=(Text(value='pid=10245 begin work'), FloatProgress(value=0.0)))"
      ]
     },
     "metadata": {},
     "output_type": "display_data"
    },
    {
     "name": "stdout",
     "output_type": "stream",
     "text": [
      "capital.apply_action::77.87%\r"
     ]
    }
   ],
   "source": [
    "result_tuple, kl_pd_manager = run_loop_back(read_cash=read_cash, buy_factors=buy_factors,\n",
    "              sell_factors=sell_factors, \n",
    "              benchmark_kl_pd=benchmark_kl_pd,\n",
    "              pick_kl_pd_dict=pick_kl_pd_dict,\n",
    "              choice_symbols=choice_symbols)"
   ]
  },
  {
   "cell_type": "code",
   "execution_count": null,
   "metadata": {},
   "outputs": [],
   "source": [
    "metrics = MetricsBase.show_general(result_tuple.orders_pd, result_tuple.action_pd,\n",
    "                                        result_tuple.capital, result_tuple.benchmark)"
   ]
  },
  {
   "cell_type": "code",
   "execution_count": null,
   "metadata": {},
   "outputs": [],
   "source": [
    "## 考虑资金情况下的度量，进行与benchmark的收益度量对比\n",
    "print('买入后卖出的交易数量:{}'.format(metrics.order_has_ret.shape[0]))\n",
    "print('买入后尚未卖出的交易数量:{}'.format(metrics.order_keep.shape[0]))\n",
    "#print('胜率:{:.4f}%'.format(metrics.win_rate * 100))\n",
    "print('平均获利期望:{:.4f}%'.format(metrics.gains_mean * 100))\n",
    "#print('平均亏损期望:{:.4f}%'.format(metrics.losses_mean * 100))\n",
    "#print('盈亏比:{:.4f}'.format(metrics.win_loss_profit_rate))\n",
    "print('策略收益: {:.4f}%'.format(metrics.algorithm_period_returns *\n",
    "                                             100))\n",
    "print('基准收益: {:.4f}%'.format(metrics.benchmark_period_returns *\n",
    "                                             100))\n",
    "print('策略年化收益: {:.4f}%'.format(\n",
    "            metrics.algorithm_annualized_returns * 100))\n",
    "print('基准年化收益: {:.4f}%'.format(\n",
    "            metrics.benchmark_annualized_returns * 100))\n",
    "print('策略买入成交比例:{:.4f}%'.format(metrics.buy_deal_rate * 100))\n",
    "print('策略资金利用率比例:{:.4f}%'.format(metrics.cash_utilization * 100))\n",
    "print('策略共执行{}个交易日'.format(metrics.num_trading_days))"
   ]
  },
  {
   "cell_type": "code",
   "execution_count": null,
   "metadata": {},
   "outputs": [],
   "source": [
    "plt.figure(figsize=(14, 7))\n",
    "metrics.benchmark_cum_returns.plot()\n",
    "metrics.algorithm_cum_returns.plot()\n",
    "plt.legend(['benchmark returns', 'algorithm returns'], loc='best')\n",
    "plt.show()"
   ]
  },
  {
   "cell_type": "code",
   "execution_count": null,
   "metadata": {},
   "outputs": [],
   "source": []
  }
 ],
 "metadata": {
  "kernelspec": {
   "display_name": "Python 3",
   "language": "python",
   "name": "python3"
  },
  "language_info": {
   "codemirror_mode": {
    "name": "ipython",
    "version": 3
   },
   "file_extension": ".py",
   "mimetype": "text/x-python",
   "name": "python",
   "nbconvert_exporter": "python",
   "pygments_lexer": "ipython3",
   "version": "3.6.8"
  }
 },
 "nbformat": 4,
 "nbformat_minor": 2
}
