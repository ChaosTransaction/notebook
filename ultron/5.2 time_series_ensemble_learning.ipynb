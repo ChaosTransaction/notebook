{
 "cells": [
  {
   "cell_type": "markdown",
   "metadata": {},
   "source": [
    "在沙盒环境，将多个机器学习时序模型在集成学习框架下进行涨跌预测"
   ]
  },
  {
   "cell_type": "code",
   "execution_count": 1,
   "metadata": {},
   "outputs": [],
   "source": [
    "import os,pdb,itertools,copy,datetime\n",
    "os.environ['ULTRON_DATA'] = 'keim'"
   ]
  },
  {
   "cell_type": "code",
   "execution_count": 2,
   "metadata": {},
   "outputs": [
    {
     "name": "stdout",
     "output_type": "stream",
     "text": [
      "/var/log/ultron/2022-09-27.log\n"
     ]
    }
   ],
   "source": [
    "import pandas as pd\n",
    "import numpy as np\n",
    "from ultron.env import *\n",
    "from ultron.optimize.model.treemodel import GradientBoostingClassifier\n",
    "from ultron.optimize.model.treemodel import RandomForestClassifier\n",
    "from ultron.optimize.model.treemodel import AdaBoostClassifier\n",
    "from ultron.optimize.model.linearmodel import LogisticRegression"
   ]
  },
  {
   "cell_type": "code",
   "execution_count": 3,
   "metadata": {},
   "outputs": [],
   "source": [
    "from ultron.optimize.model.treemodel import VotingClassifier\n",
    "from ultron.optimize.model.treemodel import StackingClassifier"
   ]
  },
  {
   "cell_type": "code",
   "execution_count": 4,
   "metadata": {},
   "outputs": [
    {
     "name": "stderr",
     "output_type": "stream",
     "text": [
      "2022-09-27 17:32:33,013 - [env.py:67] - ultron - INFO - enable example env will only read /home/kerry/ultron/rom/sandbox/keim\n"
     ]
    }
   ],
   "source": [
    "enable_example_env()"
   ]
  },
  {
   "cell_type": "markdown",
   "metadata": {},
   "source": [
    "#### 加载训练集"
   ]
  },
  {
   "cell_type": "code",
   "execution_count": 5,
   "metadata": {},
   "outputs": [
    {
     "data": {
      "text/html": [
       "<div>\n",
       "<style scoped>\n",
       "    .dataframe tbody tr th:only-of-type {\n",
       "        vertical-align: middle;\n",
       "    }\n",
       "\n",
       "    .dataframe tbody tr th {\n",
       "        vertical-align: top;\n",
       "    }\n",
       "\n",
       "    .dataframe thead th {\n",
       "        text-align: right;\n",
       "    }\n",
       "</style>\n",
       "<table border=\"1\" class=\"dataframe\">\n",
       "  <thead>\n",
       "    <tr style=\"text-align: right;\">\n",
       "      <th></th>\n",
       "      <th>trade_date</th>\n",
       "      <th>code</th>\n",
       "      <th>BM_MainFar_80D</th>\n",
       "      <th>BM_RecentFar_20D</th>\n",
       "      <th>BM_RecentFar_40D</th>\n",
       "      <th>BM_RecentFar_80D</th>\n",
       "      <th>BM_RecentSecond_20D</th>\n",
       "      <th>BM_RecentSecond_40D</th>\n",
       "      <th>B_FarSpot</th>\n",
       "      <th>B_MainSpot</th>\n",
       "      <th>...</th>\n",
       "      <th>TS_RecentSecond</th>\n",
       "      <th>T_DnIntraday_5D</th>\n",
       "      <th>T_DnVolatility_1_10D</th>\n",
       "      <th>T_DnVolatility_2_20D</th>\n",
       "      <th>WeightNetIntTotalChg5D</th>\n",
       "      <th>WeightShortVolRelTotIntChg</th>\n",
       "      <th>inventory</th>\n",
       "      <th>profitratio</th>\n",
       "      <th>value</th>\n",
       "      <th>signal</th>\n",
       "    </tr>\n",
       "  </thead>\n",
       "  <tbody>\n",
       "    <tr>\n",
       "      <th>0</th>\n",
       "      <td>2021-02-05</td>\n",
       "      <td>A</td>\n",
       "      <td>0.108297</td>\n",
       "      <td>0.028482</td>\n",
       "      <td>0.048874</td>\n",
       "      <td>0.112566</td>\n",
       "      <td>0.037459</td>\n",
       "      <td>0.018997</td>\n",
       "      <td>-0.115713</td>\n",
       "      <td>-0.633489</td>\n",
       "      <td>...</td>\n",
       "      <td>0.080587</td>\n",
       "      <td>-0.010746</td>\n",
       "      <td>-0.011118</td>\n",
       "      <td>-0.001603</td>\n",
       "      <td>0.000839</td>\n",
       "      <td>0.192546</td>\n",
       "      <td>NaN</td>\n",
       "      <td>NaN</td>\n",
       "      <td>1.130717</td>\n",
       "      <td>1.0</td>\n",
       "    </tr>\n",
       "    <tr>\n",
       "      <th>1</th>\n",
       "      <td>2021-02-05</td>\n",
       "      <td>AL</td>\n",
       "      <td>-0.017185</td>\n",
       "      <td>-0.010713</td>\n",
       "      <td>-0.028431</td>\n",
       "      <td>-0.043583</td>\n",
       "      <td>-0.015898</td>\n",
       "      <td>-0.022686</td>\n",
       "      <td>0.010550</td>\n",
       "      <td>-0.058663</td>\n",
       "      <td>...</td>\n",
       "      <td>-0.001708</td>\n",
       "      <td>-0.006366</td>\n",
       "      <td>-0.006237</td>\n",
       "      <td>0.000006</td>\n",
       "      <td>-0.000552</td>\n",
       "      <td>-0.095002</td>\n",
       "      <td>-71.400002</td>\n",
       "      <td>-0.126352</td>\n",
       "      <td>0.936497</td>\n",
       "      <td>1.0</td>\n",
       "    </tr>\n",
       "    <tr>\n",
       "      <th>2</th>\n",
       "      <td>2021-02-05</td>\n",
       "      <td>BU</td>\n",
       "      <td>0.002268</td>\n",
       "      <td>0.074625</td>\n",
       "      <td>0.144817</td>\n",
       "      <td>0.146292</td>\n",
       "      <td>0.060386</td>\n",
       "      <td>0.130830</td>\n",
       "      <td>-0.087043</td>\n",
       "      <td>-0.147928</td>\n",
       "      <td>...</td>\n",
       "      <td>-0.052928</td>\n",
       "      <td>-0.006808</td>\n",
       "      <td>-0.006575</td>\n",
       "      <td>0.003424</td>\n",
       "      <td>0.001066</td>\n",
       "      <td>0.126363</td>\n",
       "      <td>-61.389999</td>\n",
       "      <td>0.083217</td>\n",
       "      <td>0.250348</td>\n",
       "      <td>1.0</td>\n",
       "    </tr>\n",
       "    <tr>\n",
       "      <th>3</th>\n",
       "      <td>2021-02-05</td>\n",
       "      <td>C</td>\n",
       "      <td>0.021003</td>\n",
       "      <td>-0.003571</td>\n",
       "      <td>0.046976</td>\n",
       "      <td>0.034767</td>\n",
       "      <td>0.002104</td>\n",
       "      <td>0.030268</td>\n",
       "      <td>0.103967</td>\n",
       "      <td>0.172280</td>\n",
       "      <td>...</td>\n",
       "      <td>0.009364</td>\n",
       "      <td>-0.003704</td>\n",
       "      <td>-0.007573</td>\n",
       "      <td>-0.000428</td>\n",
       "      <td>-0.000842</td>\n",
       "      <td>-0.037971</td>\n",
       "      <td>-427.600006</td>\n",
       "      <td>NaN</td>\n",
       "      <td>0.696008</td>\n",
       "      <td>1.0</td>\n",
       "    </tr>\n",
       "    <tr>\n",
       "      <th>4</th>\n",
       "      <td>2021-02-05</td>\n",
       "      <td>CF</td>\n",
       "      <td>0.013602</td>\n",
       "      <td>0.003970</td>\n",
       "      <td>0.006347</td>\n",
       "      <td>0.023968</td>\n",
       "      <td>-0.001802</td>\n",
       "      <td>0.002904</td>\n",
       "      <td>-0.024857</td>\n",
       "      <td>-0.031358</td>\n",
       "      <td>...</td>\n",
       "      <td>-0.034307</td>\n",
       "      <td>-0.004510</td>\n",
       "      <td>-0.007883</td>\n",
       "      <td>-0.000114</td>\n",
       "      <td>-0.000248</td>\n",
       "      <td>-0.029101</td>\n",
       "      <td>-618.409973</td>\n",
       "      <td>0.015356</td>\n",
       "      <td>0.971867</td>\n",
       "      <td>1.0</td>\n",
       "    </tr>\n",
       "  </tbody>\n",
       "</table>\n",
       "<p>5 rows × 34 columns</p>\n",
       "</div>"
      ],
      "text/plain": [
       "   trade_date code  BM_MainFar_80D  BM_RecentFar_20D  BM_RecentFar_40D  \\\n",
       "0  2021-02-05    A        0.108297          0.028482          0.048874   \n",
       "1  2021-02-05   AL       -0.017185         -0.010713         -0.028431   \n",
       "2  2021-02-05   BU        0.002268          0.074625          0.144817   \n",
       "3  2021-02-05    C        0.021003         -0.003571          0.046976   \n",
       "4  2021-02-05   CF        0.013602          0.003970          0.006347   \n",
       "\n",
       "   BM_RecentFar_80D  BM_RecentSecond_20D  BM_RecentSecond_40D  B_FarSpot  \\\n",
       "0          0.112566             0.037459             0.018997  -0.115713   \n",
       "1         -0.043583            -0.015898            -0.022686   0.010550   \n",
       "2          0.146292             0.060386             0.130830  -0.087043   \n",
       "3          0.034767             0.002104             0.030268   0.103967   \n",
       "4          0.023968            -0.001802             0.002904  -0.024857   \n",
       "\n",
       "   B_MainSpot  ...  TS_RecentSecond  T_DnIntraday_5D  T_DnVolatility_1_10D  \\\n",
       "0   -0.633489  ...         0.080587        -0.010746             -0.011118   \n",
       "1   -0.058663  ...        -0.001708        -0.006366             -0.006237   \n",
       "2   -0.147928  ...        -0.052928        -0.006808             -0.006575   \n",
       "3    0.172280  ...         0.009364        -0.003704             -0.007573   \n",
       "4   -0.031358  ...        -0.034307        -0.004510             -0.007883   \n",
       "\n",
       "   T_DnVolatility_2_20D  WeightNetIntTotalChg5D  WeightShortVolRelTotIntChg  \\\n",
       "0             -0.001603                0.000839                    0.192546   \n",
       "1              0.000006               -0.000552                   -0.095002   \n",
       "2              0.003424                0.001066                    0.126363   \n",
       "3             -0.000428               -0.000842                   -0.037971   \n",
       "4             -0.000114               -0.000248                   -0.029101   \n",
       "\n",
       "    inventory  profitratio     value  signal  \n",
       "0         NaN          NaN  1.130717     1.0  \n",
       "1  -71.400002    -0.126352  0.936497     1.0  \n",
       "2  -61.389999     0.083217  0.250348     1.0  \n",
       "3 -427.600006          NaN  0.696008     1.0  \n",
       "4 -618.409973     0.015356  0.971867     1.0  \n",
       "\n",
       "[5 rows x 34 columns]"
      ]
     },
     "execution_count": 5,
     "metadata": {},
     "output_type": "execute_result"
    }
   ],
   "source": [
    "train_data = pd.read_csv(os.path.join(g_project_data, 'train_datas.csv'), index_col=0)\n",
    "train_data.head()"
   ]
  },
  {
   "cell_type": "code",
   "execution_count": 6,
   "metadata": {},
   "outputs": [],
   "source": [
    "features = [col for col in train_data.columns if col not in ['trade_date','code','inventory','profitratio',\n",
    "                                                         'value','signal']]"
   ]
  },
  {
   "cell_type": "markdown",
   "metadata": {},
   "source": [
    "#### 构建训练集"
   ]
  },
  {
   "cell_type": "code",
   "execution_count": 7,
   "metadata": {},
   "outputs": [],
   "source": [
    "X = train_data[features].fillna(0)\n",
    "Y = train_data['signal'].values"
   ]
  },
  {
   "cell_type": "markdown",
   "metadata": {},
   "source": [
    "#### 在实际过程中训练集和测试集要不同数据"
   ]
  },
  {
   "cell_type": "markdown",
   "metadata": {},
   "source": [
    "#### 训练模型"
   ]
  },
  {
   "cell_type": "code",
   "execution_count": 8,
   "metadata": {},
   "outputs": [
    {
     "name": "stdout",
     "output_type": "stream",
     "text": [
      "0.9984414234998701\n"
     ]
    }
   ],
   "source": [
    "m1 = RandomForestClassifier(features=features, n_estimators=20)\n",
    "m1.fit(X, Y)\n",
    "print(m1.score(X, Y))"
   ]
  },
  {
   "cell_type": "code",
   "execution_count": 9,
   "metadata": {},
   "outputs": [
    {
     "name": "stdout",
     "output_type": "stream",
     "text": [
      "0.6252489393021041\n"
     ]
    }
   ],
   "source": [
    "m2 = GradientBoostingClassifier(features=features)\n",
    "m2.fit(X, Y)\n",
    "print(m2.score(X, Y))"
   ]
  },
  {
   "cell_type": "code",
   "execution_count": 10,
   "metadata": {},
   "outputs": [
    {
     "name": "stdout",
     "output_type": "stream",
     "text": [
      "0.5824746731318728\n"
     ]
    }
   ],
   "source": [
    "m3 = AdaBoostClassifier(features=features)\n",
    "m3.fit(X, Y)\n",
    "print(m3.score(X, Y))"
   ]
  },
  {
   "cell_type": "markdown",
   "metadata": {},
   "source": [
    "#### 当单体模型训练好后，采用集成学习方式，一共有两种 1.StackingClassifier 2.VotingClassifier"
   ]
  },
  {
   "cell_type": "markdown",
   "metadata": {},
   "source": [
    "##### VotingClassifier"
   ]
  },
  {
   "cell_type": "code",
   "execution_count": 11,
   "metadata": {},
   "outputs": [
    {
     "name": "stdout",
     "output_type": "stream",
     "text": [
      "0.9951510953329292\n"
     ]
    }
   ],
   "source": [
    "ensemble1 = VotingClassifier(features=features,\n",
    "    estimators=[('m1', m1.device), ('m2', m2.device),\n",
    "                ('m3', m3.device)],voting='soft')\n",
    "ensemble1.fit(X, Y)\n",
    "print(ensemble1.score(X, Y))"
   ]
  },
  {
   "cell_type": "markdown",
   "metadata": {},
   "source": [
    "##### StackingClassifier"
   ]
  },
  {
   "cell_type": "code",
   "execution_count": 12,
   "metadata": {},
   "outputs": [
    {
     "name": "stdout",
     "output_type": "stream",
     "text": [
      "0.9989609489999134\n"
     ]
    }
   ],
   "source": [
    "ensemble2 = StackingClassifier(\n",
    "    features=features,\n",
    "    classifiers=[m1.device, m2.device, m3.device],\n",
    "    meta_classifier=LogisticRegression().device)\n",
    "ensemble2.fit(X, Y)\n",
    "print(ensemble2.score(X, Y))"
   ]
  },
  {
   "cell_type": "markdown",
   "metadata": {},
   "source": [
    "更多模型训练可参考 optimization_mining_model.ipynb 例子"
   ]
  },
  {
   "cell_type": "markdown",
   "metadata": {},
   "source": [
    "##### 预测结果"
   ]
  },
  {
   "cell_type": "markdown",
   "metadata": {},
   "source": [
    "##### 随机构造测试集 用于预测"
   ]
  },
  {
   "cell_type": "code",
   "execution_count": 13,
   "metadata": {},
   "outputs": [
    {
     "data": {
      "text/html": [
       "<div>\n",
       "<style scoped>\n",
       "    .dataframe tbody tr th:only-of-type {\n",
       "        vertical-align: middle;\n",
       "    }\n",
       "\n",
       "    .dataframe tbody tr th {\n",
       "        vertical-align: top;\n",
       "    }\n",
       "\n",
       "    .dataframe thead th {\n",
       "        text-align: right;\n",
       "    }\n",
       "</style>\n",
       "<table border=\"1\" class=\"dataframe\">\n",
       "  <thead>\n",
       "    <tr style=\"text-align: right;\">\n",
       "      <th></th>\n",
       "      <th>BM_MainFar_80D</th>\n",
       "      <th>BM_RecentFar_20D</th>\n",
       "      <th>BM_RecentFar_40D</th>\n",
       "      <th>BM_RecentFar_80D</th>\n",
       "      <th>BM_RecentSecond_20D</th>\n",
       "      <th>BM_RecentSecond_40D</th>\n",
       "      <th>B_FarSpot</th>\n",
       "      <th>B_MainSpot</th>\n",
       "      <th>B_RecentSpot</th>\n",
       "      <th>B_SecondSpot</th>\n",
       "      <th>...</th>\n",
       "      <th>R_UpVolatility_1_40D</th>\n",
       "      <th>R_UpVolatility_1_60D</th>\n",
       "      <th>TS_MainFar</th>\n",
       "      <th>TS_RecentFar</th>\n",
       "      <th>TS_RecentSecond</th>\n",
       "      <th>T_DnIntraday_5D</th>\n",
       "      <th>T_DnVolatility_1_10D</th>\n",
       "      <th>T_DnVolatility_2_20D</th>\n",
       "      <th>WeightNetIntTotalChg5D</th>\n",
       "      <th>WeightShortVolRelTotIntChg</th>\n",
       "    </tr>\n",
       "  </thead>\n",
       "  <tbody>\n",
       "    <tr>\n",
       "      <th>0</th>\n",
       "      <td>2.324594</td>\n",
       "      <td>-1.312712</td>\n",
       "      <td>0.246679</td>\n",
       "      <td>0.453122</td>\n",
       "      <td>-0.251649</td>\n",
       "      <td>0.143802</td>\n",
       "      <td>-1.099623</td>\n",
       "      <td>-0.276631</td>\n",
       "      <td>0.148294</td>\n",
       "      <td>0.894338</td>\n",
       "      <td>...</td>\n",
       "      <td>-1.698739</td>\n",
       "      <td>0.087523</td>\n",
       "      <td>-0.785551</td>\n",
       "      <td>-0.286738</td>\n",
       "      <td>-0.484371</td>\n",
       "      <td>-1.763082</td>\n",
       "      <td>0.205357</td>\n",
       "      <td>1.690783</td>\n",
       "      <td>1.347340</td>\n",
       "      <td>0.687619</td>\n",
       "    </tr>\n",
       "    <tr>\n",
       "      <th>1</th>\n",
       "      <td>0.945173</td>\n",
       "      <td>-1.430221</td>\n",
       "      <td>-1.591171</td>\n",
       "      <td>-2.221903</td>\n",
       "      <td>-0.461483</td>\n",
       "      <td>0.606896</td>\n",
       "      <td>-0.512815</td>\n",
       "      <td>-0.872582</td>\n",
       "      <td>-0.358116</td>\n",
       "      <td>0.266496</td>\n",
       "      <td>...</td>\n",
       "      <td>-0.136134</td>\n",
       "      <td>0.309123</td>\n",
       "      <td>0.150956</td>\n",
       "      <td>0.187376</td>\n",
       "      <td>1.699719</td>\n",
       "      <td>0.640600</td>\n",
       "      <td>0.487011</td>\n",
       "      <td>1.092112</td>\n",
       "      <td>-0.065920</td>\n",
       "      <td>-1.629726</td>\n",
       "    </tr>\n",
       "    <tr>\n",
       "      <th>2</th>\n",
       "      <td>-0.646447</td>\n",
       "      <td>-0.028799</td>\n",
       "      <td>0.296867</td>\n",
       "      <td>-0.383374</td>\n",
       "      <td>-0.947112</td>\n",
       "      <td>-0.288382</td>\n",
       "      <td>0.816378</td>\n",
       "      <td>0.694017</td>\n",
       "      <td>-0.090181</td>\n",
       "      <td>1.865266</td>\n",
       "      <td>...</td>\n",
       "      <td>-2.781448</td>\n",
       "      <td>0.235319</td>\n",
       "      <td>-0.396303</td>\n",
       "      <td>1.254730</td>\n",
       "      <td>1.555928</td>\n",
       "      <td>-0.518401</td>\n",
       "      <td>1.001827</td>\n",
       "      <td>-1.106920</td>\n",
       "      <td>-0.844610</td>\n",
       "      <td>1.223455</td>\n",
       "    </tr>\n",
       "    <tr>\n",
       "      <th>3</th>\n",
       "      <td>1.423683</td>\n",
       "      <td>0.363460</td>\n",
       "      <td>-1.225298</td>\n",
       "      <td>0.919742</td>\n",
       "      <td>-1.610278</td>\n",
       "      <td>0.334500</td>\n",
       "      <td>0.051982</td>\n",
       "      <td>0.456487</td>\n",
       "      <td>1.182230</td>\n",
       "      <td>-0.321683</td>\n",
       "      <td>...</td>\n",
       "      <td>-0.144488</td>\n",
       "      <td>-0.642351</td>\n",
       "      <td>-0.303641</td>\n",
       "      <td>-0.358560</td>\n",
       "      <td>-0.552347</td>\n",
       "      <td>0.968374</td>\n",
       "      <td>0.569067</td>\n",
       "      <td>-0.687803</td>\n",
       "      <td>0.853405</td>\n",
       "      <td>-1.934483</td>\n",
       "    </tr>\n",
       "    <tr>\n",
       "      <th>4</th>\n",
       "      <td>0.286614</td>\n",
       "      <td>1.694902</td>\n",
       "      <td>0.907730</td>\n",
       "      <td>-0.232115</td>\n",
       "      <td>-0.823480</td>\n",
       "      <td>0.032337</td>\n",
       "      <td>1.113921</td>\n",
       "      <td>0.852731</td>\n",
       "      <td>-0.219051</td>\n",
       "      <td>-0.106782</td>\n",
       "      <td>...</td>\n",
       "      <td>0.316001</td>\n",
       "      <td>-0.633723</td>\n",
       "      <td>0.326348</td>\n",
       "      <td>-0.180272</td>\n",
       "      <td>-0.898604</td>\n",
       "      <td>-0.819990</td>\n",
       "      <td>0.482730</td>\n",
       "      <td>0.972725</td>\n",
       "      <td>-0.515565</td>\n",
       "      <td>0.449226</td>\n",
       "    </tr>\n",
       "  </tbody>\n",
       "</table>\n",
       "<p>5 rows × 28 columns</p>\n",
       "</div>"
      ],
      "text/plain": [
       "   BM_MainFar_80D  BM_RecentFar_20D  BM_RecentFar_40D  BM_RecentFar_80D  \\\n",
       "0        2.324594         -1.312712          0.246679          0.453122   \n",
       "1        0.945173         -1.430221         -1.591171         -2.221903   \n",
       "2       -0.646447         -0.028799          0.296867         -0.383374   \n",
       "3        1.423683          0.363460         -1.225298          0.919742   \n",
       "4        0.286614          1.694902          0.907730         -0.232115   \n",
       "\n",
       "   BM_RecentSecond_20D  BM_RecentSecond_40D  B_FarSpot  B_MainSpot  \\\n",
       "0            -0.251649             0.143802  -1.099623   -0.276631   \n",
       "1            -0.461483             0.606896  -0.512815   -0.872582   \n",
       "2            -0.947112            -0.288382   0.816378    0.694017   \n",
       "3            -1.610278             0.334500   0.051982    0.456487   \n",
       "4            -0.823480             0.032337   1.113921    0.852731   \n",
       "\n",
       "   B_RecentSpot  B_SecondSpot  ...  R_UpVolatility_1_40D  \\\n",
       "0      0.148294      0.894338  ...             -1.698739   \n",
       "1     -0.358116      0.266496  ...             -0.136134   \n",
       "2     -0.090181      1.865266  ...             -2.781448   \n",
       "3      1.182230     -0.321683  ...             -0.144488   \n",
       "4     -0.219051     -0.106782  ...              0.316001   \n",
       "\n",
       "   R_UpVolatility_1_60D  TS_MainFar  TS_RecentFar  TS_RecentSecond  \\\n",
       "0              0.087523   -0.785551     -0.286738        -0.484371   \n",
       "1              0.309123    0.150956      0.187376         1.699719   \n",
       "2              0.235319   -0.396303      1.254730         1.555928   \n",
       "3             -0.642351   -0.303641     -0.358560        -0.552347   \n",
       "4             -0.633723    0.326348     -0.180272        -0.898604   \n",
       "\n",
       "   T_DnIntraday_5D  T_DnVolatility_1_10D  T_DnVolatility_2_20D  \\\n",
       "0        -1.763082              0.205357              1.690783   \n",
       "1         0.640600              0.487011              1.092112   \n",
       "2        -0.518401              1.001827             -1.106920   \n",
       "3         0.968374              0.569067             -0.687803   \n",
       "4        -0.819990              0.482730              0.972725   \n",
       "\n",
       "   WeightNetIntTotalChg5D  WeightShortVolRelTotIntChg  \n",
       "0                1.347340                    0.687619  \n",
       "1               -0.065920                   -1.629726  \n",
       "2               -0.844610                    1.223455  \n",
       "3                0.853405                   -1.934483  \n",
       "4               -0.515565                    0.449226  \n",
       "\n",
       "[5 rows x 28 columns]"
      ]
     },
     "execution_count": 13,
     "metadata": {},
     "output_type": "execute_result"
    }
   ],
   "source": [
    "test_data = pd.DataFrame(np.random.randn(1000, len(features)), columns=features)\n",
    "test_data.head()"
   ]
  },
  {
   "cell_type": "code",
   "execution_count": 14,
   "metadata": {},
   "outputs": [],
   "source": [
    "y1 = ensemble1.predict(test_data)"
   ]
  },
  {
   "cell_type": "code",
   "execution_count": 15,
   "metadata": {},
   "outputs": [],
   "source": [
    "y2 = ensemble2.predict(test_data)"
   ]
  },
  {
   "cell_type": "code",
   "execution_count": null,
   "metadata": {},
   "outputs": [],
   "source": []
  }
 ],
 "metadata": {
  "kernelspec": {
   "display_name": "Python 3",
   "language": "python",
   "name": "python3"
  },
  "language_info": {
   "codemirror_mode": {
    "name": "ipython",
    "version": 3
   },
   "file_extension": ".py",
   "mimetype": "text/x-python",
   "name": "python",
   "nbconvert_exporter": "python",
   "pygments_lexer": "ipython3",
   "version": "3.6.8"
  }
 },
 "nbformat": 4,
 "nbformat_minor": 2
}
