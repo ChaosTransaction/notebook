{
 "cells": [
  {
   "cell_type": "markdown",
   "metadata": {},
   "source": [
    "在沙盒环境，将多个机器学习时序模型在集成学习框架下进行涨跌预测"
   ]
  },
  {
   "cell_type": "code",
   "execution_count": 1,
   "metadata": {},
   "outputs": [],
   "source": [
    "import os,pdb,itertools,copy,datetime\n",
    "os.environ['ULTRON_DATA'] = 'keim'"
   ]
  },
  {
   "cell_type": "code",
   "execution_count": 2,
   "metadata": {},
   "outputs": [
    {
     "name": "stdout",
     "output_type": "stream",
     "text": [
      "/var/log/ultron/2022-09-27.log\n"
     ]
    }
   ],
   "source": [
    "import pandas as pd\n",
    "import numpy as np\n",
    "from ultron.env import *\n",
    "from ultron.optimize.model.treemodel import GradientBoostingClassifier\n",
    "from ultron.optimize.model.treemodel import RandomForestClassifier\n",
    "from ultron.optimize.model.treemodel import AdaBoostClassifier\n",
    "from ultron.optimize.model.linearmodel import LogisticRegression"
   ]
  },
  {
   "cell_type": "code",
   "execution_count": 3,
   "metadata": {},
   "outputs": [],
   "source": [
    "from ultron.optimize.model.treemodel import VotingClassifier\n",
    "from ultron.optimize.model.treemodel import StackingClassifier"
   ]
  },
  {
   "cell_type": "code",
   "execution_count": 4,
   "metadata": {},
   "outputs": [
    {
     "name": "stderr",
     "output_type": "stream",
     "text": [
      "2022-09-27 19:19:57,778 - [env.py:67] - ultron - INFO - enable example env will only read /home/kerry/ultron/rom/sandbox/keim\n"
     ]
    }
   ],
   "source": [
    "enable_example_env()"
   ]
  },
  {
   "cell_type": "markdown",
   "metadata": {},
   "source": [
    "#### 加载训练集"
   ]
  },
  {
   "cell_type": "code",
   "execution_count": 5,
   "metadata": {},
   "outputs": [
    {
     "data": {
      "text/html": [
       "<div>\n",
       "<style scoped>\n",
       "    .dataframe tbody tr th:only-of-type {\n",
       "        vertical-align: middle;\n",
       "    }\n",
       "\n",
       "    .dataframe tbody tr th {\n",
       "        vertical-align: top;\n",
       "    }\n",
       "\n",
       "    .dataframe thead th {\n",
       "        text-align: right;\n",
       "    }\n",
       "</style>\n",
       "<table border=\"1\" class=\"dataframe\">\n",
       "  <thead>\n",
       "    <tr style=\"text-align: right;\">\n",
       "      <th></th>\n",
       "      <th>trade_date</th>\n",
       "      <th>code</th>\n",
       "      <th>BM_MainFar_80D</th>\n",
       "      <th>BM_RecentFar_20D</th>\n",
       "      <th>BM_RecentFar_40D</th>\n",
       "      <th>BM_RecentFar_80D</th>\n",
       "      <th>BM_RecentSecond_20D</th>\n",
       "      <th>BM_RecentSecond_40D</th>\n",
       "      <th>B_FarSpot</th>\n",
       "      <th>B_MainSpot</th>\n",
       "      <th>...</th>\n",
       "      <th>TS_RecentSecond</th>\n",
       "      <th>T_DnIntraday_5D</th>\n",
       "      <th>T_DnVolatility_1_10D</th>\n",
       "      <th>T_DnVolatility_2_20D</th>\n",
       "      <th>WeightNetIntTotalChg5D</th>\n",
       "      <th>WeightShortVolRelTotIntChg</th>\n",
       "      <th>inventory</th>\n",
       "      <th>profitratio</th>\n",
       "      <th>value</th>\n",
       "      <th>signal</th>\n",
       "    </tr>\n",
       "  </thead>\n",
       "  <tbody>\n",
       "    <tr>\n",
       "      <th>0</th>\n",
       "      <td>2021-02-05</td>\n",
       "      <td>A</td>\n",
       "      <td>0.108297</td>\n",
       "      <td>0.028482</td>\n",
       "      <td>0.048874</td>\n",
       "      <td>0.112566</td>\n",
       "      <td>0.037459</td>\n",
       "      <td>0.018997</td>\n",
       "      <td>-0.115713</td>\n",
       "      <td>-0.633489</td>\n",
       "      <td>...</td>\n",
       "      <td>0.080587</td>\n",
       "      <td>-0.010746</td>\n",
       "      <td>-0.011118</td>\n",
       "      <td>-0.001603</td>\n",
       "      <td>0.000839</td>\n",
       "      <td>0.192546</td>\n",
       "      <td>NaN</td>\n",
       "      <td>NaN</td>\n",
       "      <td>1.130717</td>\n",
       "      <td>1.0</td>\n",
       "    </tr>\n",
       "    <tr>\n",
       "      <th>1</th>\n",
       "      <td>2021-02-05</td>\n",
       "      <td>AL</td>\n",
       "      <td>-0.017185</td>\n",
       "      <td>-0.010713</td>\n",
       "      <td>-0.028431</td>\n",
       "      <td>-0.043583</td>\n",
       "      <td>-0.015898</td>\n",
       "      <td>-0.022686</td>\n",
       "      <td>0.010550</td>\n",
       "      <td>-0.058663</td>\n",
       "      <td>...</td>\n",
       "      <td>-0.001708</td>\n",
       "      <td>-0.006366</td>\n",
       "      <td>-0.006237</td>\n",
       "      <td>0.000006</td>\n",
       "      <td>-0.000552</td>\n",
       "      <td>-0.095002</td>\n",
       "      <td>-71.400002</td>\n",
       "      <td>-0.126352</td>\n",
       "      <td>0.936497</td>\n",
       "      <td>1.0</td>\n",
       "    </tr>\n",
       "    <tr>\n",
       "      <th>2</th>\n",
       "      <td>2021-02-05</td>\n",
       "      <td>BU</td>\n",
       "      <td>0.002268</td>\n",
       "      <td>0.074625</td>\n",
       "      <td>0.144817</td>\n",
       "      <td>0.146292</td>\n",
       "      <td>0.060386</td>\n",
       "      <td>0.130830</td>\n",
       "      <td>-0.087043</td>\n",
       "      <td>-0.147928</td>\n",
       "      <td>...</td>\n",
       "      <td>-0.052928</td>\n",
       "      <td>-0.006808</td>\n",
       "      <td>-0.006575</td>\n",
       "      <td>0.003424</td>\n",
       "      <td>0.001066</td>\n",
       "      <td>0.126363</td>\n",
       "      <td>-61.389999</td>\n",
       "      <td>0.083217</td>\n",
       "      <td>0.250348</td>\n",
       "      <td>1.0</td>\n",
       "    </tr>\n",
       "    <tr>\n",
       "      <th>3</th>\n",
       "      <td>2021-02-05</td>\n",
       "      <td>C</td>\n",
       "      <td>0.021003</td>\n",
       "      <td>-0.003571</td>\n",
       "      <td>0.046976</td>\n",
       "      <td>0.034767</td>\n",
       "      <td>0.002104</td>\n",
       "      <td>0.030268</td>\n",
       "      <td>0.103967</td>\n",
       "      <td>0.172280</td>\n",
       "      <td>...</td>\n",
       "      <td>0.009364</td>\n",
       "      <td>-0.003704</td>\n",
       "      <td>-0.007573</td>\n",
       "      <td>-0.000428</td>\n",
       "      <td>-0.000842</td>\n",
       "      <td>-0.037971</td>\n",
       "      <td>-427.600006</td>\n",
       "      <td>NaN</td>\n",
       "      <td>0.696008</td>\n",
       "      <td>1.0</td>\n",
       "    </tr>\n",
       "    <tr>\n",
       "      <th>4</th>\n",
       "      <td>2021-02-05</td>\n",
       "      <td>CF</td>\n",
       "      <td>0.013602</td>\n",
       "      <td>0.003970</td>\n",
       "      <td>0.006347</td>\n",
       "      <td>0.023968</td>\n",
       "      <td>-0.001802</td>\n",
       "      <td>0.002904</td>\n",
       "      <td>-0.024857</td>\n",
       "      <td>-0.031358</td>\n",
       "      <td>...</td>\n",
       "      <td>-0.034307</td>\n",
       "      <td>-0.004510</td>\n",
       "      <td>-0.007883</td>\n",
       "      <td>-0.000114</td>\n",
       "      <td>-0.000248</td>\n",
       "      <td>-0.029101</td>\n",
       "      <td>-618.409973</td>\n",
       "      <td>0.015356</td>\n",
       "      <td>0.971867</td>\n",
       "      <td>1.0</td>\n",
       "    </tr>\n",
       "  </tbody>\n",
       "</table>\n",
       "<p>5 rows × 34 columns</p>\n",
       "</div>"
      ],
      "text/plain": [
       "   trade_date code  BM_MainFar_80D  BM_RecentFar_20D  BM_RecentFar_40D  \\\n",
       "0  2021-02-05    A        0.108297          0.028482          0.048874   \n",
       "1  2021-02-05   AL       -0.017185         -0.010713         -0.028431   \n",
       "2  2021-02-05   BU        0.002268          0.074625          0.144817   \n",
       "3  2021-02-05    C        0.021003         -0.003571          0.046976   \n",
       "4  2021-02-05   CF        0.013602          0.003970          0.006347   \n",
       "\n",
       "   BM_RecentFar_80D  BM_RecentSecond_20D  BM_RecentSecond_40D  B_FarSpot  \\\n",
       "0          0.112566             0.037459             0.018997  -0.115713   \n",
       "1         -0.043583            -0.015898            -0.022686   0.010550   \n",
       "2          0.146292             0.060386             0.130830  -0.087043   \n",
       "3          0.034767             0.002104             0.030268   0.103967   \n",
       "4          0.023968            -0.001802             0.002904  -0.024857   \n",
       "\n",
       "   B_MainSpot  ...  TS_RecentSecond  T_DnIntraday_5D  T_DnVolatility_1_10D  \\\n",
       "0   -0.633489  ...         0.080587        -0.010746             -0.011118   \n",
       "1   -0.058663  ...        -0.001708        -0.006366             -0.006237   \n",
       "2   -0.147928  ...        -0.052928        -0.006808             -0.006575   \n",
       "3    0.172280  ...         0.009364        -0.003704             -0.007573   \n",
       "4   -0.031358  ...        -0.034307        -0.004510             -0.007883   \n",
       "\n",
       "   T_DnVolatility_2_20D  WeightNetIntTotalChg5D  WeightShortVolRelTotIntChg  \\\n",
       "0             -0.001603                0.000839                    0.192546   \n",
       "1              0.000006               -0.000552                   -0.095002   \n",
       "2              0.003424                0.001066                    0.126363   \n",
       "3             -0.000428               -0.000842                   -0.037971   \n",
       "4             -0.000114               -0.000248                   -0.029101   \n",
       "\n",
       "    inventory  profitratio     value  signal  \n",
       "0         NaN          NaN  1.130717     1.0  \n",
       "1  -71.400002    -0.126352  0.936497     1.0  \n",
       "2  -61.389999     0.083217  0.250348     1.0  \n",
       "3 -427.600006          NaN  0.696008     1.0  \n",
       "4 -618.409973     0.015356  0.971867     1.0  \n",
       "\n",
       "[5 rows x 34 columns]"
      ]
     },
     "execution_count": 5,
     "metadata": {},
     "output_type": "execute_result"
    }
   ],
   "source": [
    "train_data = pd.read_csv(os.path.join(g_project_data, 'train_datas.csv'), index_col=0)\n",
    "train_data.head()"
   ]
  },
  {
   "cell_type": "code",
   "execution_count": 6,
   "metadata": {},
   "outputs": [],
   "source": [
    "features = [col for col in train_data.columns if col not in ['trade_date','code','inventory','profitratio',\n",
    "                                                         'value','signal']]"
   ]
  },
  {
   "cell_type": "markdown",
   "metadata": {},
   "source": [
    "#### 构建训练集"
   ]
  },
  {
   "cell_type": "code",
   "execution_count": 7,
   "metadata": {},
   "outputs": [],
   "source": [
    "X = train_data[features].fillna(0)\n",
    "Y = train_data['signal'].values"
   ]
  },
  {
   "cell_type": "markdown",
   "metadata": {},
   "source": [
    "#### 在实际过程中训练集和测试集要不同数据"
   ]
  },
  {
   "cell_type": "markdown",
   "metadata": {},
   "source": [
    "#### 训练模型"
   ]
  },
  {
   "cell_type": "code",
   "execution_count": 8,
   "metadata": {},
   "outputs": [
    {
     "name": "stdout",
     "output_type": "stream",
     "text": [
      "0.9983548359165295\n"
     ]
    }
   ],
   "source": [
    "m1 = RandomForestClassifier(features=features, n_estimators=20)\n",
    "m1.fit(X, Y)\n",
    "print(m1.score(X, Y))"
   ]
  },
  {
   "cell_type": "code",
   "execution_count": 9,
   "metadata": {},
   "outputs": [
    {
     "name": "stdout",
     "output_type": "stream",
     "text": [
      "0.6252489393021041\n"
     ]
    }
   ],
   "source": [
    "m2 = GradientBoostingClassifier(features=features)\n",
    "m2.fit(X, Y)\n",
    "print(m2.score(X, Y))"
   ]
  },
  {
   "cell_type": "code",
   "execution_count": 10,
   "metadata": {},
   "outputs": [
    {
     "name": "stdout",
     "output_type": "stream",
     "text": [
      "0.5824746731318728\n"
     ]
    }
   ],
   "source": [
    "m3 = AdaBoostClassifier(features=features)\n",
    "m3.fit(X, Y)\n",
    "print(m3.score(X, Y))"
   ]
  },
  {
   "cell_type": "markdown",
   "metadata": {},
   "source": [
    "#### 当单体模型训练好后，采用集成学习方式，一共有两种 1.StackingClassifier 2.VotingClassifier"
   ]
  },
  {
   "cell_type": "markdown",
   "metadata": {},
   "source": [
    "##### VotingClassifier"
   ]
  },
  {
   "cell_type": "code",
   "execution_count": 11,
   "metadata": {},
   "outputs": [
    {
     "name": "stdout",
     "output_type": "stream",
     "text": [
      "0.9947181574162265\n"
     ]
    }
   ],
   "source": [
    "ensemble1 = VotingClassifier(features=features,\n",
    "    estimators=[('m1', m1.device), ('m2', m2.device),\n",
    "                ('m3', m3.device)],voting='soft')\n",
    "ensemble1.fit(X, Y)\n",
    "print(ensemble1.score(X, Y))"
   ]
  },
  {
   "cell_type": "markdown",
   "metadata": {},
   "source": [
    "##### StackingClassifier"
   ]
  },
  {
   "cell_type": "code",
   "execution_count": 12,
   "metadata": {},
   "outputs": [
    {
     "name": "stdout",
     "output_type": "stream",
     "text": [
      "0.9979218979998268\n"
     ]
    }
   ],
   "source": [
    "ensemble2 = StackingClassifier(\n",
    "    features=features,\n",
    "    classifiers=[m1.device, m2.device, m3.device],\n",
    "    meta_classifier=LogisticRegression().device)\n",
    "ensemble2.fit(X, Y)\n",
    "print(ensemble2.score(X, Y))"
   ]
  },
  {
   "cell_type": "markdown",
   "metadata": {},
   "source": [
    "更多模型训练可参考 optimization_mining_model.ipynb 例子"
   ]
  },
  {
   "cell_type": "markdown",
   "metadata": {},
   "source": [
    "##### 预测结果"
   ]
  },
  {
   "cell_type": "markdown",
   "metadata": {},
   "source": [
    "##### 随机构造测试集 用于预测"
   ]
  },
  {
   "cell_type": "code",
   "execution_count": 13,
   "metadata": {},
   "outputs": [
    {
     "data": {
      "text/html": [
       "<div>\n",
       "<style scoped>\n",
       "    .dataframe tbody tr th:only-of-type {\n",
       "        vertical-align: middle;\n",
       "    }\n",
       "\n",
       "    .dataframe tbody tr th {\n",
       "        vertical-align: top;\n",
       "    }\n",
       "\n",
       "    .dataframe thead th {\n",
       "        text-align: right;\n",
       "    }\n",
       "</style>\n",
       "<table border=\"1\" class=\"dataframe\">\n",
       "  <thead>\n",
       "    <tr style=\"text-align: right;\">\n",
       "      <th></th>\n",
       "      <th>BM_MainFar_80D</th>\n",
       "      <th>BM_RecentFar_20D</th>\n",
       "      <th>BM_RecentFar_40D</th>\n",
       "      <th>BM_RecentFar_80D</th>\n",
       "      <th>BM_RecentSecond_20D</th>\n",
       "      <th>BM_RecentSecond_40D</th>\n",
       "      <th>B_FarSpot</th>\n",
       "      <th>B_MainSpot</th>\n",
       "      <th>B_RecentSpot</th>\n",
       "      <th>B_SecondSpot</th>\n",
       "      <th>...</th>\n",
       "      <th>R_UpVolatility_1_40D</th>\n",
       "      <th>R_UpVolatility_1_60D</th>\n",
       "      <th>TS_MainFar</th>\n",
       "      <th>TS_RecentFar</th>\n",
       "      <th>TS_RecentSecond</th>\n",
       "      <th>T_DnIntraday_5D</th>\n",
       "      <th>T_DnVolatility_1_10D</th>\n",
       "      <th>T_DnVolatility_2_20D</th>\n",
       "      <th>WeightNetIntTotalChg5D</th>\n",
       "      <th>WeightShortVolRelTotIntChg</th>\n",
       "    </tr>\n",
       "  </thead>\n",
       "  <tbody>\n",
       "    <tr>\n",
       "      <th>0</th>\n",
       "      <td>0.245840</td>\n",
       "      <td>0.067048</td>\n",
       "      <td>0.785072</td>\n",
       "      <td>1.300494</td>\n",
       "      <td>0.893289</td>\n",
       "      <td>0.451512</td>\n",
       "      <td>-0.018405</td>\n",
       "      <td>1.934180</td>\n",
       "      <td>-0.836682</td>\n",
       "      <td>-0.754481</td>\n",
       "      <td>...</td>\n",
       "      <td>-0.560768</td>\n",
       "      <td>0.555404</td>\n",
       "      <td>0.935174</td>\n",
       "      <td>0.708733</td>\n",
       "      <td>-0.325861</td>\n",
       "      <td>-1.726160</td>\n",
       "      <td>0.098658</td>\n",
       "      <td>-0.013302</td>\n",
       "      <td>0.285040</td>\n",
       "      <td>-0.130892</td>\n",
       "    </tr>\n",
       "    <tr>\n",
       "      <th>1</th>\n",
       "      <td>0.180911</td>\n",
       "      <td>0.982446</td>\n",
       "      <td>1.574092</td>\n",
       "      <td>-0.993717</td>\n",
       "      <td>0.818141</td>\n",
       "      <td>0.708741</td>\n",
       "      <td>-0.234551</td>\n",
       "      <td>-0.508018</td>\n",
       "      <td>-1.484246</td>\n",
       "      <td>-0.521280</td>\n",
       "      <td>...</td>\n",
       "      <td>0.337920</td>\n",
       "      <td>1.787140</td>\n",
       "      <td>0.830510</td>\n",
       "      <td>-0.105903</td>\n",
       "      <td>0.767895</td>\n",
       "      <td>-0.365703</td>\n",
       "      <td>-1.956811</td>\n",
       "      <td>1.408876</td>\n",
       "      <td>0.420680</td>\n",
       "      <td>-1.230145</td>\n",
       "    </tr>\n",
       "    <tr>\n",
       "      <th>2</th>\n",
       "      <td>0.772816</td>\n",
       "      <td>-1.975944</td>\n",
       "      <td>0.069778</td>\n",
       "      <td>-1.384341</td>\n",
       "      <td>1.720383</td>\n",
       "      <td>1.090461</td>\n",
       "      <td>0.641176</td>\n",
       "      <td>-0.570346</td>\n",
       "      <td>0.388064</td>\n",
       "      <td>-0.256326</td>\n",
       "      <td>...</td>\n",
       "      <td>-0.206377</td>\n",
       "      <td>-0.985002</td>\n",
       "      <td>-0.122053</td>\n",
       "      <td>1.099711</td>\n",
       "      <td>-0.224172</td>\n",
       "      <td>-1.006074</td>\n",
       "      <td>1.758399</td>\n",
       "      <td>0.014127</td>\n",
       "      <td>0.577504</td>\n",
       "      <td>0.858479</td>\n",
       "    </tr>\n",
       "    <tr>\n",
       "      <th>3</th>\n",
       "      <td>0.327560</td>\n",
       "      <td>1.940627</td>\n",
       "      <td>0.638636</td>\n",
       "      <td>-0.796469</td>\n",
       "      <td>0.172058</td>\n",
       "      <td>0.378696</td>\n",
       "      <td>0.748282</td>\n",
       "      <td>0.361551</td>\n",
       "      <td>-0.896843</td>\n",
       "      <td>-1.198303</td>\n",
       "      <td>...</td>\n",
       "      <td>0.799796</td>\n",
       "      <td>-0.459644</td>\n",
       "      <td>-0.141161</td>\n",
       "      <td>-0.328882</td>\n",
       "      <td>1.437545</td>\n",
       "      <td>-0.689705</td>\n",
       "      <td>0.809782</td>\n",
       "      <td>-0.721805</td>\n",
       "      <td>-1.005030</td>\n",
       "      <td>-0.883973</td>\n",
       "    </tr>\n",
       "    <tr>\n",
       "      <th>4</th>\n",
       "      <td>-1.422417</td>\n",
       "      <td>0.710785</td>\n",
       "      <td>0.248184</td>\n",
       "      <td>2.177396</td>\n",
       "      <td>-0.742559</td>\n",
       "      <td>-0.658575</td>\n",
       "      <td>0.684626</td>\n",
       "      <td>-0.315628</td>\n",
       "      <td>0.952025</td>\n",
       "      <td>0.854461</td>\n",
       "      <td>...</td>\n",
       "      <td>0.918378</td>\n",
       "      <td>-2.740920</td>\n",
       "      <td>-0.496655</td>\n",
       "      <td>0.014973</td>\n",
       "      <td>-1.048500</td>\n",
       "      <td>0.191986</td>\n",
       "      <td>0.523554</td>\n",
       "      <td>0.123838</td>\n",
       "      <td>2.209885</td>\n",
       "      <td>1.026315</td>\n",
       "    </tr>\n",
       "  </tbody>\n",
       "</table>\n",
       "<p>5 rows × 28 columns</p>\n",
       "</div>"
      ],
      "text/plain": [
       "   BM_MainFar_80D  BM_RecentFar_20D  BM_RecentFar_40D  BM_RecentFar_80D  \\\n",
       "0        0.245840          0.067048          0.785072          1.300494   \n",
       "1        0.180911          0.982446          1.574092         -0.993717   \n",
       "2        0.772816         -1.975944          0.069778         -1.384341   \n",
       "3        0.327560          1.940627          0.638636         -0.796469   \n",
       "4       -1.422417          0.710785          0.248184          2.177396   \n",
       "\n",
       "   BM_RecentSecond_20D  BM_RecentSecond_40D  B_FarSpot  B_MainSpot  \\\n",
       "0             0.893289             0.451512  -0.018405    1.934180   \n",
       "1             0.818141             0.708741  -0.234551   -0.508018   \n",
       "2             1.720383             1.090461   0.641176   -0.570346   \n",
       "3             0.172058             0.378696   0.748282    0.361551   \n",
       "4            -0.742559            -0.658575   0.684626   -0.315628   \n",
       "\n",
       "   B_RecentSpot  B_SecondSpot  ...  R_UpVolatility_1_40D  \\\n",
       "0     -0.836682     -0.754481  ...             -0.560768   \n",
       "1     -1.484246     -0.521280  ...              0.337920   \n",
       "2      0.388064     -0.256326  ...             -0.206377   \n",
       "3     -0.896843     -1.198303  ...              0.799796   \n",
       "4      0.952025      0.854461  ...              0.918378   \n",
       "\n",
       "   R_UpVolatility_1_60D  TS_MainFar  TS_RecentFar  TS_RecentSecond  \\\n",
       "0              0.555404    0.935174      0.708733        -0.325861   \n",
       "1              1.787140    0.830510     -0.105903         0.767895   \n",
       "2             -0.985002   -0.122053      1.099711        -0.224172   \n",
       "3             -0.459644   -0.141161     -0.328882         1.437545   \n",
       "4             -2.740920   -0.496655      0.014973        -1.048500   \n",
       "\n",
       "   T_DnIntraday_5D  T_DnVolatility_1_10D  T_DnVolatility_2_20D  \\\n",
       "0        -1.726160              0.098658             -0.013302   \n",
       "1        -0.365703             -1.956811              1.408876   \n",
       "2        -1.006074              1.758399              0.014127   \n",
       "3        -0.689705              0.809782             -0.721805   \n",
       "4         0.191986              0.523554              0.123838   \n",
       "\n",
       "   WeightNetIntTotalChg5D  WeightShortVolRelTotIntChg  \n",
       "0                0.285040                   -0.130892  \n",
       "1                0.420680                   -1.230145  \n",
       "2                0.577504                    0.858479  \n",
       "3               -1.005030                   -0.883973  \n",
       "4                2.209885                    1.026315  \n",
       "\n",
       "[5 rows x 28 columns]"
      ]
     },
     "execution_count": 13,
     "metadata": {},
     "output_type": "execute_result"
    }
   ],
   "source": [
    "test_data = pd.DataFrame(np.random.randn(1000, len(features)), columns=features)\n",
    "test_data.head()"
   ]
  },
  {
   "cell_type": "code",
   "execution_count": 14,
   "metadata": {},
   "outputs": [],
   "source": [
    "y1 = ensemble1.predict(test_data)"
   ]
  },
  {
   "cell_type": "code",
   "execution_count": 15,
   "metadata": {},
   "outputs": [],
   "source": [
    "y2 = ensemble2.predict(test_data)"
   ]
  },
  {
   "cell_type": "code",
   "execution_count": null,
   "metadata": {},
   "outputs": [],
   "source": []
  }
 ],
 "metadata": {
  "kernelspec": {
   "display_name": "Python 3",
   "language": "python",
   "name": "python3"
  },
  "language_info": {
   "codemirror_mode": {
    "name": "ipython",
    "version": 3
   },
   "file_extension": ".py",
   "mimetype": "text/x-python",
   "name": "python",
   "nbconvert_exporter": "python",
   "pygments_lexer": "ipython3",
   "version": "3.6.8"
  }
 },
 "nbformat": 4,
 "nbformat_minor": 2
}
