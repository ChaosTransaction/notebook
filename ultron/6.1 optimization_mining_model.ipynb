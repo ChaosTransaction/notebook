{
 "cells": [
  {
   "cell_type": "markdown",
   "metadata": {},
   "source": [
    "在沙盒环境，通过寻优算法对多种机器学习模型及数据进行寻优，目前选择3种基础机器学习模型 XGBClassifier RandomForestClassifier LGBMClassifier。通过寻优挖掘并选择表现好的前10 precision，放入集成学习模型中"
   ]
  },
  {
   "cell_type": "code",
   "execution_count": 1,
   "metadata": {},
   "outputs": [],
   "source": [
    "import os,pdb,itertools,copy,datetime\n",
    "os.environ['ULTRON_DATA'] = 'keim'"
   ]
  },
  {
   "cell_type": "code",
   "execution_count": 2,
   "metadata": {},
   "outputs": [
    {
     "name": "stdout",
     "output_type": "stream",
     "text": [
      "/var/log/ultron/2022-09-27.log\n"
     ]
    }
   ],
   "source": [
    "import numpy as np\n",
    "import pandas as pd\n",
    "from ultron.env import *\n",
    "from ultron.utilities.utils import NumpyEncoder\n",
    "from ultron.optimize.geneticist.genetic import Gentic\n",
    "from ultron.optimize.model.treemodel import XGBClassifier\n",
    "from ultron.optimize.model.treemodel import LGBMClassifier\n",
    "from ultron.optimize.model.treemodel import RandomForestClassifier"
   ]
  },
  {
   "cell_type": "code",
   "execution_count": 3,
   "metadata": {},
   "outputs": [
    {
     "name": "stderr",
     "output_type": "stream",
     "text": [
      "2022-09-27 19:23:01,060 - [env.py:67] - ultron - INFO - enable example env will only read /home/kerry/ultron/rom/sandbox/keim\n"
     ]
    }
   ],
   "source": [
    "enable_example_env()"
   ]
  },
  {
   "cell_type": "markdown",
   "metadata": {},
   "source": [
    "#### 加载训练集"
   ]
  },
  {
   "cell_type": "code",
   "execution_count": 4,
   "metadata": {},
   "outputs": [
    {
     "data": {
      "text/html": [
       "<div>\n",
       "<style scoped>\n",
       "    .dataframe tbody tr th:only-of-type {\n",
       "        vertical-align: middle;\n",
       "    }\n",
       "\n",
       "    .dataframe tbody tr th {\n",
       "        vertical-align: top;\n",
       "    }\n",
       "\n",
       "    .dataframe thead th {\n",
       "        text-align: right;\n",
       "    }\n",
       "</style>\n",
       "<table border=\"1\" class=\"dataframe\">\n",
       "  <thead>\n",
       "    <tr style=\"text-align: right;\">\n",
       "      <th></th>\n",
       "      <th>trade_date</th>\n",
       "      <th>code</th>\n",
       "      <th>BM_MainFar_80D</th>\n",
       "      <th>BM_RecentFar_20D</th>\n",
       "      <th>BM_RecentFar_40D</th>\n",
       "      <th>BM_RecentFar_80D</th>\n",
       "      <th>BM_RecentSecond_20D</th>\n",
       "      <th>BM_RecentSecond_40D</th>\n",
       "      <th>B_FarSpot</th>\n",
       "      <th>B_MainSpot</th>\n",
       "      <th>...</th>\n",
       "      <th>TS_RecentSecond</th>\n",
       "      <th>T_DnIntraday_5D</th>\n",
       "      <th>T_DnVolatility_1_10D</th>\n",
       "      <th>T_DnVolatility_2_20D</th>\n",
       "      <th>WeightNetIntTotalChg5D</th>\n",
       "      <th>WeightShortVolRelTotIntChg</th>\n",
       "      <th>inventory</th>\n",
       "      <th>profitratio</th>\n",
       "      <th>value</th>\n",
       "      <th>signal</th>\n",
       "    </tr>\n",
       "  </thead>\n",
       "  <tbody>\n",
       "    <tr>\n",
       "      <th>0</th>\n",
       "      <td>2021-02-05</td>\n",
       "      <td>A</td>\n",
       "      <td>0.108297</td>\n",
       "      <td>0.028482</td>\n",
       "      <td>0.048874</td>\n",
       "      <td>0.112566</td>\n",
       "      <td>0.037459</td>\n",
       "      <td>0.018997</td>\n",
       "      <td>-0.115713</td>\n",
       "      <td>-0.633489</td>\n",
       "      <td>...</td>\n",
       "      <td>0.080587</td>\n",
       "      <td>-0.010746</td>\n",
       "      <td>-0.011118</td>\n",
       "      <td>-0.001603</td>\n",
       "      <td>0.000839</td>\n",
       "      <td>0.192546</td>\n",
       "      <td>NaN</td>\n",
       "      <td>NaN</td>\n",
       "      <td>1.130717</td>\n",
       "      <td>1.0</td>\n",
       "    </tr>\n",
       "    <tr>\n",
       "      <th>1</th>\n",
       "      <td>2021-02-05</td>\n",
       "      <td>AL</td>\n",
       "      <td>-0.017185</td>\n",
       "      <td>-0.010713</td>\n",
       "      <td>-0.028431</td>\n",
       "      <td>-0.043583</td>\n",
       "      <td>-0.015898</td>\n",
       "      <td>-0.022686</td>\n",
       "      <td>0.010550</td>\n",
       "      <td>-0.058663</td>\n",
       "      <td>...</td>\n",
       "      <td>-0.001708</td>\n",
       "      <td>-0.006366</td>\n",
       "      <td>-0.006237</td>\n",
       "      <td>0.000006</td>\n",
       "      <td>-0.000552</td>\n",
       "      <td>-0.095002</td>\n",
       "      <td>-71.400002</td>\n",
       "      <td>-0.126352</td>\n",
       "      <td>0.936497</td>\n",
       "      <td>1.0</td>\n",
       "    </tr>\n",
       "    <tr>\n",
       "      <th>2</th>\n",
       "      <td>2021-02-05</td>\n",
       "      <td>BU</td>\n",
       "      <td>0.002268</td>\n",
       "      <td>0.074625</td>\n",
       "      <td>0.144817</td>\n",
       "      <td>0.146292</td>\n",
       "      <td>0.060386</td>\n",
       "      <td>0.130830</td>\n",
       "      <td>-0.087043</td>\n",
       "      <td>-0.147928</td>\n",
       "      <td>...</td>\n",
       "      <td>-0.052928</td>\n",
       "      <td>-0.006808</td>\n",
       "      <td>-0.006575</td>\n",
       "      <td>0.003424</td>\n",
       "      <td>0.001066</td>\n",
       "      <td>0.126363</td>\n",
       "      <td>-61.389999</td>\n",
       "      <td>0.083217</td>\n",
       "      <td>0.250348</td>\n",
       "      <td>1.0</td>\n",
       "    </tr>\n",
       "    <tr>\n",
       "      <th>3</th>\n",
       "      <td>2021-02-05</td>\n",
       "      <td>C</td>\n",
       "      <td>0.021003</td>\n",
       "      <td>-0.003571</td>\n",
       "      <td>0.046976</td>\n",
       "      <td>0.034767</td>\n",
       "      <td>0.002104</td>\n",
       "      <td>0.030268</td>\n",
       "      <td>0.103967</td>\n",
       "      <td>0.172280</td>\n",
       "      <td>...</td>\n",
       "      <td>0.009364</td>\n",
       "      <td>-0.003704</td>\n",
       "      <td>-0.007573</td>\n",
       "      <td>-0.000428</td>\n",
       "      <td>-0.000842</td>\n",
       "      <td>-0.037971</td>\n",
       "      <td>-427.600006</td>\n",
       "      <td>NaN</td>\n",
       "      <td>0.696008</td>\n",
       "      <td>1.0</td>\n",
       "    </tr>\n",
       "    <tr>\n",
       "      <th>4</th>\n",
       "      <td>2021-02-05</td>\n",
       "      <td>CF</td>\n",
       "      <td>0.013602</td>\n",
       "      <td>0.003970</td>\n",
       "      <td>0.006347</td>\n",
       "      <td>0.023968</td>\n",
       "      <td>-0.001802</td>\n",
       "      <td>0.002904</td>\n",
       "      <td>-0.024857</td>\n",
       "      <td>-0.031358</td>\n",
       "      <td>...</td>\n",
       "      <td>-0.034307</td>\n",
       "      <td>-0.004510</td>\n",
       "      <td>-0.007883</td>\n",
       "      <td>-0.000114</td>\n",
       "      <td>-0.000248</td>\n",
       "      <td>-0.029101</td>\n",
       "      <td>-618.409973</td>\n",
       "      <td>0.015356</td>\n",
       "      <td>0.971867</td>\n",
       "      <td>1.0</td>\n",
       "    </tr>\n",
       "  </tbody>\n",
       "</table>\n",
       "<p>5 rows × 34 columns</p>\n",
       "</div>"
      ],
      "text/plain": [
       "   trade_date code  BM_MainFar_80D  BM_RecentFar_20D  BM_RecentFar_40D  \\\n",
       "0  2021-02-05    A        0.108297          0.028482          0.048874   \n",
       "1  2021-02-05   AL       -0.017185         -0.010713         -0.028431   \n",
       "2  2021-02-05   BU        0.002268          0.074625          0.144817   \n",
       "3  2021-02-05    C        0.021003         -0.003571          0.046976   \n",
       "4  2021-02-05   CF        0.013602          0.003970          0.006347   \n",
       "\n",
       "   BM_RecentFar_80D  BM_RecentSecond_20D  BM_RecentSecond_40D  B_FarSpot  \\\n",
       "0          0.112566             0.037459             0.018997  -0.115713   \n",
       "1         -0.043583            -0.015898            -0.022686   0.010550   \n",
       "2          0.146292             0.060386             0.130830  -0.087043   \n",
       "3          0.034767             0.002104             0.030268   0.103967   \n",
       "4          0.023968            -0.001802             0.002904  -0.024857   \n",
       "\n",
       "   B_MainSpot  ...  TS_RecentSecond  T_DnIntraday_5D  T_DnVolatility_1_10D  \\\n",
       "0   -0.633489  ...         0.080587        -0.010746             -0.011118   \n",
       "1   -0.058663  ...        -0.001708        -0.006366             -0.006237   \n",
       "2   -0.147928  ...        -0.052928        -0.006808             -0.006575   \n",
       "3    0.172280  ...         0.009364        -0.003704             -0.007573   \n",
       "4   -0.031358  ...        -0.034307        -0.004510             -0.007883   \n",
       "\n",
       "   T_DnVolatility_2_20D  WeightNetIntTotalChg5D  WeightShortVolRelTotIntChg  \\\n",
       "0             -0.001603                0.000839                    0.192546   \n",
       "1              0.000006               -0.000552                   -0.095002   \n",
       "2              0.003424                0.001066                    0.126363   \n",
       "3             -0.000428               -0.000842                   -0.037971   \n",
       "4             -0.000114               -0.000248                   -0.029101   \n",
       "\n",
       "    inventory  profitratio     value  signal  \n",
       "0         NaN          NaN  1.130717     1.0  \n",
       "1  -71.400002    -0.126352  0.936497     1.0  \n",
       "2  -61.389999     0.083217  0.250348     1.0  \n",
       "3 -427.600006          NaN  0.696008     1.0  \n",
       "4 -618.409973     0.015356  0.971867     1.0  \n",
       "\n",
       "[5 rows x 34 columns]"
      ]
     },
     "execution_count": 4,
     "metadata": {},
     "output_type": "execute_result"
    }
   ],
   "source": [
    "train_data = pd.read_csv(os.path.join(g_project_data, 'train_datas.csv'), index_col=0)\n",
    "train_data.head()"
   ]
  },
  {
   "cell_type": "markdown",
   "metadata": {},
   "source": [
    "#### 当前使用3种机器学习模型: XGBClassifier RandomForestClassifier LGBMClassifier"
   ]
  },
  {
   "cell_type": "markdown",
   "metadata": {},
   "source": [
    "#### 构建模型的参数集"
   ]
  },
  {
   "cell_type": "code",
   "execution_count": 5,
   "metadata": {},
   "outputs": [],
   "source": [
    "class Parameter(object):\n",
    "    \n",
    "    @classmethod\n",
    "    def XGBClassifier(cls, **kwargs):\n",
    "        return {\n",
    "        'max_depth': [i for i in range(6, 15, 2)],\n",
    "        'n_estimators': [i for i in range(50, 100, 10)],\n",
    "        'learning_rate': [(i / 100) for i in range(1, 10, 2)],\n",
    "        'objective': ['multi:softmax'],\n",
    "        'num_class': [2]}\n",
    "    \n",
    "    @classmethod\n",
    "    def RandomForestClassifier(cls, **kwargs):\n",
    "        return {\n",
    "        'n_estimators': [i for i in range(1, 100, 1)],\n",
    "        'max_features': ['auto']} \n",
    "    \n",
    "    @classmethod\n",
    "    def LGBMClassifier(cls, **kwargs):\n",
    "        return {\n",
    "        'max_depth': [i for i in range(1, 10, 2)],\n",
    "        'n_estimators': [i for i in range(1, 100, 4)],\n",
    "        'learning_rate': [(i / 100) for i in range(1, 10, 2)]\n",
    "    }\n"
   ]
  },
  {
   "cell_type": "code",
   "execution_count": 6,
   "metadata": {},
   "outputs": [],
   "source": [
    "params_sets = {\n",
    "            'XGBClassifier':Parameter.XGBClassifier(),\n",
    "            'RandomForestClassifier':Parameter.RandomForestClassifier(),\n",
    "            'LGBMClassifier':Parameter.LGBMClassifier(),\n",
    "        }"
   ]
  },
  {
   "cell_type": "markdown",
   "metadata": {},
   "source": [
    "#### 构建基础模型集"
   ]
  },
  {
   "cell_type": "code",
   "execution_count": 7,
   "metadata": {},
   "outputs": [],
   "source": [
    "model_sets = ['XGBClassifier', 'RandomForestClassifier','LGBMClassifier']"
   ]
  },
  {
   "cell_type": "code",
   "execution_count": 8,
   "metadata": {},
   "outputs": [],
   "source": [
    "features = [col for col in train_data.columns if col not in ['trade_date','code',\n",
    "                                                             'value','signal','inventory','profitratio']]"
   ]
  },
  {
   "cell_type": "code",
   "execution_count": 9,
   "metadata": {},
   "outputs": [],
   "source": [
    "X = train_data[['trade_date','code'] + features].set_index(['trade_date','code']).fillna(0)\n",
    "Y = train_data[['trade_date','code','signal']].set_index(['trade_date','code']).fillna(0)"
   ]
  },
  {
   "cell_type": "markdown",
   "metadata": {},
   "source": [
    "#### 创建挖掘引擎"
   ]
  },
  {
   "cell_type": "markdown",
   "metadata": {},
   "source": [
    "- 1.系统默认3种评估模式，也可自定义datetime估模式\n",
    "- 2.系统模式评估模式中，已经做了训练集和测试集分离"
   ]
  },
  {
   "cell_type": "code",
   "execution_count": 10,
   "metadata": {},
   "outputs": [],
   "source": [
    "def save_model(gen, run_details): ## 每一代优秀模型回调\n",
    "    res = []\n",
    "    for detail in run_details:\n",
    "        features = detail._identification\n",
    "        model_name = detail._model_name\n",
    "        params = json.dumps(detail._params, cls=NumpyEncoder)\n",
    "        fitness = detail._raw_fitness\n",
    "        method = detail._init_method\n",
    "        res.append({\n",
    "                'features': features,\n",
    "                'model_name': model_name,\n",
    "                'params': params,\n",
    "                'fitness': fitness,\n",
    "                'gen': gen,\n",
    "                'method': method\n",
    "        }\n",
    "    )"
   ]
  },
  {
   "cell_type": "code",
   "execution_count": 11,
   "metadata": {},
   "outputs": [],
   "source": [
    "gentic = Gentic(model_sets=model_sets,\n",
    "                        params_sets=params_sets,\n",
    "                        stopping_criteria=100,\n",
    "                        convergence=0.002,\n",
    "                        population_size=20,\n",
    "                        tournament_size=5,\n",
    "                        p_point_mutation=0.7,\n",
    "                        p_crossover=0.2,\n",
    "                        standard_score=0.7,\n",
    "                        save_model=save_model)"
   ]
  },
  {
   "cell_type": "code",
   "execution_count": null,
   "metadata": {},
   "outputs": [
    {
     "name": "stderr",
     "output_type": "stream",
     "text": [
      "[Parallel(n_jobs=1)]: Using backend SequentialBackend with 1 concurrent workers.\n",
      "[Parallel(n_jobs=1)]: Done   1 out of   1 | elapsed:   49.9s finished\n",
      "[Parallel(n_jobs=1)]: Using backend SequentialBackend with 1 concurrent workers.\n"
     ]
    },
    {
     "name": "stdout",
     "output_type": "stream",
     "text": [
      "name:LGBMClassifier_1664277813536701,gen:0,params:{'max_depth': 7, 'n_estimators': 61, 'learning_rate': 0.03},fitness:0.5223833065675809,method:full,token:e7585a7f1ae8976039b18cfa035eabc3\n",
      "name:LGBMClassifier_1664277817665537,gen:0,params:{'max_depth': 5, 'n_estimators': 37, 'learning_rate': 0.05},fitness:0.5227289821366718,method:full,token:c945a967ce458605fdc6a44d2a10a781\n",
      "name:LGBMClassifier_1664277795551815,gen:0,params:{'max_depth': 9, 'n_estimators': 1, 'learning_rate': 0.07},fitness:0.5231608629218605,method:full,token:2ca3db9d7d189b0108460713e8c18fa6\n",
      "name:LGBMClassifier_1664277795646378,gen:0,params:{'max_depth': 3, 'n_estimators': 33, 'learning_rate': 0.01},fitness:0.5232477129151878,method:full,token:ea13514028a51362317e70dd5ccf3323\n",
      "name:LGBMClassifier_1664277795161571,gen:0,params:{'max_depth': 1, 'n_estimators': 53, 'learning_rate': 0.09},fitness:0.5319068911691012,method:full,token:78a79fb8d5e556c211b330ebde80b4e6\n",
      "ExpendTime:49.934094,Generation:0,Tournament:5, Fitness Mean:0.524686,Fitness Max:0.531907,Fitness Min:0.522383\n"
     ]
    },
    {
     "name": "stderr",
     "output_type": "stream",
     "text": [
      "[Parallel(n_jobs=1)]: Done   1 out of   1 | elapsed:    8.2s finished\n",
      "[Parallel(n_jobs=1)]: Using backend SequentialBackend with 1 concurrent workers.\n"
     ]
    },
    {
     "name": "stdout",
     "output_type": "stream",
     "text": [
      "name:LGBMClassifier_1664277848458381,gen:1,params:{'max_depth': 1, 'n_estimators': 85, 'learning_rate': 0.01},fitness:0.5259314256924232,method:Point Mutation,token:7c1af451ca50ac512ef14ddbbfa5d57d\n",
      "name:LGBMClassifier_1664277843014196,gen:1,params:{'max_depth': 3, 'n_estimators': 37, 'learning_rate': 0.03},fitness:0.5259325053194122,method:Reproduction,token:f0bf8bf69feecdcf478d2383ae7b3790\n",
      "name:LGBMClassifier_1664277848053015,gen:1,params:{'max_depth': 1, 'n_estimators': 49, 'learning_rate': 0.03},fitness:0.5285289332535609,method:Point Mutation,token:7acc827e0a4782f5571966580af14f25\n",
      "name:LGBMClassifier_1664277842583285,gen:1,params:{'max_depth': 1, 'n_estimators': 53, 'learning_rate': 0.05},fitness:0.5291354886886581,method:Crossover,token:c6b088141f2f70923e8f33ebe3bf684a\n",
      "name:LGBMClassifier_1664277795161571,gen:0,params:{'max_depth': 1, 'n_estimators': 53, 'learning_rate': 0.09},fitness:0.5319068911691012,method:full,token:78a79fb8d5e556c211b330ebde80b4e6\n",
      "ExpendTime:8.192187,Generation:1,Tournament:5, Fitness Mean:0.528287,Fitness Max:0.531907,Fitness Min:0.525931\n",
      "d_value:0.003601,convergence:0.002000,con_time:0\n"
     ]
    },
    {
     "name": "stderr",
     "output_type": "stream",
     "text": [
      "[Parallel(n_jobs=1)]: Done   1 out of   1 | elapsed:   10.7s finished\n",
      "[Parallel(n_jobs=1)]: Using backend SequentialBackend with 1 concurrent workers.\n"
     ]
    },
    {
     "name": "stdout",
     "output_type": "stream",
     "text": [
      "name:LGBMClassifier_1664277855376565,gen:2,params:{'max_depth': 1, 'n_estimators': 65, 'learning_rate': 0.03},fitness:0.5277498174380751,method:Point Mutation,token:abda78074399a6556710655b61dbab5f\n",
      "name:LGBMClassifier_1664277859210483,gen:2,params:{'max_depth': 1, 'n_estimators': 41, 'learning_rate': 0.05},fitness:0.5279229776112353,method:Point Mutation,token:7f91e1cec9f9dd737e0c5ab101428170\n",
      "name:LGBMClassifier_1664277848053015,gen:1,params:{'max_depth': 1, 'n_estimators': 49, 'learning_rate': 0.03},fitness:0.5285289332535609,method:Point Mutation,token:7acc827e0a4782f5571966580af14f25\n",
      "name:LGBMClassifier_1664277842583285,gen:1,params:{'max_depth': 1, 'n_estimators': 53, 'learning_rate': 0.05},fitness:0.5291354886886581,method:Crossover,token:c6b088141f2f70923e8f33ebe3bf684a\n",
      "name:LGBMClassifier_1664277795161571,gen:0,params:{'max_depth': 1, 'n_estimators': 53, 'learning_rate': 0.09},fitness:0.5319068911691012,method:full,token:78a79fb8d5e556c211b330ebde80b4e6\n",
      "ExpendTime:10.727080,Generation:2,Tournament:5, Fitness Mean:0.529049,Fitness Max:0.531907,Fitness Min:0.527750\n",
      "d_value:0.000762,convergence:0.002000,con_time:0\n"
     ]
    },
    {
     "name": "stderr",
     "output_type": "stream",
     "text": [
      "[Parallel(n_jobs=1)]: Done   1 out of   1 | elapsed:    6.7s finished\n",
      "[Parallel(n_jobs=1)]: Using backend SequentialBackend with 1 concurrent workers.\n"
     ]
    },
    {
     "name": "stdout",
     "output_type": "stream",
     "text": [
      "name:LGBMClassifier_1664277842583285,gen:1,params:{'max_depth': 1, 'n_estimators': 53, 'learning_rate': 0.05},fitness:0.5291354886886581,method:Crossover,token:c6b088141f2f70923e8f33ebe3bf684a\n",
      "name:LGBMClassifier_1664277864898325,gen:3,params:{'max_depth': 1, 'n_estimators': 49, 'learning_rate': 0.09},fitness:0.529135848564321,method:Point Mutation,token:23eb8da9ebe6dc240e9095a146302214\n",
      "name:LGBMClassifier_1664277860679235,gen:3,params:{'max_depth': 1, 'n_estimators': 49, 'learning_rate': 0.07},fitness:0.5299149943694453,method:Point Mutation,token:165499b071cd8f9811d4f224936c17b6\n",
      "name:LGBMClassifier_1664277862954595,gen:3,params:{'max_depth': 1, 'n_estimators': 85, 'learning_rate': 0.05},fitness:0.5300017693886763,method:Point Mutation,token:18aab853959323414ecb35450bb518e6\n",
      "name:LGBMClassifier_1664277795161571,gen:0,params:{'max_depth': 1, 'n_estimators': 53, 'learning_rate': 0.09},fitness:0.5319068911691012,method:full,token:78a79fb8d5e556c211b330ebde80b4e6\n",
      "ExpendTime:6.721141,Generation:3,Tournament:5, Fitness Mean:0.530019,Fitness Max:0.531907,Fitness Min:0.529135\n",
      "d_value:0.000970,convergence:0.002000,con_time:1\n"
     ]
    },
    {
     "name": "stderr",
     "output_type": "stream",
     "text": [
      "[Parallel(n_jobs=1)]: Done   1 out of   1 | elapsed:    5.6s finished\n",
      "[Parallel(n_jobs=1)]: Using backend SequentialBackend with 1 concurrent workers.\n"
     ]
    },
    {
     "name": "stdout",
     "output_type": "stream",
     "text": [
      "name:LGBMClassifier_1664277869048638,gen:4,params:{'max_depth': 1, 'n_estimators': 53, 'learning_rate': 0.07},fitness:0.5300016944145798,method:Reproduction,token:a1286b36ac032d292dc98cd20948def5\n",
      "name:LGBMClassifier_1664277862954595,gen:3,params:{'max_depth': 1, 'n_estimators': 85, 'learning_rate': 0.05},fitness:0.5300017693886763,method:Point Mutation,token:18aab853959323414ecb35450bb518e6\n",
      "name:LGBMClassifier_1664277869921106,gen:4,params:{'max_depth': 1, 'n_estimators': 97, 'learning_rate': 0.03},fitness:0.5309540003928643,method:Point Mutation,token:4f2569cc1cd7aae7afa58ea18717f0a0\n",
      "name:LGBMClassifier_1664277870508957,gen:4,params:{'max_depth': 1, 'n_estimators': 69, 'learning_rate': 0.09},fitness:0.53147421565849,method:Crossover,token:b49a47cf0082e24343ca95249fba9868\n",
      "name:LGBMClassifier_1664277795161571,gen:0,params:{'max_depth': 1, 'n_estimators': 53, 'learning_rate': 0.09},fitness:0.5319068911691012,method:full,token:78a79fb8d5e556c211b330ebde80b4e6\n",
      "ExpendTime:5.558229,Generation:4,Tournament:5, Fitness Mean:0.530868,Fitness Max:0.531907,Fitness Min:0.530002\n",
      "d_value:0.000849,convergence:0.002000,con_time:2\n"
     ]
    },
    {
     "name": "stderr",
     "output_type": "stream",
     "text": [
      "[Parallel(n_jobs=1)]: Done   1 out of   1 | elapsed:    8.0s finished\n",
      "[Parallel(n_jobs=1)]: Using backend SequentialBackend with 1 concurrent workers.\n"
     ]
    },
    {
     "name": "stdout",
     "output_type": "stream",
     "text": [
      "name:LGBMClassifier_1664277872660515,gen:5,params:{'max_depth': 1, 'n_estimators': 85, 'learning_rate': 0.09},fitness:0.5302620344670916,method:Crossover,token:51755cdb8c5f4b6bc714c4bee1cb67dc\n",
      "name:LGBMClassifier_1664277879845439,gen:5,params:{'max_depth': 1, 'n_estimators': 85, 'learning_rate': 0.07},fitness:0.5308680200990558,method:Point Mutation,token:d122af5160a4af505be4ffbe789b8f85\n",
      "name:LGBMClassifier_1664277869921106,gen:4,params:{'max_depth': 1, 'n_estimators': 97, 'learning_rate': 0.03},fitness:0.5309540003928643,method:Point Mutation,token:4f2569cc1cd7aae7afa58ea18717f0a0\n",
      "name:LGBMClassifier_1664277870508957,gen:4,params:{'max_depth': 1, 'n_estimators': 69, 'learning_rate': 0.09},fitness:0.53147421565849,method:Crossover,token:b49a47cf0082e24343ca95249fba9868\n",
      "name:LGBMClassifier_1664277795161571,gen:0,params:{'max_depth': 1, 'n_estimators': 53, 'learning_rate': 0.09},fitness:0.5319068911691012,method:full,token:78a79fb8d5e556c211b330ebde80b4e6\n",
      "ExpendTime:7.986535,Generation:5,Tournament:5, Fitness Mean:0.531093,Fitness Max:0.531907,Fitness Min:0.530262\n",
      "d_value:0.000225,convergence:0.002000,con_time:3\n"
     ]
    },
    {
     "name": "stderr",
     "output_type": "stream",
     "text": [
      "[Parallel(n_jobs=1)]: Done   1 out of   1 | elapsed:    9.3s finished\n",
      "[Parallel(n_jobs=1)]: Using backend SequentialBackend with 1 concurrent workers.\n"
     ]
    },
    {
     "name": "stdout",
     "output_type": "stream",
     "text": [
      "name:LGBMClassifier_1664277886768081,gen:6,params:{'max_depth': 1, 'n_estimators': 57, 'learning_rate': 0.05},fitness:0.530780780240427,method:Point Mutation,token:c08d9597702f717c8f96e40d2f7d4ad3\n",
      "name:LGBMClassifier_1664277879845439,gen:5,params:{'max_depth': 1, 'n_estimators': 85, 'learning_rate': 0.07},fitness:0.5308680200990558,method:Point Mutation,token:d122af5160a4af505be4ffbe789b8f85\n",
      "name:LGBMClassifier_1664277869921106,gen:4,params:{'max_depth': 1, 'n_estimators': 97, 'learning_rate': 0.03},fitness:0.5309540003928643,method:Point Mutation,token:4f2569cc1cd7aae7afa58ea18717f0a0\n",
      "name:LGBMClassifier_1664277870508957,gen:4,params:{'max_depth': 1, 'n_estimators': 69, 'learning_rate': 0.09},fitness:0.53147421565849,method:Crossover,token:b49a47cf0082e24343ca95249fba9868\n",
      "name:LGBMClassifier_1664277795161571,gen:0,params:{'max_depth': 1, 'n_estimators': 53, 'learning_rate': 0.09},fitness:0.5319068911691012,method:full,token:78a79fb8d5e556c211b330ebde80b4e6\n",
      "ExpendTime:9.329350,Generation:6,Tournament:5, Fitness Mean:0.531197,Fitness Max:0.531907,Fitness Min:0.530781\n",
      "d_value:0.000104,convergence:0.002000,con_time:4\n"
     ]
    }
   ],
   "source": [
    "gentic.train(features, X=X, Y=Y, mode='accuracy', n_splits=2) # mode 为模型评估方式"
   ]
  },
  {
   "cell_type": "code",
   "execution_count": 15,
   "metadata": {},
   "outputs": [],
   "source": []
  },
  {
   "cell_type": "code",
   "execution_count": null,
   "metadata": {},
   "outputs": [],
   "source": []
  }
 ],
 "metadata": {
  "kernelspec": {
   "display_name": "Python 3",
   "language": "python",
   "name": "python3"
  },
  "language_info": {
   "codemirror_mode": {
    "name": "ipython",
    "version": 3
   },
   "file_extension": ".py",
   "mimetype": "text/x-python",
   "name": "python",
   "nbconvert_exporter": "python",
   "pygments_lexer": "ipython3",
   "version": "3.6.8"
  }
 },
 "nbformat": 4,
 "nbformat_minor": 2
}
