{
 "cells": [
  {
   "cell_type": "markdown",
   "metadata": {},
   "source": [
    "在沙盒环境，计算标的 趋势变化敏感速度及标的之间相关性"
   ]
  },
  {
   "cell_type": "code",
   "execution_count": 1,
   "metadata": {},
   "outputs": [],
   "source": [
    "import os, copy, sys\n",
    "os.environ['ULTRON_DATA'] = 'keim'\n",
    "os.environ['IGNORE_WARNINGS'] = '0'\n",
    "import pandas as pd\n",
    "import numpy as np\n",
    "from matplotlib import pyplot as plt"
   ]
  },
  {
   "cell_type": "code",
   "execution_count": 2,
   "metadata": {},
   "outputs": [
    {
     "name": "stdout",
     "output_type": "stream",
     "text": [
      "/var/log/ultron/2022-10-03.log\n"
     ]
    }
   ],
   "source": [
    "from ultron.ump.technical.exectue import calc_pair_speed\n",
    "from ultron.ump.market.symbol_pd import _benchmark\n",
    "from ultron.kdutils.scaler import scaler_one\n",
    "from ultron.ump.core.helper import pd_resample"
   ]
  },
  {
   "cell_type": "code",
   "execution_count": 3,
   "metadata": {},
   "outputs": [],
   "source": [
    "from ultron.env import *"
   ]
  },
  {
   "cell_type": "code",
   "execution_count": 4,
   "metadata": {},
   "outputs": [
    {
     "name": "stderr",
     "output_type": "stream",
     "text": [
      "2022-10-03 20:20:11,546 - [env.py:81] - ultron - INFO - enable example env will only read /home/kerry/ultron/rom/sandbox/keim\n"
     ]
    }
   ],
   "source": [
    "enable_example_env()"
   ]
  },
  {
   "cell_type": "code",
   "execution_count": 5,
   "metadata": {},
   "outputs": [],
   "source": [
    "market_data = pd.read_csv(os.path.join(g_project_data, 'market_data.csv'), index_col=0)\n",
    "market_data['trade_date'] = pd.to_datetime(market_data['trade_date'])"
   ]
  },
  {
   "cell_type": "code",
   "execution_count": 6,
   "metadata": {},
   "outputs": [],
   "source": [
    "def next_returs_impl(price_data, key, name):\n",
    "    price_tb = price_data[key].unstack()\n",
    "    price_tb.fillna(method='pad', inplace=True)\n",
    "    return_tb = np.log(price_tb.shift(-1) / price_tb)\n",
    "    return_tb = return_tb.replace([np.inf, -np.inf], np.nan)\n",
    "    return_tb = return_tb.stack().reindex(price_data.index)\n",
    "    return_tb.name = name\n",
    "    return return_tb"
   ]
  },
  {
   "cell_type": "code",
   "execution_count": 7,
   "metadata": {},
   "outputs": [],
   "source": [
    "def pre_close_impl(price_data, key, name):\n",
    "    price_tb = price_data[key].unstack()\n",
    "    price_tb.fillna(method='pad', inplace=True)\n",
    "    return_tb = price_tb.shift(-1)\n",
    "    return_tb = return_tb.stack().reindex(price_data.index)\n",
    "    return_tb.name = name\n",
    "    return return_tb"
   ]
  },
  {
   "cell_type": "code",
   "execution_count": 8,
   "metadata": {},
   "outputs": [
    {
     "data": {
      "text/html": [
       "<div>\n",
       "<style scoped>\n",
       "    .dataframe tbody tr th:only-of-type {\n",
       "        vertical-align: middle;\n",
       "    }\n",
       "\n",
       "    .dataframe tbody tr th {\n",
       "        vertical-align: top;\n",
       "    }\n",
       "\n",
       "    .dataframe thead th {\n",
       "        text-align: right;\n",
       "    }\n",
       "</style>\n",
       "<table border=\"1\" class=\"dataframe\">\n",
       "  <thead>\n",
       "    <tr style=\"text-align: right;\">\n",
       "      <th></th>\n",
       "      <th>trade_date</th>\n",
       "      <th>code</th>\n",
       "      <th>nxt1_ret</th>\n",
       "    </tr>\n",
       "  </thead>\n",
       "  <tbody>\n",
       "    <tr>\n",
       "      <th>0</th>\n",
       "      <td>2017-10-27</td>\n",
       "      <td>A</td>\n",
       "      <td>-0.0003</td>\n",
       "    </tr>\n",
       "    <tr>\n",
       "      <th>1</th>\n",
       "      <td>2017-10-27</td>\n",
       "      <td>AL</td>\n",
       "      <td>0.0012</td>\n",
       "    </tr>\n",
       "    <tr>\n",
       "      <th>2</th>\n",
       "      <td>2017-10-27</td>\n",
       "      <td>BU</td>\n",
       "      <td>0.0199</td>\n",
       "    </tr>\n",
       "    <tr>\n",
       "      <th>3</th>\n",
       "      <td>2017-10-27</td>\n",
       "      <td>C</td>\n",
       "      <td>-0.0054</td>\n",
       "    </tr>\n",
       "    <tr>\n",
       "      <th>4</th>\n",
       "      <td>2017-10-27</td>\n",
       "      <td>CF</td>\n",
       "      <td>0.0010</td>\n",
       "    </tr>\n",
       "  </tbody>\n",
       "</table>\n",
       "</div>"
      ],
      "text/plain": [
       "  trade_date code  nxt1_ret\n",
       "0 2017-10-27    A   -0.0003\n",
       "1 2017-10-27   AL    0.0012\n",
       "2 2017-10-27   BU    0.0199\n",
       "3 2017-10-27    C   -0.0054\n",
       "4 2017-10-27   CF    0.0010"
      ]
     },
     "execution_count": 8,
     "metadata": {},
     "output_type": "execute_result"
    }
   ],
   "source": [
    "next_rets = next_returs_impl(\n",
    "    market_data.set_index(['trade_date','code']),'closePrice','nxt1_ret').reset_index()\n",
    "next_rets['trade_date'] = pd.to_datetime(next_rets['trade_date'])\n",
    "next_rets.head()"
   ]
  },
  {
   "cell_type": "code",
   "execution_count": 9,
   "metadata": {},
   "outputs": [
    {
     "data": {
      "text/html": [
       "<div>\n",
       "<style scoped>\n",
       "    .dataframe tbody tr th:only-of-type {\n",
       "        vertical-align: middle;\n",
       "    }\n",
       "\n",
       "    .dataframe tbody tr th {\n",
       "        vertical-align: top;\n",
       "    }\n",
       "\n",
       "    .dataframe thead th {\n",
       "        text-align: right;\n",
       "    }\n",
       "</style>\n",
       "<table border=\"1\" class=\"dataframe\">\n",
       "  <thead>\n",
       "    <tr style=\"text-align: right;\">\n",
       "      <th></th>\n",
       "      <th>trade_date</th>\n",
       "      <th>code</th>\n",
       "      <th>pre_close</th>\n",
       "    </tr>\n",
       "  </thead>\n",
       "  <tbody>\n",
       "    <tr>\n",
       "      <th>0</th>\n",
       "      <td>2017-10-27</td>\n",
       "      <td>A</td>\n",
       "      <td>4434.4424</td>\n",
       "    </tr>\n",
       "    <tr>\n",
       "      <th>1</th>\n",
       "      <td>2017-10-27</td>\n",
       "      <td>AL</td>\n",
       "      <td>15468.8167</td>\n",
       "    </tr>\n",
       "    <tr>\n",
       "      <th>2</th>\n",
       "      <td>2017-10-27</td>\n",
       "      <td>BU</td>\n",
       "      <td>3368.8829</td>\n",
       "    </tr>\n",
       "    <tr>\n",
       "      <th>3</th>\n",
       "      <td>2017-10-27</td>\n",
       "      <td>C</td>\n",
       "      <td>1991.7101</td>\n",
       "    </tr>\n",
       "    <tr>\n",
       "      <th>4</th>\n",
       "      <td>2017-10-27</td>\n",
       "      <td>CF</td>\n",
       "      <td>20469.6218</td>\n",
       "    </tr>\n",
       "  </tbody>\n",
       "</table>\n",
       "</div>"
      ],
      "text/plain": [
       "  trade_date code   pre_close\n",
       "0 2017-10-27    A   4434.4424\n",
       "1 2017-10-27   AL  15468.8167\n",
       "2 2017-10-27   BU   3368.8829\n",
       "3 2017-10-27    C   1991.7101\n",
       "4 2017-10-27   CF  20469.6218"
      ]
     },
     "execution_count": 9,
     "metadata": {},
     "output_type": "execute_result"
    }
   ],
   "source": [
    "pre_close = pre_close_impl(\n",
    "    market_data.set_index(['trade_date','code']),'closePrice','pre_close').reset_index()\n",
    "pre_close['trade_date'] = pd.to_datetime(pre_close['trade_date'])\n",
    "pre_close.head()"
   ]
  },
  {
   "cell_type": "code",
   "execution_count": 10,
   "metadata": {},
   "outputs": [
    {
     "data": {
      "text/html": [
       "<div>\n",
       "<style scoped>\n",
       "    .dataframe tbody tr th:only-of-type {\n",
       "        vertical-align: middle;\n",
       "    }\n",
       "\n",
       "    .dataframe tbody tr th {\n",
       "        vertical-align: top;\n",
       "    }\n",
       "\n",
       "    .dataframe thead th {\n",
       "        text-align: right;\n",
       "    }\n",
       "</style>\n",
       "<table border=\"1\" class=\"dataframe\">\n",
       "  <thead>\n",
       "    <tr style=\"text-align: right;\">\n",
       "      <th></th>\n",
       "      <th>code</th>\n",
       "      <th>date</th>\n",
       "      <th>pre_close</th>\n",
       "      <th>open</th>\n",
       "      <th>high</th>\n",
       "      <th>low</th>\n",
       "      <th>close</th>\n",
       "      <th>p_change</th>\n",
       "      <th>volume</th>\n",
       "    </tr>\n",
       "    <tr>\n",
       "      <th>trade_date</th>\n",
       "      <th></th>\n",
       "      <th></th>\n",
       "      <th></th>\n",
       "      <th></th>\n",
       "      <th></th>\n",
       "      <th></th>\n",
       "      <th></th>\n",
       "      <th></th>\n",
       "      <th></th>\n",
       "    </tr>\n",
       "  </thead>\n",
       "  <tbody>\n",
       "    <tr>\n",
       "      <th>2017-10-27</th>\n",
       "      <td>A</td>\n",
       "      <td>2017-10-27</td>\n",
       "      <td>4434.4424</td>\n",
       "      <td>4462.5782</td>\n",
       "      <td>4463.8015</td>\n",
       "      <td>4413.6464</td>\n",
       "      <td>4435.6657</td>\n",
       "      <td>-0.0276</td>\n",
       "      <td>158774</td>\n",
       "    </tr>\n",
       "    <tr>\n",
       "      <th>2017-10-27</th>\n",
       "      <td>AL</td>\n",
       "      <td>2017-10-27</td>\n",
       "      <td>15468.8167</td>\n",
       "      <td>15625.6586</td>\n",
       "      <td>15658.9047</td>\n",
       "      <td>15430.9315</td>\n",
       "      <td>15449.9293</td>\n",
       "      <td>0.1222</td>\n",
       "      <td>293630</td>\n",
       "    </tr>\n",
       "    <tr>\n",
       "      <th>2017-10-27</th>\n",
       "      <td>BU</td>\n",
       "      <td>2017-10-27</td>\n",
       "      <td>3368.8829</td>\n",
       "      <td>3310.3399</td>\n",
       "      <td>3336.9504</td>\n",
       "      <td>3283.7295</td>\n",
       "      <td>3302.3568</td>\n",
       "      <td>1.9945</td>\n",
       "      <td>461826</td>\n",
       "    </tr>\n",
       "    <tr>\n",
       "      <th>2017-10-27</th>\n",
       "      <td>C</td>\n",
       "      <td>2017-10-27</td>\n",
       "      <td>1991.7101</td>\n",
       "      <td>2009.7510</td>\n",
       "      <td>2014.5619</td>\n",
       "      <td>2001.3319</td>\n",
       "      <td>2002.5347</td>\n",
       "      <td>-0.5420</td>\n",
       "      <td>375480</td>\n",
       "    </tr>\n",
       "    <tr>\n",
       "      <th>2017-10-27</th>\n",
       "      <td>CF</td>\n",
       "      <td>2017-10-27</td>\n",
       "      <td>20469.6218</td>\n",
       "      <td>20517.4960</td>\n",
       "      <td>20531.1743</td>\n",
       "      <td>20408.0694</td>\n",
       "      <td>20449.1043</td>\n",
       "      <td>0.1003</td>\n",
       "      <td>84032</td>\n",
       "    </tr>\n",
       "  </tbody>\n",
       "</table>\n",
       "</div>"
      ],
      "text/plain": [
       "           code       date   pre_close        open        high         low  \\\n",
       "trade_date                                                                   \n",
       "2017-10-27    A 2017-10-27   4434.4424   4462.5782   4463.8015   4413.6464   \n",
       "2017-10-27   AL 2017-10-27  15468.8167  15625.6586  15658.9047  15430.9315   \n",
       "2017-10-27   BU 2017-10-27   3368.8829   3310.3399   3336.9504   3283.7295   \n",
       "2017-10-27    C 2017-10-27   1991.7101   2009.7510   2014.5619   2001.3319   \n",
       "2017-10-27   CF 2017-10-27  20469.6218  20517.4960  20531.1743  20408.0694   \n",
       "\n",
       "                 close  p_change  volume  \n",
       "trade_date                                \n",
       "2017-10-27   4435.6657   -0.0276  158774  \n",
       "2017-10-27  15449.9293    0.1222  293630  \n",
       "2017-10-27   3302.3568    1.9945  461826  \n",
       "2017-10-27   2002.5347   -0.5420  375480  \n",
       "2017-10-27  20449.1043    0.1003   84032  "
      ]
     },
     "execution_count": 10,
     "metadata": {},
     "output_type": "execute_result"
    }
   ],
   "source": [
    "market_data = market_data.merge(next_rets, on=['trade_date','code']).merge(\n",
    "    pre_close, on=['trade_date','code'])\n",
    "market_data['date'] = pd.to_datetime(market_data['trade_date'])\n",
    "market_data = market_data.set_index('trade_date')\n",
    "market_data = market_data.rename(columns={\n",
    "    'openPrice':'open','closePrice':'close',\n",
    "    'highestPrice':'high','lowestPrice':'low',\n",
    "    'turnoverVol':'volume','nxt1_ret':'p_change'})\n",
    "market_data['p_change'] = market_data['p_change'] * 100\n",
    "market_data = market_data[['code','date','pre_close','open','high','low','close','p_change','volume']]\n",
    "market_data.head()"
   ]
  },
  {
   "cell_type": "markdown",
   "metadata": {},
   "source": [
    "以黑色系的RB和I为例"
   ]
  },
  {
   "cell_type": "code",
   "execution_count": 11,
   "metadata": {},
   "outputs": [],
   "source": [
    "kl = market_data.reset_index().set_index('code').loc['RB'].set_index('trade_date')\n",
    "benchmark_kl = market_data.reset_index().set_index('code').loc['I'].set_index('trade_date')\n",
    "benchmark_kl = benchmark_kl[-252:]"
   ]
  },
  {
   "cell_type": "markdown",
   "metadata": {},
   "source": [
    "##### 数据对齐"
   ]
  },
  {
   "cell_type": "code",
   "execution_count": 12,
   "metadata": {},
   "outputs": [
    {
     "data": {
      "text/html": [
       "<div>\n",
       "<style scoped>\n",
       "    .dataframe tbody tr th:only-of-type {\n",
       "        vertical-align: middle;\n",
       "    }\n",
       "\n",
       "    .dataframe tbody tr th {\n",
       "        vertical-align: top;\n",
       "    }\n",
       "\n",
       "    .dataframe thead th {\n",
       "        text-align: right;\n",
       "    }\n",
       "</style>\n",
       "<table border=\"1\" class=\"dataframe\">\n",
       "  <thead>\n",
       "    <tr style=\"text-align: right;\">\n",
       "      <th></th>\n",
       "      <th>date</th>\n",
       "      <th>pre_close</th>\n",
       "      <th>open</th>\n",
       "      <th>high</th>\n",
       "      <th>low</th>\n",
       "      <th>close</th>\n",
       "      <th>p_change</th>\n",
       "      <th>volume</th>\n",
       "      <th>date_week</th>\n",
       "    </tr>\n",
       "    <tr>\n",
       "      <th>trade_date</th>\n",
       "      <th></th>\n",
       "      <th></th>\n",
       "      <th></th>\n",
       "      <th></th>\n",
       "      <th></th>\n",
       "      <th></th>\n",
       "      <th></th>\n",
       "      <th></th>\n",
       "      <th></th>\n",
       "    </tr>\n",
       "  </thead>\n",
       "  <tbody>\n",
       "    <tr>\n",
       "      <th>2021-06-08</th>\n",
       "      <td>20210608</td>\n",
       "      <td>4650.6814</td>\n",
       "      <td>4572.1694</td>\n",
       "      <td>4636.8263</td>\n",
       "      <td>4528.7569</td>\n",
       "      <td>4622.0476</td>\n",
       "      <td>0.6176</td>\n",
       "      <td>2189390</td>\n",
       "      <td>1</td>\n",
       "    </tr>\n",
       "    <tr>\n",
       "      <th>2021-06-09</th>\n",
       "      <td>20210609</td>\n",
       "      <td>4773.5296</td>\n",
       "      <td>4622.0476</td>\n",
       "      <td>4710.7200</td>\n",
       "      <td>4597.1085</td>\n",
       "      <td>4650.6814</td>\n",
       "      <td>2.6072</td>\n",
       "      <td>1898245</td>\n",
       "      <td>2</td>\n",
       "    </tr>\n",
       "    <tr>\n",
       "      <th>2021-06-10</th>\n",
       "      <td>20210610</td>\n",
       "      <td>4915.7748</td>\n",
       "      <td>4655.2997</td>\n",
       "      <td>4804.9344</td>\n",
       "      <td>4652.5287</td>\n",
       "      <td>4773.5296</td>\n",
       "      <td>2.9363</td>\n",
       "      <td>2386753</td>\n",
       "      <td>3</td>\n",
       "    </tr>\n",
       "    <tr>\n",
       "      <th>2021-06-11</th>\n",
       "      <td>20210611</td>\n",
       "      <td>4773.5296</td>\n",
       "      <td>4794.7740</td>\n",
       "      <td>4923.1642</td>\n",
       "      <td>4789.2320</td>\n",
       "      <td>4915.7748</td>\n",
       "      <td>-2.9363</td>\n",
       "      <td>2032513</td>\n",
       "      <td>4</td>\n",
       "    </tr>\n",
       "    <tr>\n",
       "      <th>2021-06-15</th>\n",
       "      <td>20210615</td>\n",
       "      <td>4631.2843</td>\n",
       "      <td>4803.0870</td>\n",
       "      <td>4828.9498</td>\n",
       "      <td>4719.9567</td>\n",
       "      <td>4773.5296</td>\n",
       "      <td>-3.0252</td>\n",
       "      <td>1761824</td>\n",
       "      <td>1</td>\n",
       "    </tr>\n",
       "  </tbody>\n",
       "</table>\n",
       "</div>"
      ],
      "text/plain": [
       "                date  pre_close       open       high        low      close  \\\n",
       "trade_date                                                                    \n",
       "2021-06-08  20210608  4650.6814  4572.1694  4636.8263  4528.7569  4622.0476   \n",
       "2021-06-09  20210609  4773.5296  4622.0476  4710.7200  4597.1085  4650.6814   \n",
       "2021-06-10  20210610  4915.7748  4655.2997  4804.9344  4652.5287  4773.5296   \n",
       "2021-06-11  20210611  4773.5296  4794.7740  4923.1642  4789.2320  4915.7748   \n",
       "2021-06-15  20210615  4631.2843  4803.0870  4828.9498  4719.9567  4773.5296   \n",
       "\n",
       "            p_change   volume  date_week  \n",
       "trade_date                                \n",
       "2021-06-08    0.6176  2189390          1  \n",
       "2021-06-09    2.6072  1898245          2  \n",
       "2021-06-10    2.9363  2386753          3  \n",
       "2021-06-11   -2.9363  2032513          4  \n",
       "2021-06-15   -3.0252  1761824          1  "
      ]
     },
     "execution_count": 12,
     "metadata": {},
     "output_type": "execute_result"
    }
   ],
   "source": [
    "kl = _benchmark(kl, benchmark_kl)\n",
    "kl.head()"
   ]
  },
  {
   "cell_type": "markdown",
   "metadata": {},
   "source": [
    "##### 敏感度计算"
   ]
  },
  {
   "cell_type": "markdown",
   "metadata": {},
   "source": [
    "根据分析，一般来说相关计算采用收盘价，但也可以自定义其他行情价格计算"
   ]
  },
  {
   "cell_type": "markdown",
   "metadata": {},
   "source": [
    "指定收盘价为相关性计算"
   ]
  },
  {
   "cell_type": "code",
   "execution_count": 13,
   "metadata": {
    "scrolled": false
   },
   "outputs": [
    {
     "name": "stdout",
     "output_type": "stream",
     "text": [
      "RB 趋势变化敏感速度:0.5733333333333334, I 趋势变化敏感速度:0.5466666666666666, RB与I相关度:0.5930566949489439, RB与I趋势相关敏感速度差0.01581484519863854, 重采样:5\n"
     ]
    },
    {
     "data": {
      "text/plain": [
       "<matplotlib.legend.Legend at 0x7fb37a0828d0>"
      ]
     },
     "execution_count": 13,
     "metadata": {},
     "output_type": "execute_result"
    },
    {
     "data": {
      "image/png": "[encoded data removed]",
      "text/plain": [
       "<Figure size 1008x504 with 1 Axes>"
      ]
     },
     "metadata": {},
     "output_type": "display_data"
    }
   ],
   "source": [
    "name = 'open'\n",
    "resample = 5\n",
    "kl_speed, benchmark_kl_speed, corr = calc_pair_speed(\n",
    "    kl=kl[name],benchmark_kl=benchmark_kl[name], \n",
    "    kl_close=kl['close'],benchmark_close=benchmark_kl['close'],\n",
    "    resample=5)\n",
    "print(\n",
    "    \"RB 趋势变化敏感速度:{0}, I 趋势变化敏感速度:{1}, RB与I相关度:{2}, RB与I趋势相关敏感速度差{3}, 重采样:{4}\".format(\n",
    "    kl_speed, benchmark_kl_speed, corr, (kl_speed-benchmark_kl_speed) * corr, resample))\n",
    "plt.figure(figsize=(14, 7))\n",
    "kl_sl = scaler_one(kl[name])\n",
    "benchmark_kl_sl = scaler_one(benchmark_kl[name])\n",
    "kl_resamp = pd_resample(kl_sl, '{}D'.format(5), how='mean')\n",
    "benchmark_kl_resamp = pd_resample(benchmark_kl_sl,\n",
    "                                              '{}D'.format(5),\n",
    "                                              how='mean')\n",
    "kl_resamp.plot(label='kl', style=['*--'])\n",
    "benchmark_kl_resamp.plot(label='benchmark', style=['^--'])\n",
    "plt.legend(loc='best')"
   ]
  },
  {
   "cell_type": "markdown",
   "metadata": {},
   "source": [
    "不指定收盘价为相关性计算，则采用敏感度价格作为相关性计算"
   ]
  },
  {
   "cell_type": "code",
   "execution_count": 14,
   "metadata": {},
   "outputs": [
    {
     "name": "stdout",
     "output_type": "stream",
     "text": [
      "RB 趋势变化敏感速度:0.6, I 趋势变化敏感速度:0.6266666666666667, RB与I相关度:0.5844809841360213, RB与I趋势相关敏感速度差:-0.015586159576960605, 重采样:5\n"
     ]
    },
    {
     "data": {
      "text/plain": [
       "<matplotlib.legend.Legend at 0x7fb37a2c0860>"
      ]
     },
     "execution_count": 14,
     "metadata": {},
     "output_type": "execute_result"
    },
    {
     "data": {
      "image/png": "[encoded data removed]",
      "text/plain": [
       "<Figure size 1008x504 with 1 Axes>"
      ]
     },
     "metadata": {},
     "output_type": "display_data"
    }
   ],
   "source": [
    "name = 'low'\n",
    "resample = 5\n",
    "kl_speed, benchmark_kl_speed, corr = calc_pair_speed(\n",
    "    kl=kl[name],benchmark_kl=benchmark_kl[name], resample=resample)\n",
    "print(\n",
    "    \"RB 趋势变化敏感速度:{0}, I 趋势变化敏感速度:{1}, RB与I相关度:{2}, RB与I趋势相关敏感速度差:{3}, 重采样:{4}\".format(\n",
    "    kl_speed, benchmark_kl_speed, corr, (kl_speed-benchmark_kl_speed) * corr, resample))\n",
    "plt.figure(figsize=(14, 7))\n",
    "kl_sl = scaler_one(kl[name])\n",
    "benchmark_kl_sl = scaler_one(benchmark_kl[name])\n",
    "kl_resamp = pd_resample(kl_sl, '{}D'.format(5), how='mean')\n",
    "benchmark_kl_resamp = pd_resample(benchmark_kl_sl,\n",
    "                                              '{}D'.format(5),\n",
    "                                              how='mean')\n",
    "kl_resamp.plot(label='kl', style=['*--'])\n",
    "benchmark_kl_resamp.plot(label='benchmark', style=['^--'])\n",
    "plt.legend(loc='best')"
   ]
  },
  {
   "cell_type": "code",
   "execution_count": null,
   "metadata": {},
   "outputs": [],
   "source": []
  }
 ],
 "metadata": {
  "kernelspec": {
   "display_name": "Python 3",
   "language": "python",
   "name": "python3"
  },
  "language_info": {
   "codemirror_mode": {
    "name": "ipython",
    "version": 3
   },
   "file_extension": ".py",
   "mimetype": "text/x-python",
   "name": "python",
   "nbconvert_exporter": "python",
   "pygments_lexer": "ipython3",
   "version": "3.6.7"
  }
 },
 "nbformat": 4,
 "nbformat_minor": 2
}
