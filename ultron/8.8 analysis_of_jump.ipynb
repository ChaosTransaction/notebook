{
 "cells": [
  {
   "cell_type": "markdown",
   "metadata": {},
   "source": [
    "在沙盒环境下，跳空技术分析"
   ]
  },
  {
   "cell_type": "code",
   "execution_count": 1,
   "metadata": {},
   "outputs": [],
   "source": [
    "import os, copy, sys, itertools, pdb\n",
    "os.environ['ULTRON_DATA'] = 'keim'\n",
    "os.environ['IGNORE_WARNINGS'] = '1'\n",
    "import pandas as pd\n",
    "import numpy as np\n",
    "from matplotlib import pyplot as plt"
   ]
  },
  {
   "cell_type": "code",
   "execution_count": 2,
   "metadata": {},
   "outputs": [
    {
     "name": "stdout",
     "output_type": "stream",
     "text": [
      "/var/log/ultron/2022-10-03.log\n"
     ]
    }
   ],
   "source": [
    "from ultron.ump.technical.jump import calc_jump, calc_jump_line,calc_jump_line_weight\n",
    "from ultron.ump.technical.line import Line, K_PLT_MAP_STYLE"
   ]
  },
  {
   "cell_type": "code",
   "execution_count": 3,
   "metadata": {},
   "outputs": [],
   "source": [
    "from ultron.env import *"
   ]
  },
  {
   "cell_type": "code",
   "execution_count": 4,
   "metadata": {},
   "outputs": [
    {
     "name": "stderr",
     "output_type": "stream",
     "text": [
      "2022-10-03 20:29:35,835 - [env.py:81] - ultron - INFO - enable example env will only read /home/kerry/ultron/rom/sandbox/keim\n"
     ]
    }
   ],
   "source": [
    "enable_example_env()"
   ]
  },
  {
   "cell_type": "markdown",
   "metadata": {},
   "source": [
    "#### 加载行情"
   ]
  },
  {
   "cell_type": "code",
   "execution_count": 5,
   "metadata": {},
   "outputs": [],
   "source": [
    "market_data = pd.read_csv(os.path.join(g_project_data, 'market_data.csv'), index_col=0)\n",
    "market_data['trade_date'] = pd.to_datetime(market_data['trade_date'])"
   ]
  },
  {
   "cell_type": "code",
   "execution_count": 6,
   "metadata": {},
   "outputs": [],
   "source": [
    "def next_returs_impl(price_data, key, name):\n",
    "    price_tb = price_data[key].unstack()\n",
    "    price_tb.fillna(method='pad', inplace=True)\n",
    "    return_tb = np.log(price_tb.shift(-1) / price_tb)\n",
    "    return_tb = return_tb.replace([np.inf, -np.inf], np.nan)\n",
    "    return_tb = return_tb.stack().reindex(price_data.index)\n",
    "    return_tb.name = name\n",
    "    return return_tb"
   ]
  },
  {
   "cell_type": "code",
   "execution_count": 7,
   "metadata": {},
   "outputs": [
    {
     "data": {
      "text/html": [
       "<div>\n",
       "<style scoped>\n",
       "    .dataframe tbody tr th:only-of-type {\n",
       "        vertical-align: middle;\n",
       "    }\n",
       "\n",
       "    .dataframe tbody tr th {\n",
       "        vertical-align: top;\n",
       "    }\n",
       "\n",
       "    .dataframe thead th {\n",
       "        text-align: right;\n",
       "    }\n",
       "</style>\n",
       "<table border=\"1\" class=\"dataframe\">\n",
       "  <thead>\n",
       "    <tr style=\"text-align: right;\">\n",
       "      <th></th>\n",
       "      <th>trade_date</th>\n",
       "      <th>code</th>\n",
       "      <th>nxt1_ret</th>\n",
       "    </tr>\n",
       "  </thead>\n",
       "  <tbody>\n",
       "    <tr>\n",
       "      <th>0</th>\n",
       "      <td>2017-10-27</td>\n",
       "      <td>A</td>\n",
       "      <td>-0.0003</td>\n",
       "    </tr>\n",
       "    <tr>\n",
       "      <th>1</th>\n",
       "      <td>2017-10-27</td>\n",
       "      <td>AL</td>\n",
       "      <td>0.0012</td>\n",
       "    </tr>\n",
       "    <tr>\n",
       "      <th>2</th>\n",
       "      <td>2017-10-27</td>\n",
       "      <td>BU</td>\n",
       "      <td>0.0199</td>\n",
       "    </tr>\n",
       "    <tr>\n",
       "      <th>3</th>\n",
       "      <td>2017-10-27</td>\n",
       "      <td>C</td>\n",
       "      <td>-0.0054</td>\n",
       "    </tr>\n",
       "    <tr>\n",
       "      <th>4</th>\n",
       "      <td>2017-10-27</td>\n",
       "      <td>CF</td>\n",
       "      <td>0.0010</td>\n",
       "    </tr>\n",
       "  </tbody>\n",
       "</table>\n",
       "</div>"
      ],
      "text/plain": [
       "  trade_date code  nxt1_ret\n",
       "0 2017-10-27    A   -0.0003\n",
       "1 2017-10-27   AL    0.0012\n",
       "2 2017-10-27   BU    0.0199\n",
       "3 2017-10-27    C   -0.0054\n",
       "4 2017-10-27   CF    0.0010"
      ]
     },
     "execution_count": 7,
     "metadata": {},
     "output_type": "execute_result"
    }
   ],
   "source": [
    "next_rets = next_returs_impl(\n",
    "    market_data.set_index(['trade_date','code']),'closePrice','nxt1_ret').reset_index()\n",
    "next_rets['trade_date'] = pd.to_datetime(next_rets['trade_date'])\n",
    "next_rets.head()"
   ]
  },
  {
   "cell_type": "code",
   "execution_count": 8,
   "metadata": {},
   "outputs": [],
   "source": [
    "def pre_close_impl(price_data, key, name):\n",
    "    price_tb = price_data[key].unstack()\n",
    "    price_tb.fillna(method='pad', inplace=True)\n",
    "    return_tb = price_tb.shift(-1)\n",
    "    return_tb = return_tb.stack().reindex(price_data.index)\n",
    "    return_tb.name = name\n",
    "    return return_tb"
   ]
  },
  {
   "cell_type": "code",
   "execution_count": 9,
   "metadata": {},
   "outputs": [
    {
     "data": {
      "text/html": [
       "<div>\n",
       "<style scoped>\n",
       "    .dataframe tbody tr th:only-of-type {\n",
       "        vertical-align: middle;\n",
       "    }\n",
       "\n",
       "    .dataframe tbody tr th {\n",
       "        vertical-align: top;\n",
       "    }\n",
       "\n",
       "    .dataframe thead th {\n",
       "        text-align: right;\n",
       "    }\n",
       "</style>\n",
       "<table border=\"1\" class=\"dataframe\">\n",
       "  <thead>\n",
       "    <tr style=\"text-align: right;\">\n",
       "      <th></th>\n",
       "      <th>trade_date</th>\n",
       "      <th>code</th>\n",
       "      <th>pre_close</th>\n",
       "    </tr>\n",
       "  </thead>\n",
       "  <tbody>\n",
       "    <tr>\n",
       "      <th>0</th>\n",
       "      <td>2017-10-27</td>\n",
       "      <td>A</td>\n",
       "      <td>4434.4424</td>\n",
       "    </tr>\n",
       "    <tr>\n",
       "      <th>1</th>\n",
       "      <td>2017-10-27</td>\n",
       "      <td>AL</td>\n",
       "      <td>15468.8167</td>\n",
       "    </tr>\n",
       "    <tr>\n",
       "      <th>2</th>\n",
       "      <td>2017-10-27</td>\n",
       "      <td>BU</td>\n",
       "      <td>3368.8829</td>\n",
       "    </tr>\n",
       "    <tr>\n",
       "      <th>3</th>\n",
       "      <td>2017-10-27</td>\n",
       "      <td>C</td>\n",
       "      <td>1991.7101</td>\n",
       "    </tr>\n",
       "    <tr>\n",
       "      <th>4</th>\n",
       "      <td>2017-10-27</td>\n",
       "      <td>CF</td>\n",
       "      <td>20469.6218</td>\n",
       "    </tr>\n",
       "  </tbody>\n",
       "</table>\n",
       "</div>"
      ],
      "text/plain": [
       "  trade_date code   pre_close\n",
       "0 2017-10-27    A   4434.4424\n",
       "1 2017-10-27   AL  15468.8167\n",
       "2 2017-10-27   BU   3368.8829\n",
       "3 2017-10-27    C   1991.7101\n",
       "4 2017-10-27   CF  20469.6218"
      ]
     },
     "execution_count": 9,
     "metadata": {},
     "output_type": "execute_result"
    }
   ],
   "source": [
    "pre_close = pre_close_impl(\n",
    "    market_data.set_index(['trade_date','code']),'closePrice','pre_close').reset_index()\n",
    "pre_close['trade_date'] = pd.to_datetime(pre_close['trade_date'])\n",
    "pre_close.head()"
   ]
  },
  {
   "cell_type": "code",
   "execution_count": 10,
   "metadata": {},
   "outputs": [
    {
     "data": {
      "text/html": [
       "<div>\n",
       "<style scoped>\n",
       "    .dataframe tbody tr th:only-of-type {\n",
       "        vertical-align: middle;\n",
       "    }\n",
       "\n",
       "    .dataframe tbody tr th {\n",
       "        vertical-align: top;\n",
       "    }\n",
       "\n",
       "    .dataframe thead th {\n",
       "        text-align: right;\n",
       "    }\n",
       "</style>\n",
       "<table border=\"1\" class=\"dataframe\">\n",
       "  <thead>\n",
       "    <tr style=\"text-align: right;\">\n",
       "      <th></th>\n",
       "      <th>trade_date</th>\n",
       "      <th>code</th>\n",
       "      <th>openPrice</th>\n",
       "      <th>highestPrice</th>\n",
       "      <th>lowestPrice</th>\n",
       "      <th>closePrice</th>\n",
       "      <th>turnoverVol</th>\n",
       "      <th>nxt1_ret</th>\n",
       "      <th>pre_close</th>\n",
       "    </tr>\n",
       "  </thead>\n",
       "  <tbody>\n",
       "    <tr>\n",
       "      <th>0</th>\n",
       "      <td>2017-10-27</td>\n",
       "      <td>A</td>\n",
       "      <td>4462.5782</td>\n",
       "      <td>4463.8015</td>\n",
       "      <td>4413.6464</td>\n",
       "      <td>4435.6657</td>\n",
       "      <td>158774</td>\n",
       "      <td>-0.0003</td>\n",
       "      <td>4434.4424</td>\n",
       "    </tr>\n",
       "    <tr>\n",
       "      <th>1</th>\n",
       "      <td>2017-10-27</td>\n",
       "      <td>AL</td>\n",
       "      <td>15625.6586</td>\n",
       "      <td>15658.9047</td>\n",
       "      <td>15430.9315</td>\n",
       "      <td>15449.9293</td>\n",
       "      <td>293630</td>\n",
       "      <td>0.0012</td>\n",
       "      <td>15468.8167</td>\n",
       "    </tr>\n",
       "    <tr>\n",
       "      <th>2</th>\n",
       "      <td>2017-10-27</td>\n",
       "      <td>BU</td>\n",
       "      <td>3310.3399</td>\n",
       "      <td>3336.9504</td>\n",
       "      <td>3283.7295</td>\n",
       "      <td>3302.3568</td>\n",
       "      <td>461826</td>\n",
       "      <td>0.0199</td>\n",
       "      <td>3368.8829</td>\n",
       "    </tr>\n",
       "    <tr>\n",
       "      <th>3</th>\n",
       "      <td>2017-10-27</td>\n",
       "      <td>C</td>\n",
       "      <td>2009.7510</td>\n",
       "      <td>2014.5619</td>\n",
       "      <td>2001.3319</td>\n",
       "      <td>2002.5347</td>\n",
       "      <td>375480</td>\n",
       "      <td>-0.0054</td>\n",
       "      <td>1991.7101</td>\n",
       "    </tr>\n",
       "    <tr>\n",
       "      <th>4</th>\n",
       "      <td>2017-10-27</td>\n",
       "      <td>CF</td>\n",
       "      <td>20517.4960</td>\n",
       "      <td>20531.1743</td>\n",
       "      <td>20408.0694</td>\n",
       "      <td>20449.1043</td>\n",
       "      <td>84032</td>\n",
       "      <td>0.0010</td>\n",
       "      <td>20469.6218</td>\n",
       "    </tr>\n",
       "  </tbody>\n",
       "</table>\n",
       "</div>"
      ],
      "text/plain": [
       "  trade_date code   openPrice  highestPrice  lowestPrice  closePrice  \\\n",
       "0 2017-10-27    A   4462.5782     4463.8015    4413.6464   4435.6657   \n",
       "1 2017-10-27   AL  15625.6586    15658.9047   15430.9315  15449.9293   \n",
       "2 2017-10-27   BU   3310.3399     3336.9504    3283.7295   3302.3568   \n",
       "3 2017-10-27    C   2009.7510     2014.5619    2001.3319   2002.5347   \n",
       "4 2017-10-27   CF  20517.4960    20531.1743   20408.0694  20449.1043   \n",
       "\n",
       "   turnoverVol  nxt1_ret   pre_close  \n",
       "0       158774   -0.0003   4434.4424  \n",
       "1       293630    0.0012  15468.8167  \n",
       "2       461826    0.0199   3368.8829  \n",
       "3       375480   -0.0054   1991.7101  \n",
       "4        84032    0.0010  20469.6218  "
      ]
     },
     "execution_count": 10,
     "metadata": {},
     "output_type": "execute_result"
    }
   ],
   "source": [
    "market_data = market_data.merge(next_rets, on=['trade_date','code']).merge(\n",
    "    pre_close, on=['trade_date','code'])\n",
    "market_data.head()"
   ]
  },
  {
   "cell_type": "code",
   "execution_count": 11,
   "metadata": {},
   "outputs": [
    {
     "data": {
      "text/html": [
       "<div>\n",
       "<style scoped>\n",
       "    .dataframe tbody tr th:only-of-type {\n",
       "        vertical-align: middle;\n",
       "    }\n",
       "\n",
       "    .dataframe tbody tr th {\n",
       "        vertical-align: top;\n",
       "    }\n",
       "\n",
       "    .dataframe thead th {\n",
       "        text-align: right;\n",
       "    }\n",
       "</style>\n",
       "<table border=\"1\" class=\"dataframe\">\n",
       "  <thead>\n",
       "    <tr style=\"text-align: right;\">\n",
       "      <th></th>\n",
       "      <th>open</th>\n",
       "      <th>high</th>\n",
       "      <th>low</th>\n",
       "      <th>close</th>\n",
       "      <th>volume</th>\n",
       "      <th>p_change</th>\n",
       "      <th>pre_close</th>\n",
       "      <th>date</th>\n",
       "    </tr>\n",
       "    <tr>\n",
       "      <th>trade_date</th>\n",
       "      <th></th>\n",
       "      <th></th>\n",
       "      <th></th>\n",
       "      <th></th>\n",
       "      <th></th>\n",
       "      <th></th>\n",
       "      <th></th>\n",
       "      <th></th>\n",
       "    </tr>\n",
       "  </thead>\n",
       "  <tbody>\n",
       "    <tr>\n",
       "      <th>2017-10-27</th>\n",
       "      <td>201.2739</td>\n",
       "      <td>201.9433</td>\n",
       "      <td>190.3400</td>\n",
       "      <td>191.0094</td>\n",
       "      <td>3088966</td>\n",
       "      <td>-0.7034</td>\n",
       "      <td>189.6705</td>\n",
       "      <td>20171027</td>\n",
       "    </tr>\n",
       "    <tr>\n",
       "      <th>2017-10-30</th>\n",
       "      <td>189.8937</td>\n",
       "      <td>193.2408</td>\n",
       "      <td>187.8854</td>\n",
       "      <td>189.6705</td>\n",
       "      <td>2271780</td>\n",
       "      <td>0.7034</td>\n",
       "      <td>191.0094</td>\n",
       "      <td>20171030</td>\n",
       "    </tr>\n",
       "    <tr>\n",
       "      <th>2017-10-31</th>\n",
       "      <td>189.6705</td>\n",
       "      <td>193.2408</td>\n",
       "      <td>188.1085</td>\n",
       "      <td>191.0094</td>\n",
       "      <td>2071056</td>\n",
       "      <td>0.3499</td>\n",
       "      <td>191.6788</td>\n",
       "      <td>20171031</td>\n",
       "    </tr>\n",
       "    <tr>\n",
       "      <th>2017-11-01</th>\n",
       "      <td>191.4557</td>\n",
       "      <td>195.9185</td>\n",
       "      <td>190.1168</td>\n",
       "      <td>191.6788</td>\n",
       "      <td>2236238</td>\n",
       "      <td>2.8688</td>\n",
       "      <td>197.2574</td>\n",
       "      <td>20171101</td>\n",
       "    </tr>\n",
       "    <tr>\n",
       "      <th>2017-11-02</th>\n",
       "      <td>191.2325</td>\n",
       "      <td>199.4888</td>\n",
       "      <td>190.1168</td>\n",
       "      <td>197.2574</td>\n",
       "      <td>2644964</td>\n",
       "      <td>-0.5672</td>\n",
       "      <td>196.1416</td>\n",
       "      <td>20171102</td>\n",
       "    </tr>\n",
       "  </tbody>\n",
       "</table>\n",
       "</div>"
      ],
      "text/plain": [
       "                open      high       low     close   volume  p_change  \\\n",
       "trade_date                                                              \n",
       "2017-10-27  201.2739  201.9433  190.3400  191.0094  3088966   -0.7034   \n",
       "2017-10-30  189.8937  193.2408  187.8854  189.6705  2271780    0.7034   \n",
       "2017-10-31  189.6705  193.2408  188.1085  191.0094  2071056    0.3499   \n",
       "2017-11-01  191.4557  195.9185  190.1168  191.6788  2236238    2.8688   \n",
       "2017-11-02  191.2325  199.4888  190.1168  197.2574  2644964   -0.5672   \n",
       "\n",
       "            pre_close      date  \n",
       "trade_date                       \n",
       "2017-10-27   189.6705  20171027  \n",
       "2017-10-30   191.0094  20171030  \n",
       "2017-10-31   191.6788  20171031  \n",
       "2017-11-01   197.2574  20171101  \n",
       "2017-11-02   196.1416  20171102  "
      ]
     },
     "execution_count": 11,
     "metadata": {},
     "output_type": "execute_result"
    }
   ],
   "source": [
    "market_data = market_data.set_index('code').loc['I']\n",
    "market_data = market_data.rename(columns={\n",
    "    'closePrice':'close','openPrice':'open',\n",
    "    'highestPrice':'high','lowestPrice':'low',\n",
    "    'turnoverVol':'volume','nxt1_ret':'p_change'})\n",
    "market_data['p_change'] = market_data['p_change'] * 100\n",
    "market_data['date'] = pd.to_datetime(market_data['trade_date']).dt.strftime('%Y%m%d').astype(int)\n",
    "market_data = market_data.set_index('trade_date')\n",
    "market_data.head()"
   ]
  },
  {
   "cell_type": "code",
   "execution_count": 12,
   "metadata": {},
   "outputs": [
    {
     "data": {
      "text/html": [
       "<div>\n",
       "<style scoped>\n",
       "    .dataframe tbody tr th:only-of-type {\n",
       "        vertical-align: middle;\n",
       "    }\n",
       "\n",
       "    .dataframe tbody tr th {\n",
       "        vertical-align: top;\n",
       "    }\n",
       "\n",
       "    .dataframe thead th {\n",
       "        text-align: right;\n",
       "    }\n",
       "</style>\n",
       "<table border=\"1\" class=\"dataframe\">\n",
       "  <thead>\n",
       "    <tr style=\"text-align: right;\">\n",
       "      <th></th>\n",
       "      <th>open</th>\n",
       "      <th>high</th>\n",
       "      <th>low</th>\n",
       "      <th>close</th>\n",
       "      <th>volume</th>\n",
       "      <th>p_change</th>\n",
       "      <th>pre_close</th>\n",
       "      <th>date</th>\n",
       "    </tr>\n",
       "    <tr>\n",
       "      <th>trade_date</th>\n",
       "      <th></th>\n",
       "      <th></th>\n",
       "      <th></th>\n",
       "      <th></th>\n",
       "      <th></th>\n",
       "      <th></th>\n",
       "      <th></th>\n",
       "      <th></th>\n",
       "    </tr>\n",
       "  </thead>\n",
       "  <tbody>\n",
       "    <tr>\n",
       "      <th>2021-06-08</th>\n",
       "      <td>982.3640</td>\n",
       "      <td>1011.3345</td>\n",
       "      <td>970.9514</td>\n",
       "      <td>1008.7008</td>\n",
       "      <td>407395</td>\n",
       "      <td>2.2376</td>\n",
       "      <td>1031.5261</td>\n",
       "      <td>20210608</td>\n",
       "    </tr>\n",
       "    <tr>\n",
       "      <th>2021-06-09</th>\n",
       "      <td>1013.9682</td>\n",
       "      <td>1046.0113</td>\n",
       "      <td>1009.5787</td>\n",
       "      <td>1031.5261</td>\n",
       "      <td>383946</td>\n",
       "      <td>0.2550</td>\n",
       "      <td>1034.1598</td>\n",
       "      <td>20210609</td>\n",
       "    </tr>\n",
       "    <tr>\n",
       "      <th>2021-06-10</th>\n",
       "      <td>1031.5261</td>\n",
       "      <td>1047.7671</td>\n",
       "      <td>1019.6745</td>\n",
       "      <td>1034.1598</td>\n",
       "      <td>345012</td>\n",
       "      <td>5.6923</td>\n",
       "      <td>1094.7345</td>\n",
       "      <td>20210610</td>\n",
       "    </tr>\n",
       "    <tr>\n",
       "      <th>2021-06-11</th>\n",
       "      <td>1038.9882</td>\n",
       "      <td>1095.6124</td>\n",
       "      <td>1038.9882</td>\n",
       "      <td>1094.7345</td>\n",
       "      <td>429828</td>\n",
       "      <td>-1.7392</td>\n",
       "      <td>1075.8598</td>\n",
       "      <td>20210611</td>\n",
       "    </tr>\n",
       "    <tr>\n",
       "      <th>2021-06-15</th>\n",
       "      <td>1094.7345</td>\n",
       "      <td>1094.7345</td>\n",
       "      <td>1040.3050</td>\n",
       "      <td>1075.8598</td>\n",
       "      <td>349292</td>\n",
       "      <td>-2.3113</td>\n",
       "      <td>1051.2787</td>\n",
       "      <td>20210615</td>\n",
       "    </tr>\n",
       "  </tbody>\n",
       "</table>\n",
       "</div>"
      ],
      "text/plain": [
       "                 open       high        low      close  volume  p_change  \\\n",
       "trade_date                                                                 \n",
       "2021-06-08   982.3640  1011.3345   970.9514  1008.7008  407395    2.2376   \n",
       "2021-06-09  1013.9682  1046.0113  1009.5787  1031.5261  383946    0.2550   \n",
       "2021-06-10  1031.5261  1047.7671  1019.6745  1034.1598  345012    5.6923   \n",
       "2021-06-11  1038.9882  1095.6124  1038.9882  1094.7345  429828   -1.7392   \n",
       "2021-06-15  1094.7345  1094.7345  1040.3050  1075.8598  349292   -2.3113   \n",
       "\n",
       "            pre_close      date  \n",
       "trade_date                       \n",
       "2021-06-08  1031.5261  20210608  \n",
       "2021-06-09  1034.1598  20210609  \n",
       "2021-06-10  1094.7345  20210610  \n",
       "2021-06-11  1075.8598  20210611  \n",
       "2021-06-15  1051.2787  20210615  "
      ]
     },
     "execution_count": 12,
     "metadata": {},
     "output_type": "execute_result"
    }
   ],
   "source": [
    "kl_pd = market_data[-252:]\n",
    "kl_pd.head()"
   ]
  },
  {
   "cell_type": "markdown",
   "metadata": {},
   "source": [
    "##### 跳空统计分析"
   ]
  },
  {
   "cell_type": "code",
   "execution_count": 13,
   "metadata": {},
   "outputs": [
    {
     "data": {
      "text/html": [
       "<div>\n",
       "<style scoped>\n",
       "    .dataframe tbody tr th:only-of-type {\n",
       "        vertical-align: middle;\n",
       "    }\n",
       "\n",
       "    .dataframe tbody tr th {\n",
       "        vertical-align: top;\n",
       "    }\n",
       "\n",
       "    .dataframe thead th {\n",
       "        text-align: right;\n",
       "    }\n",
       "</style>\n",
       "<table border=\"1\" class=\"dataframe\">\n",
       "  <thead>\n",
       "    <tr style=\"text-align: right;\">\n",
       "      <th></th>\n",
       "    </tr>\n",
       "  </thead>\n",
       "  <tbody>\n",
       "  </tbody>\n",
       "</table>\n",
       "</div>"
      ],
      "text/plain": [
       "Empty DataFrame\n",
       "Columns: []\n",
       "Index: []"
      ]
     },
     "execution_count": 13,
     "metadata": {},
     "output_type": "execute_result"
    }
   ],
   "source": [
    "calc_jump(kl_pd, jump_diff_factor=1)"
   ]
  },
  {
   "cell_type": "markdown",
   "metadata": {},
   "source": [
    "#### 跳空缺口筛选"
   ]
  },
  {
   "cell_type": "code",
   "execution_count": 14,
   "metadata": {},
   "outputs": [
    {
     "data": {
      "image/png": "[encoded data removed]",
      "text/plain": [
       "<Figure size 1008x504 with 1 Axes>"
      ]
     },
     "metadata": {},
     "output_type": "display_data"
    }
   ],
   "source": [
    "jump_lines = calc_jump_line(kl_pd, power_threshold=2.0,jump_diff_factor=1.0)\n",
    "plt.figure(figsize=(14, 7))\n",
    "plt.plot(kl_pd.close)\n",
    "for jump_tuple, cs_color in zip(jump_lines,itertools.cycle(K_PLT_MAP_STYLE)):\n",
    "    # 跳空点位对应的价格上面绘制横线，label标注跳空能量\n",
    "    plt.axhline(jump_tuple.price,\n",
    "                color=cs_color,\n",
    "                label='power:' + str(jump_tuple.power))\n",
    "    # 跳空描述：日期：up／down， 根据jump_tuple.direction跳空方向\n",
    "    jump_desc = '{} : {}'.format(jump_tuple.date, ' up ' if jump_tuple.direction > 0 else ' down ')\n",
    "    # 再把这个跳空时间点上画一个圆圈进行标示\n",
    "    plt.plot(jump_tuple.date, jump_tuple.price,'ro',\n",
    "             markersize=12,markeredgewidth=(1.0 * jump_tuple.power),\n",
    "             markerfacecolor='None', markeredgecolor=cs_color,label=jump_desc)\n",
    "\n",
    "    plt.legend(bbox_to_anchor=(1.05, 1), loc=2, borderaxespad=0.)\n",
    "    plt.title('jump lines')"
   ]
  },
  {
   "cell_type": "markdown",
   "metadata": {},
   "source": [
    "##### 缺口时间加权筛选"
   ]
  },
  {
   "cell_type": "code",
   "execution_count": 15,
   "metadata": {},
   "outputs": [
    {
     "data": {
      "image/png": "[encoded data removed]",
      "text/plain": [
       "<Figure size 1008x504 with 1 Axes>"
      ]
     },
     "metadata": {},
     "output_type": "display_data"
    }
   ],
   "source": [
    "jump_lines = calc_jump_line_weight(kl_pd, sw=(0.3, 0.7), power_threshold=2.0,jump_diff_factor=1.0)\n",
    "plt.figure(figsize=(14, 7))\n",
    "plt.plot(kl_pd.close)\n",
    "for jump_tuple, cs_color in zip(jump_lines,itertools.cycle(K_PLT_MAP_STYLE)):\n",
    "    # 跳空点位对应的价格上面绘制横线，label标注跳空能量\n",
    "    plt.axhline(jump_tuple.price,\n",
    "                color=cs_color,\n",
    "                label='power:' + str(jump_tuple.power))\n",
    "    # 跳空描述：日期：up／down， 根据jump_tuple.direction跳空方向\n",
    "    jump_desc = '{} : {}'.format(jump_tuple.date, ' up ' if jump_tuple.direction > 0 else ' down ')\n",
    "    # 再把这个跳空时间点上画一个圆圈进行标示\n",
    "    plt.plot(jump_tuple.date, jump_tuple.price,'ro',\n",
    "             markersize=12,markeredgewidth=(1.0 * jump_tuple.power),\n",
    "             markerfacecolor='None', markeredgecolor=cs_color,label=jump_desc)\n",
    "\n",
    "    plt.legend(bbox_to_anchor=(1.05, 1), loc=2, borderaxespad=0.)\n",
    "    plt.title('jump lines')"
   ]
  },
  {
   "cell_type": "code",
   "execution_count": null,
   "metadata": {},
   "outputs": [],
   "source": []
  }
 ],
 "metadata": {
  "kernelspec": {
   "display_name": "Python 3",
   "language": "python",
   "name": "python3"
  },
  "language_info": {
   "codemirror_mode": {
    "name": "ipython",
    "version": 3
   },
   "file_extension": ".py",
   "mimetype": "text/x-python",
   "name": "python",
   "nbconvert_exporter": "python",
   "pygments_lexer": "ipython3",
   "version": "3.6.7"
  }
 },
 "nbformat": 4,
 "nbformat_minor": 2
}
